{
  "cells": [
    {
      "cell_type": "markdown",
      "metadata": {
        "id": "view-in-github",
        "colab_type": "text"
      },
      "source": [
        "<a href=\"https://colab.research.google.com/github/udaybhaskar717/Dphi/blob/main/Smart_Grid_Stability_Prediction.ipynb\" target=\"_parent\"><img src=\"https://colab.research.google.com/assets/colab-badge.svg\" alt=\"Open In Colab\"/></a>"
      ]
    },
    {
      "cell_type": "markdown",
      "source": [
        "# EDA"
      ],
      "metadata": {
        "id": "94vFdC4LvVd7"
      }
    },
    {
      "cell_type": "code",
      "execution_count": null,
      "metadata": {
        "id": "yBik0ieduTs4"
      },
      "outputs": [],
      "source": [
        "from sklearn.preprocessing            import StandardScaler, MinMaxScaler, RobustScaler, MaxAbsScaler\n",
        "import pandas as pd\n",
        "import numpy as np\n",
        "import re\n",
        "import seaborn as sns\n",
        "import matplotlib.pyplot as plt\n",
        "import matplotlib.colors\n",
        "\n",
        "from sklearn                 import preprocessing\n",
        "from sklearn.model_selection import train_test_split\n",
        "from sklearn.ensemble        import RandomForestRegressor\n",
        "from sklearn.datasets        import make_regression\n",
        "from sklearn.model_selection import GridSearchCV\n",
        "from sklearn                 import ensemble\n",
        "from sklearn.metrics         import r2_score\n",
        "from sklearn                 import tree\n",
        "from google.colab            import files\n",
        "from sklearn                 import tree\n",
        "from sklearn.decomposition import KernelPCA\n",
        "import matplotlib.colors"
      ]
    },
    {
      "cell_type": "code",
      "execution_count": null,
      "metadata": {
        "id": "fOcbIEVTvbLI"
      },
      "outputs": [],
      "source": [
        "data_train = pd.read_csv(\"/content/train_dataset (1).csv\")\n",
        "data_test = pd.read_csv(\"/content/test_dataset (1).csv\")"
      ]
    },
    {
      "cell_type": "code",
      "execution_count": null,
      "metadata": {
        "id": "FsbBdwrCvtmh",
        "colab": {
          "base_uri": "https://localhost:8080/",
          "height": 488
        },
        "outputId": "1a41ce43-81ba-4fa7-b028-692d9225ce5d"
      },
      "outputs": [
        {
          "output_type": "execute_result",
          "data": {
            "text/plain": [
              "           tau1      tau2      tau3      tau4        p1        p2        p3  \\\n",
              "0      5.813047  8.315720  7.902158  5.607994  3.882225 -1.219286 -1.718614   \n",
              "1      1.004888  9.964462  3.507471  6.466059  3.661015 -0.955675 -1.829410   \n",
              "2      5.736974  9.505319  5.749539  3.171354  3.103797 -0.611009 -0.633226   \n",
              "3      4.766037  3.754471  4.486994  5.557779  2.349806 -1.005188 -0.524797   \n",
              "4      4.114349  1.111495  0.535156  5.945791  4.765681 -0.983886 -1.927222   \n",
              "...         ...       ...       ...       ...       ...       ...       ...   \n",
              "47995  6.898493  0.892970  7.073462  0.829088  3.870392 -1.987879 -0.765324   \n",
              "47996  5.397788  7.204489  2.379857  5.400526  3.783470 -1.340151 -1.289212   \n",
              "47997  8.770234  7.252446  1.252668  4.154315  3.767645 -1.781622 -0.548951   \n",
              "47998  4.686823  1.765640  2.308544  0.782001  3.997920 -0.859745 -1.890413   \n",
              "47999  1.624431  0.994089  3.064577  2.267519  4.493745 -1.612728 -1.042351   \n",
              "\n",
              "             p4        g1        g2        g3        g4      stab  \n",
              "0     -0.944324  0.098318  0.776069  0.099405  0.297344  0.014721  \n",
              "1     -0.875929  0.149197  0.730138  0.698466  0.196442  0.001280  \n",
              "2     -1.859562  0.829826  0.821610  0.931990  0.651432  0.081829  \n",
              "3     -0.819822  0.923570  0.304512  0.108366  0.453463  0.030169  \n",
              "4     -1.854574  0.967572  0.510802  0.670605  0.511837 -0.015164  \n",
              "...         ...       ...       ...       ...       ...       ...  \n",
              "47995 -1.117190  0.444061  0.319689  0.811726  0.661333 -0.012710  \n",
              "47996 -1.154106  0.981968  0.782510  0.854201  0.795580  0.090062  \n",
              "47997 -1.437072  0.165098  0.153895  0.738758  0.833579 -0.043124  \n",
              "47998 -1.247763  0.941998  0.194774  0.944924  0.688301 -0.000463  \n",
              "47999 -1.838665  0.068170  0.782304  0.522170  0.908119 -0.019023  \n",
              "\n",
              "[48000 rows x 13 columns]"
            ],
            "text/html": [
              "\n",
              "  <div id=\"df-5c84e354-7e5d-41c5-a58b-62a561897477\">\n",
              "    <div class=\"colab-df-container\">\n",
              "      <div>\n",
              "<style scoped>\n",
              "    .dataframe tbody tr th:only-of-type {\n",
              "        vertical-align: middle;\n",
              "    }\n",
              "\n",
              "    .dataframe tbody tr th {\n",
              "        vertical-align: top;\n",
              "    }\n",
              "\n",
              "    .dataframe thead th {\n",
              "        text-align: right;\n",
              "    }\n",
              "</style>\n",
              "<table border=\"1\" class=\"dataframe\">\n",
              "  <thead>\n",
              "    <tr style=\"text-align: right;\">\n",
              "      <th></th>\n",
              "      <th>tau1</th>\n",
              "      <th>tau2</th>\n",
              "      <th>tau3</th>\n",
              "      <th>tau4</th>\n",
              "      <th>p1</th>\n",
              "      <th>p2</th>\n",
              "      <th>p3</th>\n",
              "      <th>p4</th>\n",
              "      <th>g1</th>\n",
              "      <th>g2</th>\n",
              "      <th>g3</th>\n",
              "      <th>g4</th>\n",
              "      <th>stab</th>\n",
              "    </tr>\n",
              "  </thead>\n",
              "  <tbody>\n",
              "    <tr>\n",
              "      <th>0</th>\n",
              "      <td>5.813047</td>\n",
              "      <td>8.315720</td>\n",
              "      <td>7.902158</td>\n",
              "      <td>5.607994</td>\n",
              "      <td>3.882225</td>\n",
              "      <td>-1.219286</td>\n",
              "      <td>-1.718614</td>\n",
              "      <td>-0.944324</td>\n",
              "      <td>0.098318</td>\n",
              "      <td>0.776069</td>\n",
              "      <td>0.099405</td>\n",
              "      <td>0.297344</td>\n",
              "      <td>0.014721</td>\n",
              "    </tr>\n",
              "    <tr>\n",
              "      <th>1</th>\n",
              "      <td>1.004888</td>\n",
              "      <td>9.964462</td>\n",
              "      <td>3.507471</td>\n",
              "      <td>6.466059</td>\n",
              "      <td>3.661015</td>\n",
              "      <td>-0.955675</td>\n",
              "      <td>-1.829410</td>\n",
              "      <td>-0.875929</td>\n",
              "      <td>0.149197</td>\n",
              "      <td>0.730138</td>\n",
              "      <td>0.698466</td>\n",
              "      <td>0.196442</td>\n",
              "      <td>0.001280</td>\n",
              "    </tr>\n",
              "    <tr>\n",
              "      <th>2</th>\n",
              "      <td>5.736974</td>\n",
              "      <td>9.505319</td>\n",
              "      <td>5.749539</td>\n",
              "      <td>3.171354</td>\n",
              "      <td>3.103797</td>\n",
              "      <td>-0.611009</td>\n",
              "      <td>-0.633226</td>\n",
              "      <td>-1.859562</td>\n",
              "      <td>0.829826</td>\n",
              "      <td>0.821610</td>\n",
              "      <td>0.931990</td>\n",
              "      <td>0.651432</td>\n",
              "      <td>0.081829</td>\n",
              "    </tr>\n",
              "    <tr>\n",
              "      <th>3</th>\n",
              "      <td>4.766037</td>\n",
              "      <td>3.754471</td>\n",
              "      <td>4.486994</td>\n",
              "      <td>5.557779</td>\n",
              "      <td>2.349806</td>\n",
              "      <td>-1.005188</td>\n",
              "      <td>-0.524797</td>\n",
              "      <td>-0.819822</td>\n",
              "      <td>0.923570</td>\n",
              "      <td>0.304512</td>\n",
              "      <td>0.108366</td>\n",
              "      <td>0.453463</td>\n",
              "      <td>0.030169</td>\n",
              "    </tr>\n",
              "    <tr>\n",
              "      <th>4</th>\n",
              "      <td>4.114349</td>\n",
              "      <td>1.111495</td>\n",
              "      <td>0.535156</td>\n",
              "      <td>5.945791</td>\n",
              "      <td>4.765681</td>\n",
              "      <td>-0.983886</td>\n",
              "      <td>-1.927222</td>\n",
              "      <td>-1.854574</td>\n",
              "      <td>0.967572</td>\n",
              "      <td>0.510802</td>\n",
              "      <td>0.670605</td>\n",
              "      <td>0.511837</td>\n",
              "      <td>-0.015164</td>\n",
              "    </tr>\n",
              "    <tr>\n",
              "      <th>...</th>\n",
              "      <td>...</td>\n",
              "      <td>...</td>\n",
              "      <td>...</td>\n",
              "      <td>...</td>\n",
              "      <td>...</td>\n",
              "      <td>...</td>\n",
              "      <td>...</td>\n",
              "      <td>...</td>\n",
              "      <td>...</td>\n",
              "      <td>...</td>\n",
              "      <td>...</td>\n",
              "      <td>...</td>\n",
              "      <td>...</td>\n",
              "    </tr>\n",
              "    <tr>\n",
              "      <th>47995</th>\n",
              "      <td>6.898493</td>\n",
              "      <td>0.892970</td>\n",
              "      <td>7.073462</td>\n",
              "      <td>0.829088</td>\n",
              "      <td>3.870392</td>\n",
              "      <td>-1.987879</td>\n",
              "      <td>-0.765324</td>\n",
              "      <td>-1.117190</td>\n",
              "      <td>0.444061</td>\n",
              "      <td>0.319689</td>\n",
              "      <td>0.811726</td>\n",
              "      <td>0.661333</td>\n",
              "      <td>-0.012710</td>\n",
              "    </tr>\n",
              "    <tr>\n",
              "      <th>47996</th>\n",
              "      <td>5.397788</td>\n",
              "      <td>7.204489</td>\n",
              "      <td>2.379857</td>\n",
              "      <td>5.400526</td>\n",
              "      <td>3.783470</td>\n",
              "      <td>-1.340151</td>\n",
              "      <td>-1.289212</td>\n",
              "      <td>-1.154106</td>\n",
              "      <td>0.981968</td>\n",
              "      <td>0.782510</td>\n",
              "      <td>0.854201</td>\n",
              "      <td>0.795580</td>\n",
              "      <td>0.090062</td>\n",
              "    </tr>\n",
              "    <tr>\n",
              "      <th>47997</th>\n",
              "      <td>8.770234</td>\n",
              "      <td>7.252446</td>\n",
              "      <td>1.252668</td>\n",
              "      <td>4.154315</td>\n",
              "      <td>3.767645</td>\n",
              "      <td>-1.781622</td>\n",
              "      <td>-0.548951</td>\n",
              "      <td>-1.437072</td>\n",
              "      <td>0.165098</td>\n",
              "      <td>0.153895</td>\n",
              "      <td>0.738758</td>\n",
              "      <td>0.833579</td>\n",
              "      <td>-0.043124</td>\n",
              "    </tr>\n",
              "    <tr>\n",
              "      <th>47998</th>\n",
              "      <td>4.686823</td>\n",
              "      <td>1.765640</td>\n",
              "      <td>2.308544</td>\n",
              "      <td>0.782001</td>\n",
              "      <td>3.997920</td>\n",
              "      <td>-0.859745</td>\n",
              "      <td>-1.890413</td>\n",
              "      <td>-1.247763</td>\n",
              "      <td>0.941998</td>\n",
              "      <td>0.194774</td>\n",
              "      <td>0.944924</td>\n",
              "      <td>0.688301</td>\n",
              "      <td>-0.000463</td>\n",
              "    </tr>\n",
              "    <tr>\n",
              "      <th>47999</th>\n",
              "      <td>1.624431</td>\n",
              "      <td>0.994089</td>\n",
              "      <td>3.064577</td>\n",
              "      <td>2.267519</td>\n",
              "      <td>4.493745</td>\n",
              "      <td>-1.612728</td>\n",
              "      <td>-1.042351</td>\n",
              "      <td>-1.838665</td>\n",
              "      <td>0.068170</td>\n",
              "      <td>0.782304</td>\n",
              "      <td>0.522170</td>\n",
              "      <td>0.908119</td>\n",
              "      <td>-0.019023</td>\n",
              "    </tr>\n",
              "  </tbody>\n",
              "</table>\n",
              "<p>48000 rows × 13 columns</p>\n",
              "</div>\n",
              "      <button class=\"colab-df-convert\" onclick=\"convertToInteractive('df-5c84e354-7e5d-41c5-a58b-62a561897477')\"\n",
              "              title=\"Convert this dataframe to an interactive table.\"\n",
              "              style=\"display:none;\">\n",
              "        \n",
              "  <svg xmlns=\"http://www.w3.org/2000/svg\" height=\"24px\"viewBox=\"0 0 24 24\"\n",
              "       width=\"24px\">\n",
              "    <path d=\"M0 0h24v24H0V0z\" fill=\"none\"/>\n",
              "    <path d=\"M18.56 5.44l.94 2.06.94-2.06 2.06-.94-2.06-.94-.94-2.06-.94 2.06-2.06.94zm-11 1L8.5 8.5l.94-2.06 2.06-.94-2.06-.94L8.5 2.5l-.94 2.06-2.06.94zm10 10l.94 2.06.94-2.06 2.06-.94-2.06-.94-.94-2.06-.94 2.06-2.06.94z\"/><path d=\"M17.41 7.96l-1.37-1.37c-.4-.4-.92-.59-1.43-.59-.52 0-1.04.2-1.43.59L10.3 9.45l-7.72 7.72c-.78.78-.78 2.05 0 2.83L4 21.41c.39.39.9.59 1.41.59.51 0 1.02-.2 1.41-.59l7.78-7.78 2.81-2.81c.8-.78.8-2.07 0-2.86zM5.41 20L4 18.59l7.72-7.72 1.47 1.35L5.41 20z\"/>\n",
              "  </svg>\n",
              "      </button>\n",
              "      \n",
              "  <style>\n",
              "    .colab-df-container {\n",
              "      display:flex;\n",
              "      flex-wrap:wrap;\n",
              "      gap: 12px;\n",
              "    }\n",
              "\n",
              "    .colab-df-convert {\n",
              "      background-color: #E8F0FE;\n",
              "      border: none;\n",
              "      border-radius: 50%;\n",
              "      cursor: pointer;\n",
              "      display: none;\n",
              "      fill: #1967D2;\n",
              "      height: 32px;\n",
              "      padding: 0 0 0 0;\n",
              "      width: 32px;\n",
              "    }\n",
              "\n",
              "    .colab-df-convert:hover {\n",
              "      background-color: #E2EBFA;\n",
              "      box-shadow: 0px 1px 2px rgba(60, 64, 67, 0.3), 0px 1px 3px 1px rgba(60, 64, 67, 0.15);\n",
              "      fill: #174EA6;\n",
              "    }\n",
              "\n",
              "    [theme=dark] .colab-df-convert {\n",
              "      background-color: #3B4455;\n",
              "      fill: #D2E3FC;\n",
              "    }\n",
              "\n",
              "    [theme=dark] .colab-df-convert:hover {\n",
              "      background-color: #434B5C;\n",
              "      box-shadow: 0px 1px 3px 1px rgba(0, 0, 0, 0.15);\n",
              "      filter: drop-shadow(0px 1px 2px rgba(0, 0, 0, 0.3));\n",
              "      fill: #FFFFFF;\n",
              "    }\n",
              "  </style>\n",
              "\n",
              "      <script>\n",
              "        const buttonEl =\n",
              "          document.querySelector('#df-5c84e354-7e5d-41c5-a58b-62a561897477 button.colab-df-convert');\n",
              "        buttonEl.style.display =\n",
              "          google.colab.kernel.accessAllowed ? 'block' : 'none';\n",
              "\n",
              "        async function convertToInteractive(key) {\n",
              "          const element = document.querySelector('#df-5c84e354-7e5d-41c5-a58b-62a561897477');\n",
              "          const dataTable =\n",
              "            await google.colab.kernel.invokeFunction('convertToInteractive',\n",
              "                                                     [key], {});\n",
              "          if (!dataTable) return;\n",
              "\n",
              "          const docLinkHtml = 'Like what you see? Visit the ' +\n",
              "            '<a target=\"_blank\" href=https://colab.research.google.com/notebooks/data_table.ipynb>data table notebook</a>'\n",
              "            + ' to learn more about interactive tables.';\n",
              "          element.innerHTML = '';\n",
              "          dataTable['output_type'] = 'display_data';\n",
              "          await google.colab.output.renderOutput(dataTable, element);\n",
              "          const docLink = document.createElement('div');\n",
              "          docLink.innerHTML = docLinkHtml;\n",
              "          element.appendChild(docLink);\n",
              "        }\n",
              "      </script>\n",
              "    </div>\n",
              "  </div>\n",
              "  "
            ]
          },
          "metadata": {},
          "execution_count": 26
        }
      ],
      "source": [
        "data_train"
      ]
    },
    {
      "cell_type": "code",
      "execution_count": null,
      "metadata": {
        "id": "6CwaK5NK6ZN2",
        "colab": {
          "base_uri": "https://localhost:8080/",
          "height": 595
        },
        "outputId": "a088c49a-b38d-41f2-b6dd-4e77705e4ea3"
      },
      "outputs": [
        {
          "output_type": "display_data",
          "data": {
            "text/plain": [
              "<IPython.core.display.Javascript object>"
            ],
            "application/javascript": [
              "\n",
              "    async function download(id, filename, size) {\n",
              "      if (!google.colab.kernel.accessAllowed) {\n",
              "        return;\n",
              "      }\n",
              "      const div = document.createElement('div');\n",
              "      const label = document.createElement('label');\n",
              "      label.textContent = `Downloading \"${filename}\": `;\n",
              "      div.appendChild(label);\n",
              "      const progress = document.createElement('progress');\n",
              "      progress.max = size;\n",
              "      div.appendChild(progress);\n",
              "      document.body.appendChild(div);\n",
              "\n",
              "      const buffers = [];\n",
              "      let downloaded = 0;\n",
              "\n",
              "      const channel = await google.colab.kernel.comms.open(id);\n",
              "      // Send a message to notify the kernel that we're ready.\n",
              "      channel.send({})\n",
              "\n",
              "      for await (const message of channel.messages) {\n",
              "        // Send a message to notify the kernel that we're ready.\n",
              "        channel.send({})\n",
              "        if (message.buffers) {\n",
              "          for (const buffer of message.buffers) {\n",
              "            buffers.push(buffer);\n",
              "            downloaded += buffer.byteLength;\n",
              "            progress.value = downloaded;\n",
              "          }\n",
              "        }\n",
              "      }\n",
              "      const blob = new Blob(buffers, {type: 'application/binary'});\n",
              "      const a = document.createElement('a');\n",
              "      a.href = window.URL.createObjectURL(blob);\n",
              "      a.download = filename;\n",
              "      div.appendChild(a);\n",
              "      a.click();\n",
              "      div.remove();\n",
              "    }\n",
              "  "
            ]
          },
          "metadata": {}
        },
        {
          "output_type": "display_data",
          "data": {
            "text/plain": [
              "<IPython.core.display.Javascript object>"
            ],
            "application/javascript": [
              "download(\"download_572495d5-1a41-46c5-bcc2-70fbfe662c5b\", \"fig.png\", 57492)"
            ]
          },
          "metadata": {}
        },
        {
          "output_type": "display_data",
          "data": {
            "text/plain": [
              "<Figure size 1080x720 with 2 Axes>"
            ],
            "image/png": "[encoded data removed]"
          },
          "metadata": {
            "needs_background": "light"
          }
        }
      ],
      "source": [
        "fig = plt.gcf();\n",
        "fig.set_size_inches(15, 10)\n",
        "sns.heatmap(np.absolute(data_train.iloc[:,:-1].corr()), cmap=\"YlGnBu\",annot=True)\n",
        "plt.savefig(\"fig.png\")\n",
        "files.download('fig.png')"
      ]
    },
    {
      "cell_type": "code",
      "execution_count": null,
      "metadata": {
        "id": "ijAY9foXvmdy"
      },
      "outputs": [],
      "source": [
        "y=data_train.stab"
      ]
    },
    {
      "cell_type": "code",
      "execution_count": null,
      "metadata": {
        "id": "VfJ7qzWHvFV0"
      },
      "outputs": [],
      "source": [
        "\n",
        "def data_scaling( scaling_strategy , scaling_data , scaling_columns ):\n",
        "    \n",
        "    if    scaling_strategy ==\"RobustScaler\" :\n",
        "        scaling_data[scaling_columns] = RobustScaler().fit_transform(scaling_data[scaling_columns])\n",
        "        \n",
        "    elif  scaling_strategy ==\"StandardScaler\" :\n",
        "        scaling_data[scaling_columns] = StandardScaler().fit_transform(scaling_data[scaling_columns])\n",
        "        \n",
        "    elif  scaling_strategy ==\"MinMaxScaler\" :\n",
        "        scaling_data[scaling_columns] = MinMaxScaler().fit_transform(scaling_data[scaling_columns])\n",
        "        \n",
        "    elif  scaling_strategy ==\"MaxAbsScaler\" :\n",
        "        scaling_data[scaling_columns] = MaxAbsScaler().fit_transform(scaling_data[scaling_columns])\n",
        "        \n",
        "    else :  # If any other scaling send by mistake still perform Robust Scalar\n",
        "        scaling_data[scaling_columns] = RobustScaler().fit_transform(scaling_data[scaling_columns])\n",
        "    \n",
        "    return scaling_data"
      ]
    },
    {
      "cell_type": "code",
      "execution_count": null,
      "metadata": {
        "id": "nXQdMGOjvHEt"
      },
      "outputs": [],
      "source": [
        "scaling_strategy = [\"RobustScaler\", \"StandardScaler\",\"MinMaxScaler\",\"MaxAbsScaler\"]\n",
        "X_train_scale = data_scaling( scaling_strategy[1] , data_train.iloc[:,:-1],data_train.iloc[:,:-1].columns )\n"
      ]
    },
    {
      "cell_type": "code",
      "source": [
        "X_test_scale  = data_scaling( scaling_strategy [1] , data_test , data_test.columns )"
      ],
      "metadata": {
        "id": "txBZq_E-8WLG"
      },
      "execution_count": null,
      "outputs": []
    },
    {
      "cell_type": "code",
      "source": [
        "X_train, X_val, y_train, y_val = train_test_split(X_train_scale,y,train_size=0.70,random_state=42,shuffle=True)"
      ],
      "metadata": {
        "id": "3OU_RJ18v_6c"
      },
      "execution_count": null,
      "outputs": []
    },
    {
      "cell_type": "markdown",
      "source": [
        "# GBA"
      ],
      "metadata": {
        "id": "_ptPPMu3Ew-4"
      }
    },
    {
      "cell_type": "code",
      "source": [
        ""
      ],
      "metadata": {
        "id": "chKgRyLHd-R9"
      },
      "execution_count": null,
      "outputs": []
    },
    {
      "cell_type": "code",
      "execution_count": null,
      "metadata": {
        "colab": {
          "base_uri": "https://localhost:8080/"
        },
        "id": "kctoe6RDwL7i",
        "outputId": "6b1805bb-1573-43c2-cb6d-8f3e46f49138"
      },
      "outputs": [
        {
          "output_type": "execute_result",
          "data": {
            "text/plain": [
              "GradientBoostingRegressor(learning_rate=0.01, max_depth=8, min_samples_split=4,\n",
              "                          n_estimators=250)"
            ]
          },
          "metadata": {},
          "execution_count": 10
        }
      ],
      "source": [
        "params = {\n",
        "    \"n_estimators\":250,\n",
        "    \"max_depth\":8,\n",
        "    \"min_samples_split\":4,\n",
        "    \"learning_rate\": 0.01,\n",
        "    \"loss\": 'squared_error',\n",
        "}\n",
        "reg = ensemble.GradientBoostingRegressor(**params)\n",
        "reg.fit(X_train, y_train)"
      ]
    },
    {
      "cell_type": "code",
      "source": [
        "reg.score(X_train,y_train)"
      ],
      "metadata": {
        "id": "jBORke7Pf0CD"
      },
      "execution_count": null,
      "outputs": []
    },
    {
      "cell_type": "code",
      "source": [
        "reg.score(X_val,y_val)"
      ],
      "metadata": {
        "id": "aEpu3ZCuf3yS"
      },
      "execution_count": null,
      "outputs": []
    },
    {
      "cell_type": "code",
      "source": [
        "target=reg.predict(X_test_scale)"
      ],
      "metadata": {
        "id": "srYYRhGPgXhO"
      },
      "execution_count": null,
      "outputs": []
    },
    {
      "cell_type": "markdown",
      "source": [
        "# Random Forest"
      ],
      "metadata": {
        "id": "MfY2thB2e4Eh"
      }
    },
    {
      "cell_type": "code",
      "source": [
        "estimator = RandomForestRegressor(random_state=0)\n",
        "param_grid = {'bootstrap': [False,True],\n",
        " 'ccp_alpha': [0.0,0.035],\n",
        " 'criterion': ['mse'],\n",
        " 'max_depth': [10],\n",
        " 'max_features':['auto'],\n",
        " 'max_leaf_nodes': [None],\n",
        " 'max_samples': [None],\n",
        " 'min_impurity_decrease': [0.0],\n",
        " 'min_samples_leaf': [1],\n",
        " 'min_samples_split': [2],\n",
        " 'min_weight_fraction_leaf':[0.0],\n",
        " 'n_estimators': [200],\n",
        " 'n_jobs': [None],\n",
        " 'oob_score':[False],\n",
        " 'random_state': [0],\n",
        " 'verbose': [0],\n",
        " 'warm_start': [False]}\n",
        "grid = GridSearchCV(estimator, param_grid, n_jobs=-1,return_train_score=True)\n",
        "grid.fit(X_train, y_train)"
      ],
      "metadata": {
        "colab": {
          "base_uri": "https://localhost:8080/"
        },
        "id": "o4vFZNC9e3om",
        "outputId": "291e3ece-d6f8-4c38-8ece-d7e44db8eae0"
      },
      "execution_count": null,
      "outputs": [
        {
          "output_type": "stream",
          "name": "stderr",
          "text": [
            "/usr/local/lib/python3.7/dist-packages/sklearn/ensemble/_forest.py:400: FutureWarning: Criterion 'mse' was deprecated in v1.0 and will be removed in version 1.2. Use `criterion='squared_error'` which is equivalent.\n",
            "  FutureWarning,\n"
          ]
        },
        {
          "output_type": "execute_result",
          "data": {
            "text/plain": [
              "GridSearchCV(estimator=RandomForestRegressor(random_state=0), n_jobs=-1,\n",
              "             param_grid={'bootstrap': [False, True], 'ccp_alpha': [0.0, 0.035],\n",
              "                         'criterion': ['mse'], 'max_depth': [10],\n",
              "                         'max_features': ['auto'], 'max_leaf_nodes': [None],\n",
              "                         'max_samples': [None], 'min_impurity_decrease': [0.0],\n",
              "                         'min_samples_leaf': [1], 'min_samples_split': [2],\n",
              "                         'min_weight_fraction_leaf': [0.0],\n",
              "                         'n_estimators': [200], 'n_jobs': [None],\n",
              "                         'oob_score': [False], 'random_state': [0],\n",
              "                         'verbose': [0], 'warm_start': [False]},\n",
              "             return_train_score=True)"
            ]
          },
          "metadata": {},
          "execution_count": 19
        }
      ]
    },
    {
      "cell_type": "code",
      "source": [
        "grid.score(X_train,y_train)"
      ],
      "metadata": {
        "colab": {
          "base_uri": "https://localhost:8080/"
        },
        "id": "XJxHD_aIfr2D",
        "outputId": "61d5259e-5c2f-4ca6-ae68-6ad54d636f2c"
      },
      "execution_count": null,
      "outputs": [
        {
          "output_type": "execute_result",
          "data": {
            "text/plain": [
              "0.924696466397106"
            ]
          },
          "metadata": {},
          "execution_count": 20
        }
      ]
    },
    {
      "cell_type": "code",
      "source": [
        "grid.score(X_val,y_val)"
      ],
      "metadata": {
        "colab": {
          "base_uri": "https://localhost:8080/"
        },
        "id": "C8LKpNY4fwlo",
        "outputId": "d279c768-5c9c-4dc8-d406-b75e215c4ddd"
      },
      "execution_count": null,
      "outputs": [
        {
          "output_type": "execute_result",
          "data": {
            "text/plain": [
              "0.8905505839332033"
            ]
          },
          "metadata": {},
          "execution_count": 21
        }
      ]
    },
    {
      "cell_type": "code",
      "source": [
        "target=grid.predict(X_test_scale)"
      ],
      "metadata": {
        "id": "J1xP0-GtgIBP"
      },
      "execution_count": null,
      "outputs": []
    },
    {
      "cell_type": "markdown",
      "source": [
        "# KNN"
      ],
      "metadata": {
        "id": "ANc7a8Xjg0gr"
      }
    },
    {
      "cell_type": "code",
      "source": [
        "from sklearn.model_selection import GridSearchCV\n",
        "from sklearn.neighbors import KNeighborsRegressor\n",
        "grid_params = { 'n_neighbors' : [i for i in range(1,16)],\n",
        "               'weights' : ['uniform','distance'],\n",
        "               'algorithm':['auto', 'ball_tree', 'kd_tree', 'brute'],\n",
        "               'metric' : ['euclidean','minkowski']}\n",
        "gs = GridSearchCV(KNeighborsRegressor(), grid_params, verbose = 1,n_jobs = -1)\n",
        "gs.fit(X_train,y_train)"
      ],
      "metadata": {
        "colab": {
          "base_uri": "https://localhost:8080/"
        },
        "id": "DF-Nb3DxguJS",
        "outputId": "fd9e288c-2530-4d7e-d859-d16cdb6f9012"
      },
      "execution_count": null,
      "outputs": [
        {
          "output_type": "stream",
          "name": "stdout",
          "text": [
            "Fitting 5 folds for each of 240 candidates, totalling 1200 fits\n"
          ]
        },
        {
          "output_type": "stream",
          "name": "stderr",
          "text": [
            "/usr/local/lib/python3.7/dist-packages/joblib/externals/loky/process_executor.py:705: UserWarning: A worker stopped while some jobs were given to the executor. This can be caused by a too short worker timeout or by a memory leak.\n",
            "  \"timeout or by a memory leak.\", UserWarning\n"
          ]
        },
        {
          "output_type": "execute_result",
          "data": {
            "text/plain": [
              "GridSearchCV(estimator=KNeighborsRegressor(), n_jobs=-1,\n",
              "             param_grid={'algorithm': ['auto', 'ball_tree', 'kd_tree', 'brute'],\n",
              "                         'metric': ['euclidean', 'minkowski'],\n",
              "                         'n_neighbors': [1, 2, 3, 4, 5, 6, 7, 8, 9, 10, 11, 12,\n",
              "                                         13, 14, 15],\n",
              "                         'weights': ['uniform', 'distance']},\n",
              "             verbose=1)"
            ]
          },
          "metadata": {},
          "execution_count": 13
        }
      ]
    },
    {
      "cell_type": "code",
      "source": [
        "print(\"\\n Train score : \",gs.score(X_train,y_train),\n",
        "\"\\n Validation score:\",gs.score(X_val,y_val))"
      ],
      "metadata": {
        "colab": {
          "base_uri": "https://localhost:8080/"
        },
        "id": "xPaFXLpIg6OA",
        "outputId": "c60f16ee-fa78-4c4b-f5f0-1a9aa18085f4"
      },
      "execution_count": null,
      "outputs": [
        {
          "output_type": "stream",
          "name": "stdout",
          "text": [
            "\n",
            " Train score :  1.0 \n",
            " Validation score: 0.8579204410368123\n"
          ]
        }
      ]
    },
    {
      "cell_type": "code",
      "source": [
        "X_test_scale"
      ],
      "metadata": {
        "colab": {
          "base_uri": "https://localhost:8080/",
          "height": 488
        },
        "id": "h9v10hsM8gdz",
        "outputId": "84b56092-78ab-40d0-d64a-ff05f6ffc1e0"
      },
      "execution_count": null,
      "outputs": [
        {
          "output_type": "execute_result",
          "data": {
            "text/plain": [
              "           tau1      tau2      tau3      tau4        p1        p2        p3  \\\n",
              "0      1.599058  0.459631 -0.896474  0.187774  0.915704  0.979952 -1.071025   \n",
              "1     -0.398679  1.155897 -1.225112 -1.513931 -0.090322 -0.606937 -0.489902   \n",
              "2     -1.728862  1.358923 -0.202153  1.044272 -1.166578  1.138940  1.059358   \n",
              "3      0.729124  1.426691  0.958911  1.623994 -1.771720  1.658414  1.711785   \n",
              "4      0.716118  0.395045 -0.252765 -0.940693  1.072692  0.225326 -0.349734   \n",
              "...         ...       ...       ...       ...       ...       ...       ...   \n",
              "11995 -1.346156  1.367486  1.694811  0.746753  0.484547  1.339144 -1.389579   \n",
              "11996  0.561470 -1.306130 -1.432437 -0.295258 -0.879618  1.230672  1.615329   \n",
              "11997 -0.699574 -0.601475  0.973219  0.774847 -1.394621  0.858109  0.391484   \n",
              "11998 -0.504670 -0.248088  0.025678 -1.011278 -0.159397  0.588609  0.883785   \n",
              "11999  0.888258  1.258787  0.890917 -0.598319 -1.216257  0.913425 -0.108209   \n",
              "\n",
              "             p4        g1        g2        g3        g4  \n",
              "0     -1.500265 -1.012336  0.511007 -0.912584  0.107186  \n",
              "1      1.251802 -1.615387  0.502922 -1.307964 -1.551591  \n",
              "2     -0.170172  1.111440 -0.759404  0.636255  0.898224  \n",
              "3     -0.289781  0.814760 -1.207418 -1.489006 -1.164712  \n",
              "4     -1.737886  0.486013 -1.442649  0.146773 -0.412844  \n",
              "...         ...       ...       ...       ...       ...  \n",
              "11995 -0.793333  1.350506 -1.687254  0.587955 -0.120609  \n",
              "11996 -1.314246  1.192220  1.649375  1.641946 -1.356789  \n",
              "11997  1.172223  1.112926 -1.320979  1.072781 -0.264730  \n",
              "11998 -1.192935  1.575699  0.054123  1.329510  0.291833  \n",
              "11999  1.305735  1.607303  0.480434 -1.255400 -0.355862  \n",
              "\n",
              "[12000 rows x 12 columns]"
            ],
            "text/html": [
              "\n",
              "  <div id=\"df-42009662-e3fc-45d7-ac09-135c11b4269b\">\n",
              "    <div class=\"colab-df-container\">\n",
              "      <div>\n",
              "<style scoped>\n",
              "    .dataframe tbody tr th:only-of-type {\n",
              "        vertical-align: middle;\n",
              "    }\n",
              "\n",
              "    .dataframe tbody tr th {\n",
              "        vertical-align: top;\n",
              "    }\n",
              "\n",
              "    .dataframe thead th {\n",
              "        text-align: right;\n",
              "    }\n",
              "</style>\n",
              "<table border=\"1\" class=\"dataframe\">\n",
              "  <thead>\n",
              "    <tr style=\"text-align: right;\">\n",
              "      <th></th>\n",
              "      <th>tau1</th>\n",
              "      <th>tau2</th>\n",
              "      <th>tau3</th>\n",
              "      <th>tau4</th>\n",
              "      <th>p1</th>\n",
              "      <th>p2</th>\n",
              "      <th>p3</th>\n",
              "      <th>p4</th>\n",
              "      <th>g1</th>\n",
              "      <th>g2</th>\n",
              "      <th>g3</th>\n",
              "      <th>g4</th>\n",
              "    </tr>\n",
              "  </thead>\n",
              "  <tbody>\n",
              "    <tr>\n",
              "      <th>0</th>\n",
              "      <td>1.599058</td>\n",
              "      <td>0.459631</td>\n",
              "      <td>-0.896474</td>\n",
              "      <td>0.187774</td>\n",
              "      <td>0.915704</td>\n",
              "      <td>0.979952</td>\n",
              "      <td>-1.071025</td>\n",
              "      <td>-1.500265</td>\n",
              "      <td>-1.012336</td>\n",
              "      <td>0.511007</td>\n",
              "      <td>-0.912584</td>\n",
              "      <td>0.107186</td>\n",
              "    </tr>\n",
              "    <tr>\n",
              "      <th>1</th>\n",
              "      <td>-0.398679</td>\n",
              "      <td>1.155897</td>\n",
              "      <td>-1.225112</td>\n",
              "      <td>-1.513931</td>\n",
              "      <td>-0.090322</td>\n",
              "      <td>-0.606937</td>\n",
              "      <td>-0.489902</td>\n",
              "      <td>1.251802</td>\n",
              "      <td>-1.615387</td>\n",
              "      <td>0.502922</td>\n",
              "      <td>-1.307964</td>\n",
              "      <td>-1.551591</td>\n",
              "    </tr>\n",
              "    <tr>\n",
              "      <th>2</th>\n",
              "      <td>-1.728862</td>\n",
              "      <td>1.358923</td>\n",
              "      <td>-0.202153</td>\n",
              "      <td>1.044272</td>\n",
              "      <td>-1.166578</td>\n",
              "      <td>1.138940</td>\n",
              "      <td>1.059358</td>\n",
              "      <td>-0.170172</td>\n",
              "      <td>1.111440</td>\n",
              "      <td>-0.759404</td>\n",
              "      <td>0.636255</td>\n",
              "      <td>0.898224</td>\n",
              "    </tr>\n",
              "    <tr>\n",
              "      <th>3</th>\n",
              "      <td>0.729124</td>\n",
              "      <td>1.426691</td>\n",
              "      <td>0.958911</td>\n",
              "      <td>1.623994</td>\n",
              "      <td>-1.771720</td>\n",
              "      <td>1.658414</td>\n",
              "      <td>1.711785</td>\n",
              "      <td>-0.289781</td>\n",
              "      <td>0.814760</td>\n",
              "      <td>-1.207418</td>\n",
              "      <td>-1.489006</td>\n",
              "      <td>-1.164712</td>\n",
              "    </tr>\n",
              "    <tr>\n",
              "      <th>4</th>\n",
              "      <td>0.716118</td>\n",
              "      <td>0.395045</td>\n",
              "      <td>-0.252765</td>\n",
              "      <td>-0.940693</td>\n",
              "      <td>1.072692</td>\n",
              "      <td>0.225326</td>\n",
              "      <td>-0.349734</td>\n",
              "      <td>-1.737886</td>\n",
              "      <td>0.486013</td>\n",
              "      <td>-1.442649</td>\n",
              "      <td>0.146773</td>\n",
              "      <td>-0.412844</td>\n",
              "    </tr>\n",
              "    <tr>\n",
              "      <th>...</th>\n",
              "      <td>...</td>\n",
              "      <td>...</td>\n",
              "      <td>...</td>\n",
              "      <td>...</td>\n",
              "      <td>...</td>\n",
              "      <td>...</td>\n",
              "      <td>...</td>\n",
              "      <td>...</td>\n",
              "      <td>...</td>\n",
              "      <td>...</td>\n",
              "      <td>...</td>\n",
              "      <td>...</td>\n",
              "    </tr>\n",
              "    <tr>\n",
              "      <th>11995</th>\n",
              "      <td>-1.346156</td>\n",
              "      <td>1.367486</td>\n",
              "      <td>1.694811</td>\n",
              "      <td>0.746753</td>\n",
              "      <td>0.484547</td>\n",
              "      <td>1.339144</td>\n",
              "      <td>-1.389579</td>\n",
              "      <td>-0.793333</td>\n",
              "      <td>1.350506</td>\n",
              "      <td>-1.687254</td>\n",
              "      <td>0.587955</td>\n",
              "      <td>-0.120609</td>\n",
              "    </tr>\n",
              "    <tr>\n",
              "      <th>11996</th>\n",
              "      <td>0.561470</td>\n",
              "      <td>-1.306130</td>\n",
              "      <td>-1.432437</td>\n",
              "      <td>-0.295258</td>\n",
              "      <td>-0.879618</td>\n",
              "      <td>1.230672</td>\n",
              "      <td>1.615329</td>\n",
              "      <td>-1.314246</td>\n",
              "      <td>1.192220</td>\n",
              "      <td>1.649375</td>\n",
              "      <td>1.641946</td>\n",
              "      <td>-1.356789</td>\n",
              "    </tr>\n",
              "    <tr>\n",
              "      <th>11997</th>\n",
              "      <td>-0.699574</td>\n",
              "      <td>-0.601475</td>\n",
              "      <td>0.973219</td>\n",
              "      <td>0.774847</td>\n",
              "      <td>-1.394621</td>\n",
              "      <td>0.858109</td>\n",
              "      <td>0.391484</td>\n",
              "      <td>1.172223</td>\n",
              "      <td>1.112926</td>\n",
              "      <td>-1.320979</td>\n",
              "      <td>1.072781</td>\n",
              "      <td>-0.264730</td>\n",
              "    </tr>\n",
              "    <tr>\n",
              "      <th>11998</th>\n",
              "      <td>-0.504670</td>\n",
              "      <td>-0.248088</td>\n",
              "      <td>0.025678</td>\n",
              "      <td>-1.011278</td>\n",
              "      <td>-0.159397</td>\n",
              "      <td>0.588609</td>\n",
              "      <td>0.883785</td>\n",
              "      <td>-1.192935</td>\n",
              "      <td>1.575699</td>\n",
              "      <td>0.054123</td>\n",
              "      <td>1.329510</td>\n",
              "      <td>0.291833</td>\n",
              "    </tr>\n",
              "    <tr>\n",
              "      <th>11999</th>\n",
              "      <td>0.888258</td>\n",
              "      <td>1.258787</td>\n",
              "      <td>0.890917</td>\n",
              "      <td>-0.598319</td>\n",
              "      <td>-1.216257</td>\n",
              "      <td>0.913425</td>\n",
              "      <td>-0.108209</td>\n",
              "      <td>1.305735</td>\n",
              "      <td>1.607303</td>\n",
              "      <td>0.480434</td>\n",
              "      <td>-1.255400</td>\n",
              "      <td>-0.355862</td>\n",
              "    </tr>\n",
              "  </tbody>\n",
              "</table>\n",
              "<p>12000 rows × 12 columns</p>\n",
              "</div>\n",
              "      <button class=\"colab-df-convert\" onclick=\"convertToInteractive('df-42009662-e3fc-45d7-ac09-135c11b4269b')\"\n",
              "              title=\"Convert this dataframe to an interactive table.\"\n",
              "              style=\"display:none;\">\n",
              "        \n",
              "  <svg xmlns=\"http://www.w3.org/2000/svg\" height=\"24px\"viewBox=\"0 0 24 24\"\n",
              "       width=\"24px\">\n",
              "    <path d=\"M0 0h24v24H0V0z\" fill=\"none\"/>\n",
              "    <path d=\"M18.56 5.44l.94 2.06.94-2.06 2.06-.94-2.06-.94-.94-2.06-.94 2.06-2.06.94zm-11 1L8.5 8.5l.94-2.06 2.06-.94-2.06-.94L8.5 2.5l-.94 2.06-2.06.94zm10 10l.94 2.06.94-2.06 2.06-.94-2.06-.94-.94-2.06-.94 2.06-2.06.94z\"/><path d=\"M17.41 7.96l-1.37-1.37c-.4-.4-.92-.59-1.43-.59-.52 0-1.04.2-1.43.59L10.3 9.45l-7.72 7.72c-.78.78-.78 2.05 0 2.83L4 21.41c.39.39.9.59 1.41.59.51 0 1.02-.2 1.41-.59l7.78-7.78 2.81-2.81c.8-.78.8-2.07 0-2.86zM5.41 20L4 18.59l7.72-7.72 1.47 1.35L5.41 20z\"/>\n",
              "  </svg>\n",
              "      </button>\n",
              "      \n",
              "  <style>\n",
              "    .colab-df-container {\n",
              "      display:flex;\n",
              "      flex-wrap:wrap;\n",
              "      gap: 12px;\n",
              "    }\n",
              "\n",
              "    .colab-df-convert {\n",
              "      background-color: #E8F0FE;\n",
              "      border: none;\n",
              "      border-radius: 50%;\n",
              "      cursor: pointer;\n",
              "      display: none;\n",
              "      fill: #1967D2;\n",
              "      height: 32px;\n",
              "      padding: 0 0 0 0;\n",
              "      width: 32px;\n",
              "    }\n",
              "\n",
              "    .colab-df-convert:hover {\n",
              "      background-color: #E2EBFA;\n",
              "      box-shadow: 0px 1px 2px rgba(60, 64, 67, 0.3), 0px 1px 3px 1px rgba(60, 64, 67, 0.15);\n",
              "      fill: #174EA6;\n",
              "    }\n",
              "\n",
              "    [theme=dark] .colab-df-convert {\n",
              "      background-color: #3B4455;\n",
              "      fill: #D2E3FC;\n",
              "    }\n",
              "\n",
              "    [theme=dark] .colab-df-convert:hover {\n",
              "      background-color: #434B5C;\n",
              "      box-shadow: 0px 1px 3px 1px rgba(0, 0, 0, 0.15);\n",
              "      filter: drop-shadow(0px 1px 2px rgba(0, 0, 0, 0.3));\n",
              "      fill: #FFFFFF;\n",
              "    }\n",
              "  </style>\n",
              "\n",
              "      <script>\n",
              "        const buttonEl =\n",
              "          document.querySelector('#df-42009662-e3fc-45d7-ac09-135c11b4269b button.colab-df-convert');\n",
              "        buttonEl.style.display =\n",
              "          google.colab.kernel.accessAllowed ? 'block' : 'none';\n",
              "\n",
              "        async function convertToInteractive(key) {\n",
              "          const element = document.querySelector('#df-42009662-e3fc-45d7-ac09-135c11b4269b');\n",
              "          const dataTable =\n",
              "            await google.colab.kernel.invokeFunction('convertToInteractive',\n",
              "                                                     [key], {});\n",
              "          if (!dataTable) return;\n",
              "\n",
              "          const docLinkHtml = 'Like what you see? Visit the ' +\n",
              "            '<a target=\"_blank\" href=https://colab.research.google.com/notebooks/data_table.ipynb>data table notebook</a>'\n",
              "            + ' to learn more about interactive tables.';\n",
              "          element.innerHTML = '';\n",
              "          dataTable['output_type'] = 'display_data';\n",
              "          await google.colab.output.renderOutput(dataTable, element);\n",
              "          const docLink = document.createElement('div');\n",
              "          docLink.innerHTML = docLinkHtml;\n",
              "          element.appendChild(docLink);\n",
              "        }\n",
              "      </script>\n",
              "    </div>\n",
              "  </div>\n",
              "  "
            ]
          },
          "metadata": {},
          "execution_count": 28
        }
      ]
    },
    {
      "cell_type": "code",
      "source": [
        "target=gs.predict(X_test_scale)"
      ],
      "metadata": {
        "id": "SqI9Wz0gg7Wy"
      },
      "execution_count": null,
      "outputs": []
    },
    {
      "cell_type": "markdown",
      "source": [
        "# DNN"
      ],
      "metadata": {
        "id": "vRp7s6EnE0-3"
      }
    },
    {
      "cell_type": "code",
      "execution_count": null,
      "metadata": {
        "id": "M6N8_RTpylqR"
      },
      "outputs": [],
      "source": [
        "from keras import backend as K\n",
        "\n",
        "def coeff_determination(y_true, y_pred):\n",
        "    SS_res =  K.sum(K.square( y_true-y_pred )) \n",
        "    SS_tot = K.sum(K.square( y_true - K.mean(y_true) ) ) \n",
        "    return ( 1 - SS_res/(SS_tot + K.epsilon()) )"
      ]
    },
    {
      "cell_type": "code",
      "execution_count": null,
      "metadata": {
        "id": "C9M2aFdQyqFr"
      },
      "outputs": [],
      "source": [
        "import tensorflow as tf"
      ]
    },
    {
      "cell_type": "code",
      "execution_count": null,
      "metadata": {
        "id": "XjCp1iZ7ysct"
      },
      "outputs": [],
      "source": [
        "from tensorflow.keras import layers\n",
        "from keras.callbacks import ModelCheckpoint\n",
        "from keras.models import load_model\n",
        "from tensorflow import keras\n",
        "mc = ModelCheckpoint('best_model.h5', monitor='val_root_mean_squared_error', mode='min', verbose=1, save_best_only=True)\n",
        "model = keras.Sequential([\n",
        "    layers.Dense(24, kernel_initializer = 'normal',activation='relu', input_shape=[12]),\n",
        "    layers.Dense(24,kernel_initializer = 'normal', activation='relu'),\n",
        "    layers.Dense(12,kernel_initializer = 'normal', activation='relu'),\n",
        "    layers.Dense(12,kernel_initializer = 'normal', activation='relu'),\n",
        "    layers.Dense(4, kernel_initializer = 'normal',activation='relu'),\n",
        "    layers.Dense(1)\n",
        "])"
      ]
    },
    {
      "cell_type": "code",
      "execution_count": null,
      "metadata": {
        "colab": {
          "base_uri": "https://localhost:8080/"
        },
        "id": "zUjpZov0yuWC",
        "outputId": "f8c616c0-0f95-419e-915a-0749d5b549d8"
      },
      "outputs": [
        {
          "output_type": "stream",
          "name": "stdout",
          "text": [
            "Num GPUs Available:  1\n"
          ]
        }
      ],
      "source": [
        "print(\"Num GPUs Available: \", len(tf.config.experimental.list_physical_devices('GPU')))"
      ]
    },
    {
      "cell_type": "code",
      "execution_count": null,
      "metadata": {
        "id": "Ms7AxipOywUy"
      },
      "outputs": [],
      "source": [
        "config = tf.compat.v1.ConfigProto()\n",
        "config.gpu_options.allow_growth=True\n",
        "sess = tf.compat.v1.Session(config=config)"
      ]
    },
    {
      "cell_type": "code",
      "source": [
        "def root_mean_squared_error(y_true, y_pred):\n",
        "        return K.sqrt(K.mean(K.square(y_pred - y_true))) \n"
      ],
      "metadata": {
        "id": "JNM3MeLrF8SO"
      },
      "execution_count": null,
      "outputs": []
    },
    {
      "cell_type": "code",
      "execution_count": null,
      "metadata": {
        "id": "L41Es90eyyPc"
      },
      "outputs": [],
      "source": [
        "from gc import callbacks\n",
        "optimizer = keras.optimizers.Adam(learning_rate=0.01)\n",
        "model.compile(loss=root_mean_squared_error , optimizer=optimizer,metrics=[tf.keras.metrics.RootMeanSquaredError()])\n",
        "with tf.device('/gpu:0'):\n",
        "    history = model.fit(X_train, y_train,validation_data=(X_val,y_val),batch_size=64,epochs=100,verbose=1,callbacks=[mc])"
      ]
    },
    {
      "cell_type": "code",
      "source": [
        "target=saved_model.predict(X_test_scale)"
      ],
      "metadata": {
        "id": "onVVse9pgOa4"
      },
      "execution_count": null,
      "outputs": []
    },
    {
      "cell_type": "markdown",
      "source": [
        "# Submission"
      ],
      "metadata": {
        "id": "f7kAfgIugFJG"
      }
    },
    {
      "cell_type": "code",
      "execution_count": null,
      "metadata": {
        "id": "I-k6nJfYxSXw"
      },
      "outputs": [],
      "source": [
        "#target = pd.read_csv(r'target.csv')\n",
        "res = pd.DataFrame(target) #target is nothing but the final predictions of your model on input features of your new unseen test data\n",
        "res.columns = [\"stab\"]\n",
        "res.to_csv(\"submission.csv\", index = False) # the csv file will be saved locally on the same location where this notebook is located."
      ]
    },
    {
      "cell_type": "code",
      "source": [
        ""
      ],
      "metadata": {
        "id": "dJxo0emv-CwU"
      },
      "execution_count": null,
      "outputs": []
    }
  ],
  "metadata": {
    "accelerator": "GPU",
    "colab": {
      "name": "Smart-Grid Stability Prediction.ipynb",
      "provenance": [],
      "authorship_tag": "ABX9TyNNiuEsJ7gTIxV22DNMp1KG",
      "include_colab_link": true
    },
    "gpuClass": "standard",
    "kernelspec": {
      "display_name": "Python 3",
      "name": "python3"
    },
    "language_info": {
      "name": "python"
    }
  },
  "nbformat": 4,
  "nbformat_minor": 0
}