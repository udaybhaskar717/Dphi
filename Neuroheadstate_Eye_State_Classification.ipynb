{
  "nbformat": 4,
  "nbformat_minor": 0,
  "metadata": {
    "colab": {
      "name": "Neuroheadstate_Eye_State_Classification.ipynb",
      "provenance": [],
      "include_colab_link": true
    },
    "kernelspec": {
      "name": "python3",
      "display_name": "Python 3"
    },
    "language_info": {
      "name": "python"
    }
  },
  "cells": [
    {
      "cell_type": "markdown",
      "metadata": {
        "id": "view-in-github",
        "colab_type": "text"
      },
      "source": [
        "<a href=\"https://colab.research.google.com/github/udaybhaskar717/Dphi/blob/main/Neuroheadstate_Eye_State_Classification.ipynb\" target=\"_parent\"><img src=\"https://colab.research.google.com/assets/colab-badge.svg\" alt=\"Open In Colab\"/></a>"
      ]
    },
    {
      "cell_type": "code",
      "source": [
        "pip install catboost"
      ],
      "metadata": {
        "colab": {
          "base_uri": "https://localhost:8080/"
        },
        "id": "6zgpTZuKup6k",
        "outputId": "4222b02e-b512-4144-8285-5828cdf2a9dd"
      },
      "execution_count": null,
      "outputs": [
        {
          "output_type": "stream",
          "name": "stdout",
          "text": [
            "Looking in indexes: https://pypi.org/simple, https://us-python.pkg.dev/colab-wheels/public/simple/\n",
            "Collecting catboost\n",
            "  Downloading catboost-1.0.6-cp37-none-manylinux1_x86_64.whl (76.6 MB)\n",
            "\u001b[K     |████████████████████████████████| 76.6 MB 1.3 MB/s \n",
            "\u001b[?25hRequirement already satisfied: graphviz in /usr/local/lib/python3.7/dist-packages (from catboost) (0.10.1)\n",
            "Requirement already satisfied: numpy>=1.16.0 in /usr/local/lib/python3.7/dist-packages (from catboost) (1.21.6)\n",
            "Requirement already satisfied: scipy in /usr/local/lib/python3.7/dist-packages (from catboost) (1.4.1)\n",
            "Requirement already satisfied: plotly in /usr/local/lib/python3.7/dist-packages (from catboost) (5.5.0)\n",
            "Requirement already satisfied: six in /usr/local/lib/python3.7/dist-packages (from catboost) (1.15.0)\n",
            "Requirement already satisfied: pandas>=0.24.0 in /usr/local/lib/python3.7/dist-packages (from catboost) (1.3.5)\n",
            "Requirement already satisfied: matplotlib in /usr/local/lib/python3.7/dist-packages (from catboost) (3.2.2)\n",
            "Requirement already satisfied: python-dateutil>=2.7.3 in /usr/local/lib/python3.7/dist-packages (from pandas>=0.24.0->catboost) (2.8.2)\n",
            "Requirement already satisfied: pytz>=2017.3 in /usr/local/lib/python3.7/dist-packages (from pandas>=0.24.0->catboost) (2022.1)\n",
            "Requirement already satisfied: pyparsing!=2.0.4,!=2.1.2,!=2.1.6,>=2.0.1 in /usr/local/lib/python3.7/dist-packages (from matplotlib->catboost) (3.0.9)\n",
            "Requirement already satisfied: kiwisolver>=1.0.1 in /usr/local/lib/python3.7/dist-packages (from matplotlib->catboost) (1.4.3)\n",
            "Requirement already satisfied: cycler>=0.10 in /usr/local/lib/python3.7/dist-packages (from matplotlib->catboost) (0.11.0)\n",
            "Requirement already satisfied: typing-extensions in /usr/local/lib/python3.7/dist-packages (from kiwisolver>=1.0.1->matplotlib->catboost) (4.1.1)\n",
            "Requirement already satisfied: tenacity>=6.2.0 in /usr/local/lib/python3.7/dist-packages (from plotly->catboost) (8.0.1)\n",
            "Installing collected packages: catboost\n",
            "Successfully installed catboost-1.0.6\n"
          ]
        }
      ]
    },
    {
      "cell_type": "code",
      "execution_count": null,
      "metadata": {
        "id": "QsSd5DgVpYG7"
      },
      "outputs": [],
      "source": [
        "import warnings\n",
        "warnings.filterwarnings(\"ignore\")\n",
        "# Scientific and Data Manipulation Libraries \n",
        "import pandas as pd\n",
        "import numpy as np\n",
        "import math\n",
        "import gc\n",
        "import os\n",
        "# Data Preprocessing, Machine Learning and Metrics Libraries \n",
        "from sklearn.preprocessing            import LabelEncoder, OneHotEncoder \n",
        "from sklearn.preprocessing            import StandardScaler, MinMaxScaler, RobustScaler, MaxAbsScaler\n",
        "from sklearn.ensemble                 import VotingClassifier\n",
        "from sklearn.metrics                  import f1_score\n",
        "# Boosting Algorithms \n",
        "from xgboost                          import XGBClassifier\n",
        "from catboost                         import CatBoostClassifier\n",
        "from lightgbm                         import LGBMClassifier\n",
        "# Data Visualization Libraries \n",
        "import matplotlib.pyplot as plt\n",
        "import seaborn as sns\n",
        "import plotly.io as pio\n",
        "import plotly.graph_objects as go\n",
        "import plotly.express as px"
      ]
    },
    {
      "cell_type": "code",
      "source": [
        "data_train =pd.read_csv(\"/content/train_dataset.csv\")\n",
        "data_test =pd.read_csv(\"/content/test_dataset.csv\")"
      ],
      "metadata": {
        "id": "ur44m-V8qKPn"
      },
      "execution_count": null,
      "outputs": []
    },
    {
      "cell_type": "code",
      "source": [
        "data_train.info()"
      ],
      "metadata": {
        "colab": {
          "base_uri": "https://localhost:8080/"
        },
        "id": "RVGuk0OArbnE",
        "outputId": "7b3b34b2-ffb8-4c5a-a18c-66e30ef1e775"
      },
      "execution_count": null,
      "outputs": [
        {
          "output_type": "stream",
          "name": "stdout",
          "text": [
            "<class 'pandas.core.frame.DataFrame'>\n",
            "RangeIndex: 10486 entries, 0 to 10485\n",
            "Data columns (total 15 columns):\n",
            " #   Column        Non-Null Count  Dtype  \n",
            "---  ------        --------------  -----  \n",
            " 0   AF3           10486 non-null  float64\n",
            " 1   F7            10486 non-null  float64\n",
            " 2   F3            10486 non-null  float64\n",
            " 3   FC5           10486 non-null  float64\n",
            " 4   T7            10486 non-null  float64\n",
            " 5   P7            10486 non-null  float64\n",
            " 6   O1            10486 non-null  float64\n",
            " 7   O2            10486 non-null  float64\n",
            " 8   P8            10486 non-null  float64\n",
            " 9   T8            10486 non-null  float64\n",
            " 10  FC6           10486 non-null  float64\n",
            " 11  F4            10486 non-null  float64\n",
            " 12  F8            10486 non-null  float64\n",
            " 13  AF4           10486 non-null  float64\n",
            " 14  eyeDetection  10486 non-null  int64  \n",
            "dtypes: float64(14), int64(1)\n",
            "memory usage: 1.2 MB\n"
          ]
        }
      ]
    },
    {
      "cell_type": "code",
      "source": [
        "plt.figure(figsize=(10,10))\n",
        "sns.heatmap(data_train.corr(),annot=True)\n"
      ],
      "metadata": {
        "colab": {
          "base_uri": "https://localhost:8080/",
          "height": 669
        },
        "id": "hkcFmet6sIXt",
        "outputId": "d669db2b-7bb3-4440-f456-093147518f93"
      },
      "execution_count": null,
      "outputs": [
        {
          "output_type": "execute_result",
          "data": {
            "text/plain": [
              "<matplotlib.axes._subplots.AxesSubplot at 0x7f6ad62db5d0>"
            ]
          },
          "metadata": {},
          "execution_count": 5
        },
        {
          "output_type": "display_data",
          "data": {
            "text/plain": [
              "<Figure size 720x720 with 2 Axes>"
            ],
            "image/png": "[encoded data removed]"
          },
          "metadata": {
            "needs_background": "light"
          }
        }
      ]
    },
    {
      "cell_type": "markdown",
      "source": [
        "# Removing correlated data"
      ],
      "metadata": {
        "id": "9sUhWPgvv3kx"
      }
    },
    {
      "cell_type": "code",
      "source": [
        "def correlation (dataset, threshold):\n",
        "    col_corr = set()                                     # set of all the names of correlated columns\n",
        "    corr_mat = dataset.corr()\n",
        "    for i in range (len(corr_mat.columns)):              #Iterating through the columns of the correlation matrix dataframe\n",
        "        for j in range (i):\n",
        "            if abs (corr_mat.iloc[i,j]) > threshold and (corr_mat.columns[j] not in col_corr):    # as perfect negative correlation is also a perfect correlation we are intrested in absolute values\n",
        "                colname = corr_mat.columns [i]                                  # getting the name of column\n",
        "                col_corr.add(colname)\n",
        "    return col_corr"
      ],
      "metadata": {
        "id": "xXKDcQZWvDHS"
      },
      "execution_count": null,
      "outputs": []
    },
    {
      "cell_type": "code",
      "source": [
        "corr_features = correlation (data_train, 0.8)\n",
        "len(set(corr_features))"
      ],
      "metadata": {
        "colab": {
          "base_uri": "https://localhost:8080/"
        },
        "id": "ujWghoOhwBJQ",
        "outputId": "83d40eaa-1793-4cf4-b109-317d387e28e3"
      },
      "execution_count": null,
      "outputs": [
        {
          "output_type": "execute_result",
          "data": {
            "text/plain": [
              "3"
            ]
          },
          "metadata": {},
          "execution_count": 7
        }
      ]
    },
    {
      "cell_type": "code",
      "source": [
        "corr_features"
      ],
      "metadata": {
        "colab": {
          "base_uri": "https://localhost:8080/"
        },
        "id": "nP_SdHoGwDjf",
        "outputId": "95334f6a-b6d6-4166-fc0b-a85be9d887de"
      },
      "execution_count": null,
      "outputs": [
        {
          "output_type": "execute_result",
          "data": {
            "text/plain": [
              "{'AF4', 'P8', 'T8'}"
            ]
          },
          "metadata": {},
          "execution_count": 8
        }
      ]
    },
    {
      "cell_type": "code",
      "source": [
        "data_train.drop(corr_features, axis=1 , inplace=True)"
      ],
      "metadata": {
        "id": "vUXktloVwJNG"
      },
      "execution_count": null,
      "outputs": []
    },
    {
      "cell_type": "code",
      "source": [
        "data_test.drop(corr_features, axis=1 , inplace=True)"
      ],
      "metadata": {
        "id": "JoW0lAf1wTCH"
      },
      "execution_count": null,
      "outputs": []
    },
    {
      "cell_type": "code",
      "source": [
        "data_train"
      ],
      "metadata": {
        "colab": {
          "base_uri": "https://localhost:8080/",
          "height": 488
        },
        "id": "GWPkeTjnwOQH",
        "outputId": "c9613c67-741b-4265-d0b0-a96785e8a296"
      },
      "execution_count": null,
      "outputs": [
        {
          "output_type": "execute_result",
          "data": {
            "text/plain": [
              "           AF3       F7       F3      FC5       T7       P7       O1       O2  \\\n",
              "0      4278.97  4003.59  4260.00  4113.33  4331.79  4606.67  4038.46  4584.62   \n",
              "1      4294.36  4036.92  4263.59  4122.56  4341.54  4616.92  4070.77  4617.95   \n",
              "2      4291.28  4000.00  4261.03  4106.15  4338.97  4622.05  4060.51  4628.72   \n",
              "3      4288.72  4000.51  4255.90  4114.87  4327.18  4613.85  4069.74  4586.67   \n",
              "4      4376.41  4005.64  4283.08  4141.54  4322.05  4598.46  4064.62  4606.15   \n",
              "...        ...      ...      ...      ...      ...      ...      ...      ...   \n",
              "10481  4285.64  3976.92  4233.33  4099.49  4341.03  4620.51  4054.87  4610.77   \n",
              "10482  4285.64  3995.90  4263.59  4122.05  4332.82  4623.59  4073.33  4610.77   \n",
              "10483  4260.51  3957.95  4242.05  4092.31  4317.95  4600.51  4046.15  4611.28   \n",
              "10484  4295.90  4041.54  4266.67  4154.87  4350.26  4625.64  4079.49  4619.49   \n",
              "10485  4370.77  4072.82  4275.90  4129.74  4347.69  4626.67  4082.05  4596.92   \n",
              "\n",
              "           FC6       F4       F8  eyeDetection  \n",
              "0      4176.41  4256.92  4589.74             1  \n",
              "1      4208.21  4276.41  4612.31             0  \n",
              "2      4201.03  4283.08  4612.31             0  \n",
              "3      4180.00  4270.77  4596.92             0  \n",
              "4      4208.72  4310.77  4683.59             1  \n",
              "...        ...      ...      ...           ...  \n",
              "10481  4177.95  4258.46  4603.59             0  \n",
              "10482  4209.74  4281.03  4617.95             0  \n",
              "10483  4193.85  4254.87  4578.46             0  \n",
              "10484  4197.44  4271.79  4601.54             1  \n",
              "10485  4189.23  4281.54  4587.69             0  \n",
              "\n",
              "[10486 rows x 12 columns]"
            ],
            "text/html": [
              "\n",
              "  <div id=\"df-34b79a54-3eb8-4d05-bdef-168df91a4bb2\">\n",
              "    <div class=\"colab-df-container\">\n",
              "      <div>\n",
              "<style scoped>\n",
              "    .dataframe tbody tr th:only-of-type {\n",
              "        vertical-align: middle;\n",
              "    }\n",
              "\n",
              "    .dataframe tbody tr th {\n",
              "        vertical-align: top;\n",
              "    }\n",
              "\n",
              "    .dataframe thead th {\n",
              "        text-align: right;\n",
              "    }\n",
              "</style>\n",
              "<table border=\"1\" class=\"dataframe\">\n",
              "  <thead>\n",
              "    <tr style=\"text-align: right;\">\n",
              "      <th></th>\n",
              "      <th>AF3</th>\n",
              "      <th>F7</th>\n",
              "      <th>F3</th>\n",
              "      <th>FC5</th>\n",
              "      <th>T7</th>\n",
              "      <th>P7</th>\n",
              "      <th>O1</th>\n",
              "      <th>O2</th>\n",
              "      <th>FC6</th>\n",
              "      <th>F4</th>\n",
              "      <th>F8</th>\n",
              "      <th>eyeDetection</th>\n",
              "    </tr>\n",
              "  </thead>\n",
              "  <tbody>\n",
              "    <tr>\n",
              "      <th>0</th>\n",
              "      <td>4278.97</td>\n",
              "      <td>4003.59</td>\n",
              "      <td>4260.00</td>\n",
              "      <td>4113.33</td>\n",
              "      <td>4331.79</td>\n",
              "      <td>4606.67</td>\n",
              "      <td>4038.46</td>\n",
              "      <td>4584.62</td>\n",
              "      <td>4176.41</td>\n",
              "      <td>4256.92</td>\n",
              "      <td>4589.74</td>\n",
              "      <td>1</td>\n",
              "    </tr>\n",
              "    <tr>\n",
              "      <th>1</th>\n",
              "      <td>4294.36</td>\n",
              "      <td>4036.92</td>\n",
              "      <td>4263.59</td>\n",
              "      <td>4122.56</td>\n",
              "      <td>4341.54</td>\n",
              "      <td>4616.92</td>\n",
              "      <td>4070.77</td>\n",
              "      <td>4617.95</td>\n",
              "      <td>4208.21</td>\n",
              "      <td>4276.41</td>\n",
              "      <td>4612.31</td>\n",
              "      <td>0</td>\n",
              "    </tr>\n",
              "    <tr>\n",
              "      <th>2</th>\n",
              "      <td>4291.28</td>\n",
              "      <td>4000.00</td>\n",
              "      <td>4261.03</td>\n",
              "      <td>4106.15</td>\n",
              "      <td>4338.97</td>\n",
              "      <td>4622.05</td>\n",
              "      <td>4060.51</td>\n",
              "      <td>4628.72</td>\n",
              "      <td>4201.03</td>\n",
              "      <td>4283.08</td>\n",
              "      <td>4612.31</td>\n",
              "      <td>0</td>\n",
              "    </tr>\n",
              "    <tr>\n",
              "      <th>3</th>\n",
              "      <td>4288.72</td>\n",
              "      <td>4000.51</td>\n",
              "      <td>4255.90</td>\n",
              "      <td>4114.87</td>\n",
              "      <td>4327.18</td>\n",
              "      <td>4613.85</td>\n",
              "      <td>4069.74</td>\n",
              "      <td>4586.67</td>\n",
              "      <td>4180.00</td>\n",
              "      <td>4270.77</td>\n",
              "      <td>4596.92</td>\n",
              "      <td>0</td>\n",
              "    </tr>\n",
              "    <tr>\n",
              "      <th>4</th>\n",
              "      <td>4376.41</td>\n",
              "      <td>4005.64</td>\n",
              "      <td>4283.08</td>\n",
              "      <td>4141.54</td>\n",
              "      <td>4322.05</td>\n",
              "      <td>4598.46</td>\n",
              "      <td>4064.62</td>\n",
              "      <td>4606.15</td>\n",
              "      <td>4208.72</td>\n",
              "      <td>4310.77</td>\n",
              "      <td>4683.59</td>\n",
              "      <td>1</td>\n",
              "    </tr>\n",
              "    <tr>\n",
              "      <th>...</th>\n",
              "      <td>...</td>\n",
              "      <td>...</td>\n",
              "      <td>...</td>\n",
              "      <td>...</td>\n",
              "      <td>...</td>\n",
              "      <td>...</td>\n",
              "      <td>...</td>\n",
              "      <td>...</td>\n",
              "      <td>...</td>\n",
              "      <td>...</td>\n",
              "      <td>...</td>\n",
              "      <td>...</td>\n",
              "    </tr>\n",
              "    <tr>\n",
              "      <th>10481</th>\n",
              "      <td>4285.64</td>\n",
              "      <td>3976.92</td>\n",
              "      <td>4233.33</td>\n",
              "      <td>4099.49</td>\n",
              "      <td>4341.03</td>\n",
              "      <td>4620.51</td>\n",
              "      <td>4054.87</td>\n",
              "      <td>4610.77</td>\n",
              "      <td>4177.95</td>\n",
              "      <td>4258.46</td>\n",
              "      <td>4603.59</td>\n",
              "      <td>0</td>\n",
              "    </tr>\n",
              "    <tr>\n",
              "      <th>10482</th>\n",
              "      <td>4285.64</td>\n",
              "      <td>3995.90</td>\n",
              "      <td>4263.59</td>\n",
              "      <td>4122.05</td>\n",
              "      <td>4332.82</td>\n",
              "      <td>4623.59</td>\n",
              "      <td>4073.33</td>\n",
              "      <td>4610.77</td>\n",
              "      <td>4209.74</td>\n",
              "      <td>4281.03</td>\n",
              "      <td>4617.95</td>\n",
              "      <td>0</td>\n",
              "    </tr>\n",
              "    <tr>\n",
              "      <th>10483</th>\n",
              "      <td>4260.51</td>\n",
              "      <td>3957.95</td>\n",
              "      <td>4242.05</td>\n",
              "      <td>4092.31</td>\n",
              "      <td>4317.95</td>\n",
              "      <td>4600.51</td>\n",
              "      <td>4046.15</td>\n",
              "      <td>4611.28</td>\n",
              "      <td>4193.85</td>\n",
              "      <td>4254.87</td>\n",
              "      <td>4578.46</td>\n",
              "      <td>0</td>\n",
              "    </tr>\n",
              "    <tr>\n",
              "      <th>10484</th>\n",
              "      <td>4295.90</td>\n",
              "      <td>4041.54</td>\n",
              "      <td>4266.67</td>\n",
              "      <td>4154.87</td>\n",
              "      <td>4350.26</td>\n",
              "      <td>4625.64</td>\n",
              "      <td>4079.49</td>\n",
              "      <td>4619.49</td>\n",
              "      <td>4197.44</td>\n",
              "      <td>4271.79</td>\n",
              "      <td>4601.54</td>\n",
              "      <td>1</td>\n",
              "    </tr>\n",
              "    <tr>\n",
              "      <th>10485</th>\n",
              "      <td>4370.77</td>\n",
              "      <td>4072.82</td>\n",
              "      <td>4275.90</td>\n",
              "      <td>4129.74</td>\n",
              "      <td>4347.69</td>\n",
              "      <td>4626.67</td>\n",
              "      <td>4082.05</td>\n",
              "      <td>4596.92</td>\n",
              "      <td>4189.23</td>\n",
              "      <td>4281.54</td>\n",
              "      <td>4587.69</td>\n",
              "      <td>0</td>\n",
              "    </tr>\n",
              "  </tbody>\n",
              "</table>\n",
              "<p>10486 rows × 12 columns</p>\n",
              "</div>\n",
              "      <button class=\"colab-df-convert\" onclick=\"convertToInteractive('df-34b79a54-3eb8-4d05-bdef-168df91a4bb2')\"\n",
              "              title=\"Convert this dataframe to an interactive table.\"\n",
              "              style=\"display:none;\">\n",
              "        \n",
              "  <svg xmlns=\"http://www.w3.org/2000/svg\" height=\"24px\"viewBox=\"0 0 24 24\"\n",
              "       width=\"24px\">\n",
              "    <path d=\"M0 0h24v24H0V0z\" fill=\"none\"/>\n",
              "    <path d=\"M18.56 5.44l.94 2.06.94-2.06 2.06-.94-2.06-.94-.94-2.06-.94 2.06-2.06.94zm-11 1L8.5 8.5l.94-2.06 2.06-.94-2.06-.94L8.5 2.5l-.94 2.06-2.06.94zm10 10l.94 2.06.94-2.06 2.06-.94-2.06-.94-.94-2.06-.94 2.06-2.06.94z\"/><path d=\"M17.41 7.96l-1.37-1.37c-.4-.4-.92-.59-1.43-.59-.52 0-1.04.2-1.43.59L10.3 9.45l-7.72 7.72c-.78.78-.78 2.05 0 2.83L4 21.41c.39.39.9.59 1.41.59.51 0 1.02-.2 1.41-.59l7.78-7.78 2.81-2.81c.8-.78.8-2.07 0-2.86zM5.41 20L4 18.59l7.72-7.72 1.47 1.35L5.41 20z\"/>\n",
              "  </svg>\n",
              "      </button>\n",
              "      \n",
              "  <style>\n",
              "    .colab-df-container {\n",
              "      display:flex;\n",
              "      flex-wrap:wrap;\n",
              "      gap: 12px;\n",
              "    }\n",
              "\n",
              "    .colab-df-convert {\n",
              "      background-color: #E8F0FE;\n",
              "      border: none;\n",
              "      border-radius: 50%;\n",
              "      cursor: pointer;\n",
              "      display: none;\n",
              "      fill: #1967D2;\n",
              "      height: 32px;\n",
              "      padding: 0 0 0 0;\n",
              "      width: 32px;\n",
              "    }\n",
              "\n",
              "    .colab-df-convert:hover {\n",
              "      background-color: #E2EBFA;\n",
              "      box-shadow: 0px 1px 2px rgba(60, 64, 67, 0.3), 0px 1px 3px 1px rgba(60, 64, 67, 0.15);\n",
              "      fill: #174EA6;\n",
              "    }\n",
              "\n",
              "    [theme=dark] .colab-df-convert {\n",
              "      background-color: #3B4455;\n",
              "      fill: #D2E3FC;\n",
              "    }\n",
              "\n",
              "    [theme=dark] .colab-df-convert:hover {\n",
              "      background-color: #434B5C;\n",
              "      box-shadow: 0px 1px 3px 1px rgba(0, 0, 0, 0.15);\n",
              "      filter: drop-shadow(0px 1px 2px rgba(0, 0, 0, 0.3));\n",
              "      fill: #FFFFFF;\n",
              "    }\n",
              "  </style>\n",
              "\n",
              "      <script>\n",
              "        const buttonEl =\n",
              "          document.querySelector('#df-34b79a54-3eb8-4d05-bdef-168df91a4bb2 button.colab-df-convert');\n",
              "        buttonEl.style.display =\n",
              "          google.colab.kernel.accessAllowed ? 'block' : 'none';\n",
              "\n",
              "        async function convertToInteractive(key) {\n",
              "          const element = document.querySelector('#df-34b79a54-3eb8-4d05-bdef-168df91a4bb2');\n",
              "          const dataTable =\n",
              "            await google.colab.kernel.invokeFunction('convertToInteractive',\n",
              "                                                     [key], {});\n",
              "          if (!dataTable) return;\n",
              "\n",
              "          const docLinkHtml = 'Like what you see? Visit the ' +\n",
              "            '<a target=\"_blank\" href=https://colab.research.google.com/notebooks/data_table.ipynb>data table notebook</a>'\n",
              "            + ' to learn more about interactive tables.';\n",
              "          element.innerHTML = '';\n",
              "          dataTable['output_type'] = 'display_data';\n",
              "          await google.colab.output.renderOutput(dataTable, element);\n",
              "          const docLink = document.createElement('div');\n",
              "          docLink.innerHTML = docLinkHtml;\n",
              "          element.appendChild(docLink);\n",
              "        }\n",
              "      </script>\n",
              "    </div>\n",
              "  </div>\n",
              "  "
            ]
          },
          "metadata": {},
          "execution_count": 11
        }
      ]
    },
    {
      "cell_type": "code",
      "source": [
        "data_test"
      ],
      "metadata": {
        "colab": {
          "base_uri": "https://localhost:8080/",
          "height": 424
        },
        "id": "-avStjPPwQKG",
        "outputId": "da13aa88-8961-4239-b9e5-24a64e6421ba"
      },
      "execution_count": null,
      "outputs": [
        {
          "output_type": "execute_result",
          "data": {
            "text/plain": [
              "          AF3       F7       F3      FC5       T7       P7       O1       O2  \\\n",
              "0     4326.67  4047.69  4270.77  4114.87  4353.85  4631.79  4113.33  4627.18   \n",
              "1     4282.05  3989.74  4260.00  4134.36  4350.77  4623.08  4073.85  4614.87   \n",
              "2     4290.77  4003.08  4265.13  4098.97  4340.51  4616.92  4073.85  4612.82   \n",
              "3     4274.36  3974.87  4244.62  4111.79  4328.72  4606.15  4053.85  4622.05   \n",
              "4     4288.21  3976.41  4263.59  4123.08  4341.03  4624.62  4068.21  4639.49   \n",
              "...       ...      ...      ...      ...      ...      ...      ...      ...   \n",
              "4489  4277.44  3985.64  4250.26  4118.46  4336.92  4615.38  4065.64  4614.36   \n",
              "4490  4377.95  4013.85  4280.51  4118.46  4334.87  4618.97  4070.26  4620.51   \n",
              "4491  4281.03  3977.44  4255.90  4123.59  4349.74  4631.28  4076.41  4626.15   \n",
              "4492  4307.18  3992.31  4269.74  4122.05  4344.10  4633.33  4060.00  4630.26   \n",
              "4493  4303.08  4029.23  4262.05  4123.08  4340.00  4624.10  4071.79  4615.38   \n",
              "\n",
              "          FC6       F4       F8  \n",
              "0     4219.49  4292.31  4622.56  \n",
              "1     4189.23  4260.00  4597.44  \n",
              "2     4208.21  4275.38  4607.18  \n",
              "3     4193.33  4265.13  4588.72  \n",
              "4     4209.23  4293.85  4599.49  \n",
              "...       ...      ...      ...  \n",
              "4489  4198.46  4265.13  4598.97  \n",
              "4490  4246.67  4308.21  4689.74  \n",
              "4491  4208.72  4270.26  4613.85  \n",
              "4492  4228.21  4289.74  4618.97  \n",
              "4493  4190.26  4284.62  4605.64  \n",
              "\n",
              "[4494 rows x 11 columns]"
            ],
            "text/html": [
              "\n",
              "  <div id=\"df-5e788361-633a-4577-9286-6d27251a3cb5\">\n",
              "    <div class=\"colab-df-container\">\n",
              "      <div>\n",
              "<style scoped>\n",
              "    .dataframe tbody tr th:only-of-type {\n",
              "        vertical-align: middle;\n",
              "    }\n",
              "\n",
              "    .dataframe tbody tr th {\n",
              "        vertical-align: top;\n",
              "    }\n",
              "\n",
              "    .dataframe thead th {\n",
              "        text-align: right;\n",
              "    }\n",
              "</style>\n",
              "<table border=\"1\" class=\"dataframe\">\n",
              "  <thead>\n",
              "    <tr style=\"text-align: right;\">\n",
              "      <th></th>\n",
              "      <th>AF3</th>\n",
              "      <th>F7</th>\n",
              "      <th>F3</th>\n",
              "      <th>FC5</th>\n",
              "      <th>T7</th>\n",
              "      <th>P7</th>\n",
              "      <th>O1</th>\n",
              "      <th>O2</th>\n",
              "      <th>FC6</th>\n",
              "      <th>F4</th>\n",
              "      <th>F8</th>\n",
              "    </tr>\n",
              "  </thead>\n",
              "  <tbody>\n",
              "    <tr>\n",
              "      <th>0</th>\n",
              "      <td>4326.67</td>\n",
              "      <td>4047.69</td>\n",
              "      <td>4270.77</td>\n",
              "      <td>4114.87</td>\n",
              "      <td>4353.85</td>\n",
              "      <td>4631.79</td>\n",
              "      <td>4113.33</td>\n",
              "      <td>4627.18</td>\n",
              "      <td>4219.49</td>\n",
              "      <td>4292.31</td>\n",
              "      <td>4622.56</td>\n",
              "    </tr>\n",
              "    <tr>\n",
              "      <th>1</th>\n",
              "      <td>4282.05</td>\n",
              "      <td>3989.74</td>\n",
              "      <td>4260.00</td>\n",
              "      <td>4134.36</td>\n",
              "      <td>4350.77</td>\n",
              "      <td>4623.08</td>\n",
              "      <td>4073.85</td>\n",
              "      <td>4614.87</td>\n",
              "      <td>4189.23</td>\n",
              "      <td>4260.00</td>\n",
              "      <td>4597.44</td>\n",
              "    </tr>\n",
              "    <tr>\n",
              "      <th>2</th>\n",
              "      <td>4290.77</td>\n",
              "      <td>4003.08</td>\n",
              "      <td>4265.13</td>\n",
              "      <td>4098.97</td>\n",
              "      <td>4340.51</td>\n",
              "      <td>4616.92</td>\n",
              "      <td>4073.85</td>\n",
              "      <td>4612.82</td>\n",
              "      <td>4208.21</td>\n",
              "      <td>4275.38</td>\n",
              "      <td>4607.18</td>\n",
              "    </tr>\n",
              "    <tr>\n",
              "      <th>3</th>\n",
              "      <td>4274.36</td>\n",
              "      <td>3974.87</td>\n",
              "      <td>4244.62</td>\n",
              "      <td>4111.79</td>\n",
              "      <td>4328.72</td>\n",
              "      <td>4606.15</td>\n",
              "      <td>4053.85</td>\n",
              "      <td>4622.05</td>\n",
              "      <td>4193.33</td>\n",
              "      <td>4265.13</td>\n",
              "      <td>4588.72</td>\n",
              "    </tr>\n",
              "    <tr>\n",
              "      <th>4</th>\n",
              "      <td>4288.21</td>\n",
              "      <td>3976.41</td>\n",
              "      <td>4263.59</td>\n",
              "      <td>4123.08</td>\n",
              "      <td>4341.03</td>\n",
              "      <td>4624.62</td>\n",
              "      <td>4068.21</td>\n",
              "      <td>4639.49</td>\n",
              "      <td>4209.23</td>\n",
              "      <td>4293.85</td>\n",
              "      <td>4599.49</td>\n",
              "    </tr>\n",
              "    <tr>\n",
              "      <th>...</th>\n",
              "      <td>...</td>\n",
              "      <td>...</td>\n",
              "      <td>...</td>\n",
              "      <td>...</td>\n",
              "      <td>...</td>\n",
              "      <td>...</td>\n",
              "      <td>...</td>\n",
              "      <td>...</td>\n",
              "      <td>...</td>\n",
              "      <td>...</td>\n",
              "      <td>...</td>\n",
              "    </tr>\n",
              "    <tr>\n",
              "      <th>4489</th>\n",
              "      <td>4277.44</td>\n",
              "      <td>3985.64</td>\n",
              "      <td>4250.26</td>\n",
              "      <td>4118.46</td>\n",
              "      <td>4336.92</td>\n",
              "      <td>4615.38</td>\n",
              "      <td>4065.64</td>\n",
              "      <td>4614.36</td>\n",
              "      <td>4198.46</td>\n",
              "      <td>4265.13</td>\n",
              "      <td>4598.97</td>\n",
              "    </tr>\n",
              "    <tr>\n",
              "      <th>4490</th>\n",
              "      <td>4377.95</td>\n",
              "      <td>4013.85</td>\n",
              "      <td>4280.51</td>\n",
              "      <td>4118.46</td>\n",
              "      <td>4334.87</td>\n",
              "      <td>4618.97</td>\n",
              "      <td>4070.26</td>\n",
              "      <td>4620.51</td>\n",
              "      <td>4246.67</td>\n",
              "      <td>4308.21</td>\n",
              "      <td>4689.74</td>\n",
              "    </tr>\n",
              "    <tr>\n",
              "      <th>4491</th>\n",
              "      <td>4281.03</td>\n",
              "      <td>3977.44</td>\n",
              "      <td>4255.90</td>\n",
              "      <td>4123.59</td>\n",
              "      <td>4349.74</td>\n",
              "      <td>4631.28</td>\n",
              "      <td>4076.41</td>\n",
              "      <td>4626.15</td>\n",
              "      <td>4208.72</td>\n",
              "      <td>4270.26</td>\n",
              "      <td>4613.85</td>\n",
              "    </tr>\n",
              "    <tr>\n",
              "      <th>4492</th>\n",
              "      <td>4307.18</td>\n",
              "      <td>3992.31</td>\n",
              "      <td>4269.74</td>\n",
              "      <td>4122.05</td>\n",
              "      <td>4344.10</td>\n",
              "      <td>4633.33</td>\n",
              "      <td>4060.00</td>\n",
              "      <td>4630.26</td>\n",
              "      <td>4228.21</td>\n",
              "      <td>4289.74</td>\n",
              "      <td>4618.97</td>\n",
              "    </tr>\n",
              "    <tr>\n",
              "      <th>4493</th>\n",
              "      <td>4303.08</td>\n",
              "      <td>4029.23</td>\n",
              "      <td>4262.05</td>\n",
              "      <td>4123.08</td>\n",
              "      <td>4340.00</td>\n",
              "      <td>4624.10</td>\n",
              "      <td>4071.79</td>\n",
              "      <td>4615.38</td>\n",
              "      <td>4190.26</td>\n",
              "      <td>4284.62</td>\n",
              "      <td>4605.64</td>\n",
              "    </tr>\n",
              "  </tbody>\n",
              "</table>\n",
              "<p>4494 rows × 11 columns</p>\n",
              "</div>\n",
              "      <button class=\"colab-df-convert\" onclick=\"convertToInteractive('df-5e788361-633a-4577-9286-6d27251a3cb5')\"\n",
              "              title=\"Convert this dataframe to an interactive table.\"\n",
              "              style=\"display:none;\">\n",
              "        \n",
              "  <svg xmlns=\"http://www.w3.org/2000/svg\" height=\"24px\"viewBox=\"0 0 24 24\"\n",
              "       width=\"24px\">\n",
              "    <path d=\"M0 0h24v24H0V0z\" fill=\"none\"/>\n",
              "    <path d=\"M18.56 5.44l.94 2.06.94-2.06 2.06-.94-2.06-.94-.94-2.06-.94 2.06-2.06.94zm-11 1L8.5 8.5l.94-2.06 2.06-.94-2.06-.94L8.5 2.5l-.94 2.06-2.06.94zm10 10l.94 2.06.94-2.06 2.06-.94-2.06-.94-.94-2.06-.94 2.06-2.06.94z\"/><path d=\"M17.41 7.96l-1.37-1.37c-.4-.4-.92-.59-1.43-.59-.52 0-1.04.2-1.43.59L10.3 9.45l-7.72 7.72c-.78.78-.78 2.05 0 2.83L4 21.41c.39.39.9.59 1.41.59.51 0 1.02-.2 1.41-.59l7.78-7.78 2.81-2.81c.8-.78.8-2.07 0-2.86zM5.41 20L4 18.59l7.72-7.72 1.47 1.35L5.41 20z\"/>\n",
              "  </svg>\n",
              "      </button>\n",
              "      \n",
              "  <style>\n",
              "    .colab-df-container {\n",
              "      display:flex;\n",
              "      flex-wrap:wrap;\n",
              "      gap: 12px;\n",
              "    }\n",
              "\n",
              "    .colab-df-convert {\n",
              "      background-color: #E8F0FE;\n",
              "      border: none;\n",
              "      border-radius: 50%;\n",
              "      cursor: pointer;\n",
              "      display: none;\n",
              "      fill: #1967D2;\n",
              "      height: 32px;\n",
              "      padding: 0 0 0 0;\n",
              "      width: 32px;\n",
              "    }\n",
              "\n",
              "    .colab-df-convert:hover {\n",
              "      background-color: #E2EBFA;\n",
              "      box-shadow: 0px 1px 2px rgba(60, 64, 67, 0.3), 0px 1px 3px 1px rgba(60, 64, 67, 0.15);\n",
              "      fill: #174EA6;\n",
              "    }\n",
              "\n",
              "    [theme=dark] .colab-df-convert {\n",
              "      background-color: #3B4455;\n",
              "      fill: #D2E3FC;\n",
              "    }\n",
              "\n",
              "    [theme=dark] .colab-df-convert:hover {\n",
              "      background-color: #434B5C;\n",
              "      box-shadow: 0px 1px 3px 1px rgba(0, 0, 0, 0.15);\n",
              "      filter: drop-shadow(0px 1px 2px rgba(0, 0, 0, 0.3));\n",
              "      fill: #FFFFFF;\n",
              "    }\n",
              "  </style>\n",
              "\n",
              "      <script>\n",
              "        const buttonEl =\n",
              "          document.querySelector('#df-5e788361-633a-4577-9286-6d27251a3cb5 button.colab-df-convert');\n",
              "        buttonEl.style.display =\n",
              "          google.colab.kernel.accessAllowed ? 'block' : 'none';\n",
              "\n",
              "        async function convertToInteractive(key) {\n",
              "          const element = document.querySelector('#df-5e788361-633a-4577-9286-6d27251a3cb5');\n",
              "          const dataTable =\n",
              "            await google.colab.kernel.invokeFunction('convertToInteractive',\n",
              "                                                     [key], {});\n",
              "          if (!dataTable) return;\n",
              "\n",
              "          const docLinkHtml = 'Like what you see? Visit the ' +\n",
              "            '<a target=\"_blank\" href=https://colab.research.google.com/notebooks/data_table.ipynb>data table notebook</a>'\n",
              "            + ' to learn more about interactive tables.';\n",
              "          element.innerHTML = '';\n",
              "          dataTable['output_type'] = 'display_data';\n",
              "          await google.colab.output.renderOutput(dataTable, element);\n",
              "          const docLink = document.createElement('div');\n",
              "          docLink.innerHTML = docLinkHtml;\n",
              "          element.appendChild(docLink);\n",
              "        }\n",
              "      </script>\n",
              "    </div>\n",
              "  </div>\n",
              "  "
            ]
          },
          "metadata": {},
          "execution_count": 12
        }
      ]
    },
    {
      "cell_type": "code",
      "source": [
        "def data_scaling( scaling_strategy , scaling_data , scaling_columns ):\n",
        "    \n",
        "    if    scaling_strategy ==\"RobustScaler\" :\n",
        "        scaling_data[scaling_columns] = RobustScaler().fit_transform(scaling_data[scaling_columns])\n",
        "        \n",
        "    elif  scaling_strategy ==\"StandardScaler\" :\n",
        "        scaling_data[scaling_columns] = StandardScaler().fit_transform(scaling_data[scaling_columns])\n",
        "        \n",
        "    elif  scaling_strategy ==\"MinMaxScaler\" :\n",
        "        scaling_data[scaling_columns] = MinMaxScaler().fit_transform(scaling_data[scaling_columns])\n",
        "        \n",
        "    elif  scaling_strategy ==\"MaxAbsScaler\" :\n",
        "        scaling_data[scaling_columns] = MaxAbsScaler().fit_transform(scaling_data[scaling_columns])\n",
        "        \n",
        "    else :  # If any other scaling send by mistake still perform Robust Scalar\n",
        "        scaling_data[scaling_columns] = RobustScaler().fit_transform(scaling_data[scaling_columns])\n",
        "    \n",
        "    return scaling_data"
      ],
      "metadata": {
        "id": "aUlODWvawVuX"
      },
      "execution_count": null,
      "outputs": []
    },
    {
      "cell_type": "code",
      "source": [
        "scaling_strategy = [\"RobustScaler\", \"StandardScaler\",\"MinMaxScaler\",\"MaxAbsScaler\"]\n",
        "X_train_scale = data_scaling( scaling_strategy[0] , data_train.iloc[:,:-1],data_train.iloc[:,:-1].columns )\n",
        "X_test_scale  = data_scaling( scaling_strategy [0] , data_test , data_test.columns )"
      ],
      "metadata": {
        "id": "ATfEJNHaw0O4"
      },
      "execution_count": null,
      "outputs": []
    },
    {
      "cell_type": "code",
      "source": [
        "Classifiers = {'0._XGBoost' : XGBClassifier(learning_rate =0.1, n_estimators=5000, max_depth=5,subsample = 0.70, verbosity = 0,\n",
        "                                            scale_pos_weight = 2.5,updater =\"grow_histmaker\",base_score  = 0.5),\n",
        "               \n",
        "               '1.CatBoost' : CatBoostClassifier(learning_rate=0.15, n_estimators=5000, subsample=0.085, \n",
        "                                                 max_depth=5, scale_pos_weight=2.5),\n",
        "               \n",
        "               '2.LightGBM' : LGBMClassifier(subsample_freq = 2, objective =\"binary\",importance_type = \"gain\",\n",
        "                                             verbosity = -1, max_bin = 60,num_leaves = 300,\n",
        "                                             boosting_type = 'dart',learning_rate=0.15, \n",
        "                                             n_estimators=5000\n",
        "                                             , max_depth=5, scale_pos_weight=2.5)\n",
        " }\n",
        "\n",
        "print( list(Classifiers.keys()) )\n",
        "print( list(Classifiers.values()) )"
      ],
      "metadata": {
        "colab": {
          "base_uri": "https://localhost:8080/"
        },
        "id": "mgHoB9NCxEOE",
        "outputId": "82ff2e23-93a4-4669-e48b-97641abf1c3b"
      },
      "execution_count": null,
      "outputs": [
        {
          "output_type": "stream",
          "name": "stdout",
          "text": [
            "['0._XGBoost', '1.CatBoost', '2.LightGBM']\n",
            "[XGBClassifier(max_depth=5, n_estimators=5000, scale_pos_weight=2.5,\n",
            "              subsample=0.7, updater='grow_histmaker', verbosity=0), <catboost.core.CatBoostClassifier object at 0x7f6acf5d6210>, LGBMClassifier(boosting_type='dart', importance_type='gain', learning_rate=0.15,\n",
            "               max_bin=60, max_depth=5, n_estimators=5000, num_leaves=300,\n",
            "               objective='binary', scale_pos_weight=2.5, subsample_freq=2,\n",
            "               verbosity=-1)]\n"
          ]
        }
      ]
    },
    {
      "cell_type": "code",
      "source": [
        "ensemble_model_2 = VotingClassifier(estimators=[\n",
        "                                              ('XGBoost_Best', list(Classifiers.values())[0]), \n",
        "                                              ('CatBoost_Best', list(Classifiers.values())[1]),\n",
        "                                              ('LightGBM_Best', list(Classifiers.values())[2]),\n",
        "                                             ], \n",
        "                                              voting='soft',weights=[5,5,5.2])\n",
        "\n",
        "file_name = \"submission\"\n",
        "ensemble_model_2.fit(X_train_scale,data_train.iloc[:,-1]) \n",
        "\n",
        "Predicted_predictions_model_2 = ensemble_model_2.predict_proba( X_test_scale )[::,1]"
      ],
      "metadata": {
        "id": "yalnmAkFxKxn"
      },
      "execution_count": null,
      "outputs": []
    },
    {
      "cell_type": "code",
      "source": [
        "# predictions_2 = [1 if value>=0.50009 else 0 for value in Predicted_predictions_model_2 ] # \n",
        "predictions_2 = [int(round(value)) for value in Predicted_predictions_model_2]\n",
        "Result_Promoted = pd.DataFrame({'eyeDetection' : predictions_2})\n",
        "pd.DataFrame(Result_Promoted).to_csv(file_name+\".csv\",index=False)"
      ],
      "metadata": {
        "id": "8vL4GUDQxidP"
      },
      "execution_count": null,
      "outputs": []
    },
    {
      "cell_type": "code",
      "source": [
        "\n"
      ],
      "metadata": {
        "id": "LEsPWXVwyzT1"
      },
      "execution_count": null,
      "outputs": []
    }
  ]
}