{
  "cells": [
    {
      "cell_type": "markdown",
      "metadata": {
        "id": "view-in-github",
        "colab_type": "text"
      },
      "source": [
        "<a href=\"https://colab.research.google.com/github/udaybhaskar717/Dphi/blob/main/BCC_Paper__FINAL.ipynb\" target=\"_parent\"><img src=\"https://colab.research.google.com/assets/colab-badge.svg\" alt=\"Open In Colab\"/></a>"
      ]
    },
    {
      "cell_type": "markdown",
      "metadata": {
        "id": "lQNVv8ZkVwke"
      },
      "source": [
        "# Importing Libraries"
      ]
    },
    {
      "cell_type": "code",
      "execution_count": null,
      "metadata": {
        "id": "lgfF7y6IU18N"
      },
      "outputs": [],
      "source": [
        "import pandas as pd\n",
        "import numpy as np\n",
        "import re\n",
        "import seaborn as sns\n",
        "import matplotlib.pyplot as plt\n",
        "import matplotlib.colors\n",
        "\n",
        "from sklearn                 import preprocessing\n",
        "from sklearn.model_selection import train_test_split\n",
        "from sklearn.ensemble        import RandomForestRegressor\n",
        "from sklearn.datasets        import make_regression\n",
        "from sklearn.model_selection import GridSearchCV\n",
        "from sklearn                 import ensemble\n",
        "from sklearn.ensemble        import AdaBoostRegressor\n",
        "from sklearn.tree            import DecisionTreeRegressor\n",
        "from sklearn.metrics         import r2_score\n",
        "from sklearn                 import tree\n",
        "from google.colab            import files\n",
        "from sklearn                 import tree\n",
        "import matplotlib.colors"
      ]
    },
    {
      "cell_type": "markdown",
      "metadata": {
        "id": "tInFP6EFV3iU"
      },
      "source": [
        "# EDA"
      ]
    },
    {
      "cell_type": "code",
      "execution_count": null,
      "metadata": {
        "id": "I0GQa9qWV5yH"
      },
      "outputs": [],
      "source": [
        "data=pd.read_excel(\"/content/BCC_NEW.xlsx\")"
      ]
    },
    {
      "cell_type": "code",
      "execution_count": null,
      "metadata": {
        "colab": {
          "base_uri": "https://localhost:8080/",
          "height": 424
        },
        "id": "IKsMAJtuWFof",
        "outputId": "18268b21-0832-48e1-927a-00bacd8e514a"
      },
      "outputs": [
        {
          "output_type": "execute_result",
          "data": {
            "text/plain": [
              "                     Composition       Comment 1   Wt.% H\n",
              "0                       Nb1-xFex  (x=0.004-0.01)  2.0-2.1\n",
              "1                   Nb.994Ge.006             NaN     92.1\n",
              "2                       Nb1-xSix  (x=0.01-0.026)  2.0-2.1\n",
              "3                       Ni1-xCux     (x=0.1-0.5)  0.4-1.2\n",
              "4                       Ni.8Cu.2             NaN       --\n",
              "..                           ...             ...      ...\n",
              "280      V0.56Ti0.20Cr0.12Mn0.12             NaN     1.85\n",
              "281  V0.778Ti0.074Zr0.074Ni0.074             NaN     1.35\n",
              "282    V0.77Ti0.10Cr0.06Fe0.06Zr             NaN     1.82\n",
              "283    V0.40Ti0.225Cr0.325Fe0.05             NaN     0.75\n",
              "284      V0.57Ti0.16Zr0.05Cr0.22             NaN     2.14\n",
              "\n",
              "[285 rows x 3 columns]"
            ],
            "text/html": [
              "\n",
              "  <div id=\"df-45ede5d4-b72d-4886-b55b-adde1c5f43fd\">\n",
              "    <div class=\"colab-df-container\">\n",
              "      <div>\n",
              "<style scoped>\n",
              "    .dataframe tbody tr th:only-of-type {\n",
              "        vertical-align: middle;\n",
              "    }\n",
              "\n",
              "    .dataframe tbody tr th {\n",
              "        vertical-align: top;\n",
              "    }\n",
              "\n",
              "    .dataframe thead th {\n",
              "        text-align: right;\n",
              "    }\n",
              "</style>\n",
              "<table border=\"1\" class=\"dataframe\">\n",
              "  <thead>\n",
              "    <tr style=\"text-align: right;\">\n",
              "      <th></th>\n",
              "      <th>Composition</th>\n",
              "      <th>Comment 1</th>\n",
              "      <th>Wt.% H</th>\n",
              "    </tr>\n",
              "  </thead>\n",
              "  <tbody>\n",
              "    <tr>\n",
              "      <th>0</th>\n",
              "      <td>Nb1-xFex</td>\n",
              "      <td>(x=0.004-0.01)</td>\n",
              "      <td>2.0-2.1</td>\n",
              "    </tr>\n",
              "    <tr>\n",
              "      <th>1</th>\n",
              "      <td>Nb.994Ge.006</td>\n",
              "      <td>NaN</td>\n",
              "      <td>92.1</td>\n",
              "    </tr>\n",
              "    <tr>\n",
              "      <th>2</th>\n",
              "      <td>Nb1-xSix</td>\n",
              "      <td>(x=0.01-0.026)</td>\n",
              "      <td>2.0-2.1</td>\n",
              "    </tr>\n",
              "    <tr>\n",
              "      <th>3</th>\n",
              "      <td>Ni1-xCux</td>\n",
              "      <td>(x=0.1-0.5)</td>\n",
              "      <td>0.4-1.2</td>\n",
              "    </tr>\n",
              "    <tr>\n",
              "      <th>4</th>\n",
              "      <td>Ni.8Cu.2</td>\n",
              "      <td>NaN</td>\n",
              "      <td>--</td>\n",
              "    </tr>\n",
              "    <tr>\n",
              "      <th>...</th>\n",
              "      <td>...</td>\n",
              "      <td>...</td>\n",
              "      <td>...</td>\n",
              "    </tr>\n",
              "    <tr>\n",
              "      <th>280</th>\n",
              "      <td>V0.56Ti0.20Cr0.12Mn0.12</td>\n",
              "      <td>NaN</td>\n",
              "      <td>1.85</td>\n",
              "    </tr>\n",
              "    <tr>\n",
              "      <th>281</th>\n",
              "      <td>V0.778Ti0.074Zr0.074Ni0.074</td>\n",
              "      <td>NaN</td>\n",
              "      <td>1.35</td>\n",
              "    </tr>\n",
              "    <tr>\n",
              "      <th>282</th>\n",
              "      <td>V0.77Ti0.10Cr0.06Fe0.06Zr</td>\n",
              "      <td>NaN</td>\n",
              "      <td>1.82</td>\n",
              "    </tr>\n",
              "    <tr>\n",
              "      <th>283</th>\n",
              "      <td>V0.40Ti0.225Cr0.325Fe0.05</td>\n",
              "      <td>NaN</td>\n",
              "      <td>0.75</td>\n",
              "    </tr>\n",
              "    <tr>\n",
              "      <th>284</th>\n",
              "      <td>V0.57Ti0.16Zr0.05Cr0.22</td>\n",
              "      <td>NaN</td>\n",
              "      <td>2.14</td>\n",
              "    </tr>\n",
              "  </tbody>\n",
              "</table>\n",
              "<p>285 rows × 3 columns</p>\n",
              "</div>\n",
              "      <button class=\"colab-df-convert\" onclick=\"convertToInteractive('df-45ede5d4-b72d-4886-b55b-adde1c5f43fd')\"\n",
              "              title=\"Convert this dataframe to an interactive table.\"\n",
              "              style=\"display:none;\">\n",
              "        \n",
              "  <svg xmlns=\"http://www.w3.org/2000/svg\" height=\"24px\"viewBox=\"0 0 24 24\"\n",
              "       width=\"24px\">\n",
              "    <path d=\"M0 0h24v24H0V0z\" fill=\"none\"/>\n",
              "    <path d=\"M18.56 5.44l.94 2.06.94-2.06 2.06-.94-2.06-.94-.94-2.06-.94 2.06-2.06.94zm-11 1L8.5 8.5l.94-2.06 2.06-.94-2.06-.94L8.5 2.5l-.94 2.06-2.06.94zm10 10l.94 2.06.94-2.06 2.06-.94-2.06-.94-.94-2.06-.94 2.06-2.06.94z\"/><path d=\"M17.41 7.96l-1.37-1.37c-.4-.4-.92-.59-1.43-.59-.52 0-1.04.2-1.43.59L10.3 9.45l-7.72 7.72c-.78.78-.78 2.05 0 2.83L4 21.41c.39.39.9.59 1.41.59.51 0 1.02-.2 1.41-.59l7.78-7.78 2.81-2.81c.8-.78.8-2.07 0-2.86zM5.41 20L4 18.59l7.72-7.72 1.47 1.35L5.41 20z\"/>\n",
              "  </svg>\n",
              "      </button>\n",
              "      \n",
              "  <style>\n",
              "    .colab-df-container {\n",
              "      display:flex;\n",
              "      flex-wrap:wrap;\n",
              "      gap: 12px;\n",
              "    }\n",
              "\n",
              "    .colab-df-convert {\n",
              "      background-color: #E8F0FE;\n",
              "      border: none;\n",
              "      border-radius: 50%;\n",
              "      cursor: pointer;\n",
              "      display: none;\n",
              "      fill: #1967D2;\n",
              "      height: 32px;\n",
              "      padding: 0 0 0 0;\n",
              "      width: 32px;\n",
              "    }\n",
              "\n",
              "    .colab-df-convert:hover {\n",
              "      background-color: #E2EBFA;\n",
              "      box-shadow: 0px 1px 2px rgba(60, 64, 67, 0.3), 0px 1px 3px 1px rgba(60, 64, 67, 0.15);\n",
              "      fill: #174EA6;\n",
              "    }\n",
              "\n",
              "    [theme=dark] .colab-df-convert {\n",
              "      background-color: #3B4455;\n",
              "      fill: #D2E3FC;\n",
              "    }\n",
              "\n",
              "    [theme=dark] .colab-df-convert:hover {\n",
              "      background-color: #434B5C;\n",
              "      box-shadow: 0px 1px 3px 1px rgba(0, 0, 0, 0.15);\n",
              "      filter: drop-shadow(0px 1px 2px rgba(0, 0, 0, 0.3));\n",
              "      fill: #FFFFFF;\n",
              "    }\n",
              "  </style>\n",
              "\n",
              "      <script>\n",
              "        const buttonEl =\n",
              "          document.querySelector('#df-45ede5d4-b72d-4886-b55b-adde1c5f43fd button.colab-df-convert');\n",
              "        buttonEl.style.display =\n",
              "          google.colab.kernel.accessAllowed ? 'block' : 'none';\n",
              "\n",
              "        async function convertToInteractive(key) {\n",
              "          const element = document.querySelector('#df-45ede5d4-b72d-4886-b55b-adde1c5f43fd');\n",
              "          const dataTable =\n",
              "            await google.colab.kernel.invokeFunction('convertToInteractive',\n",
              "                                                     [key], {});\n",
              "          if (!dataTable) return;\n",
              "\n",
              "          const docLinkHtml = 'Like what you see? Visit the ' +\n",
              "            '<a target=\"_blank\" href=https://colab.research.google.com/notebooks/data_table.ipynb>data table notebook</a>'\n",
              "            + ' to learn more about interactive tables.';\n",
              "          element.innerHTML = '';\n",
              "          dataTable['output_type'] = 'display_data';\n",
              "          await google.colab.output.renderOutput(dataTable, element);\n",
              "          const docLink = document.createElement('div');\n",
              "          docLink.innerHTML = docLinkHtml;\n",
              "          element.appendChild(docLink);\n",
              "        }\n",
              "      </script>\n",
              "    </div>\n",
              "  </div>\n",
              "  "
            ]
          },
          "metadata": {},
          "execution_count": 50
        }
      ],
      "source": [
        "data"
      ]
    },
    {
      "cell_type": "code",
      "execution_count": null,
      "metadata": {
        "id": "KLi8Pw_2WHQK"
      },
      "outputs": [],
      "source": [
        "df=data[data[\"Wt.% H\"] !='--']"
      ]
    },
    {
      "cell_type": "code",
      "execution_count": null,
      "metadata": {
        "id": "uD2gxpJDWKVu"
      },
      "outputs": [],
      "source": [
        "def remove_fn(m):\n",
        "    return list(map(float,(''.join(i for i in m if i not in ['X','y','x','(',')','=',\"&\",'a','n','d',' '])).split('-')))"
      ]
    },
    {
      "cell_type": "code",
      "execution_count": null,
      "metadata": {
        "id": "tgto62YjWNmm"
      },
      "outputs": [],
      "source": [
        "index=df[df[\"Comment 1\"].notnull() ].index\n",
        "index1=[i for i in df.index if i not in index]"
      ]
    },
    {
      "cell_type": "code",
      "execution_count": null,
      "metadata": {
        "colab": {
          "base_uri": "https://localhost:8080/"
        },
        "id": "dCjpW4cDWQ1V",
        "outputId": "32657de5-1b8a-46c6-be04-789cb3c1be90"
      },
      "outputs": [
        {
          "output_type": "stream",
          "name": "stdout",
          "text": [
            "{0: [0.004, 0.01], 2: [0.01, 0.026], 3: [0.1, 0.5], 8: [0.0, 0.4], 14: [0.033, 0.162], 16: [0.0, 0.1], 19: [0.075, 0.101], 26: [0.025, 0.075], 27: [0.05, 0.2], 31: [0.02, 0.05], 33: [0.02, 0.05], 40: [0.0, 0.075], 41: [0.025, 0.05], 43: [0.026, 0.083], 45: [0.05, 0.15], 49: [0.05, 0.4], 53: [0.04, 0.1], 55: [0.0, 0.1], 57: [0.025, 0.075], 59: [0.0, 0.1], 62: [0.0, 0.04], 63: [0.02, 0.05], 64: [0.01, 0.04], 67: [0.02, 0.125], 68: [0.11, 0.19], 71: [0.18, 0.33], 72: [0.11, 0.26], 73: [0.14, 0.69], 74: [0.02, 0.35], 76: [0.2, 0.8], 78: [0.2, 0.6], 79: [0.3, 0.8], 81: [0.0, 1.0], 85: [0.005, 0.008], 87: [0.01, 0.049], 88: [0.0, 0.1], 90: [0.001, 0.009], 91: [0.003, 0.011], 96: [0.001, 0.017], 98: [0.004, 0.006], 103: [0.34, 0.5], 116: [0.008, 0.01], 119: [0.23, 0.82], 121: [0.12, 0.25], 123: [0.049, 0.197], 134: [0.02, 0.09], 135: [0.01, 0.03], 136: [0.018, 0.085], 138: [0.05, 0.15], 140: [0.1, 0.3], 153: [0.0, 0.25], 156: [0.1, 0.9], 157: [0.1, 0.9], 166: [0.037, 0.1], 172: [0.2, 0.8], 174: [0.2, 0.8], 178: [0.2, 0.8], 184: [0.0, 0.03], 189: [0.0, 0.1], 226: [0.36, 0.43], 229: [0.025, 0.075], 231: [0.0, 0.15], 232: [0.24, 0.28], 237: [0.03, 0.1]}\n"
          ]
        }
      ],
      "source": [
        "d1=dict()\n",
        "for t in index1:\n",
        "    d1[df.loc[t,\"Composition\"]]=df.loc[t,\"Wt.% H\"]\n",
        "l1=dict()\n",
        "for i in index:\n",
        "    l1[i]=remove_fn(df.loc[i,\"Comment 1\"])\n",
        "print(l1)"
      ]
    },
    {
      "cell_type": "code",
      "execution_count": null,
      "metadata": {
        "id": "o56ylVy7WT4o",
        "colab": {
          "base_uri": "https://localhost:8080/"
        },
        "outputId": "d63de7b7-cf1b-4fe7-a888-5c12afb52c0f"
      },
      "outputs": [
        {
          "output_type": "stream",
          "name": "stderr",
          "text": [
            "/usr/local/lib/python3.7/dist-packages/pandas/core/indexing.py:1732: SettingWithCopyWarning: \n",
            "A value is trying to be set on a copy of a slice from a DataFrame\n",
            "\n",
            "See the caveats in the documentation: https://pandas.pydata.org/pandas-docs/stable/user_guide/indexing.html#returning-a-view-versus-a-copy\n",
            "  self._setitem_single_block(indexer, value, name)\n",
            "/usr/local/lib/python3.7/dist-packages/pandas/core/indexing.py:723: SettingWithCopyWarning: \n",
            "A value is trying to be set on a copy of a slice from a DataFrame\n",
            "\n",
            "See the caveats in the documentation: https://pandas.pydata.org/pandas-docs/stable/user_guide/indexing.html#returning-a-view-versus-a-copy\n",
            "  iloc._setitem_with_indexer(indexer, value, self.name)\n"
          ]
        }
      ],
      "source": [
        "l2=[]\n",
        "for i in index:\n",
        "    if type(df.loc[i,\"Wt.% H\"])==float:\n",
        "        df.loc[i,\"Wt.% H\"]=str(df.loc[i,\"Wt.% H\"])+'-'+str(df.loc[i,\"Wt.% H\"])\n",
        "    l2+=list(map(float,df.loc[i,\"Wt.% H\"].split('-')))"
      ]
    },
    {
      "cell_type": "code",
      "execution_count": null,
      "metadata": {
        "id": "xxI4Jlt5WbQO"
      },
      "outputs": [],
      "source": [
        "X=pd.DataFrame(index=range(len(l1)),columns=[\"Composition\"])"
      ]
    },
    {
      "cell_type": "code",
      "execution_count": null,
      "metadata": {
        "id": "IOtxPQtJWcsB"
      },
      "outputs": [],
      "source": [
        "l3=[]\n",
        "for i in index:\n",
        "    string=df.loc[i,\"Composition\"]\n",
        "    pos=string.find('-')\n",
        "    #print(string)\n",
        "    if (string[pos-1] !='1') or (string[pos-2:pos] =='.1'):\n",
        "        u=\"\"\n",
        "        e=pos\n",
        "        j=1\n",
        "        while string[e-j] !='.':\n",
        "            u+=string[e-j]\n",
        "            j+=1\n",
        "        k=l1[i]\n",
        "        for h in k:\n",
        "            x=string.replace(\".\"+(u)[::-1]+'-x',str((float(\"0.\"+(u)[::-1])-h)))\n",
        "            l3.append(x.replace('x',str(h)))\n",
        "    else:\n",
        "        k=l1[i]\n",
        "        for h in k:\n",
        "            x=string.replace('1-x',str((1-h)))\n",
        "            l3.append(x.replace('x',str(h)))\n",
        "d2=dict()\n",
        "for g,r in zip(l3,l2):\n",
        "    d2[g]=r"
      ]
    },
    {
      "cell_type": "code",
      "execution_count": null,
      "metadata": {
        "colab": {
          "base_uri": "https://localhost:8080/"
        },
        "id": "JdWxGq_mWjpX",
        "outputId": "7df751e4-dd74-4beb-cbad-c0ce1cfe3174"
      },
      "outputs": [
        {
          "output_type": "stream",
          "name": "stdout",
          "text": [
            "{'Nb.994Ge.006': 92.1, 'Ni.979Fe.021': 1.6, 'Ni.943Fe.057': 1.4, 'Pd.75Ag.25': 0.4, 'Pd.9Ag.1': 0.5, 'Pd.8Ag.2': 0.4, 'Pd.7Ag.3': 0.3, 'Pd.6Ag.4': 0.2, 'Pd.95Bi.05': 0.4, 'Pd.947Ce.053': 0.3, 'Pd.942Ce.058': 0.4, 'Pd.95Co.05': 0.6, 'Pd.9Co.1': 0.5, 'Pd.9Cu.1': 0.5, 'Pd.95Cr.05': 0.6, 'Pd.972Ir.028': 0.5, 'Pd.942Ir.058': 0.4, 'Pd.927Ir.073': 0.1, 'Pd.975Mo.025': 0.5, 'Pd.85Ni.15': 0.5, 'Pd.95Ni.025Rh.025': 0.7, 'Pd.9Ni.05Rh.05': 0.6, 'Pd.825Ni.1Rh.075': 0.7, 'Pd.946Pb.054': 0.4, 'Pd.95Pt.05': 0.6, 'Pd.9Pt.1': 0.4, 'Pd.7Rh.3': 0.9, 'Pd.95Rh.05': 0.7, 'Pd.9Rh.1': 0.6, 'Pd.8Rh.2': 0.8, 'Pd.95Sb.05': 0.5, 'Pd.95Sc.05': 0.5, 'Pd.952Ti.048': 0.4, 'Pd.95U.05': 0.3, 'Pd.98V.02': 0.5, 'Pd.92Y.08': 0.5, 'Ti.95Cr.05': 3.5, 'Ti.93Mn.07': 3.8, 'Ti.5V.5': 3.88, 'Ti.435V.49Fe.075': 3.8, 'Ti.49Zr.51': 2.8, 'Ti.65Zr.35N.19': 1.9, 'Ti.81Zr.19N.25': 2, 'V.99B.01': 3.72, 'V.99Co.01': 3.4, 'V.855Cr.145': 2.3, 'V.99Mo.01': 3.4, 'V.99Nb.01': 3.5, 'V.8Nb.2': 3.1, 'V.991Ni.009': 3.62, 'V.96Si.04': 3.1, 'V.983Ta.013': 3.28, 'V.992Ti.008': 3.86, 'V.8Ti.2': 3.4, 'V.67Ti.33': 3.88, 'V.8Ti.18Fe.02': 3.79, 'V.6Ti.38Fe.02': 4.14, 'V.99Zr.01': 3.6, 'Zr.97Cr.03': 2.1, 'Zr.96Mo.04': 2, 'Zr.975Nb.025': 2.2, 'Zr.935Nb.024Ni.041': 2.6, 'Zr.924Nb.024Ti.052': 2.2, 'Zr.927Nb.024V.049': 2.7, 'Zr.977Ni.023': 2.4, 'Zr.96Sn.04': 1.9, 'Zr.94V.06': 2.1, 'Nb.8V.2': 2.2, 'Pd.88Pt.06Rh.06': 0.5, 'Pd.85Pt.075Rh.075': 0.4, 'Mg.72Li.28': 5.5, 'V.37Ti.33Mn.3': 2.6, 'Nb.865Fe.065Cr.07': 1, 'Nb.736Fe.184Cr.08': 1, 'Pd.9Ni.1': 0.5, 'Pd.85Rh.15': 0.4, 'Pd.75Rh.25': 0.8, 'Pd.975Rh.025': 0.7, 'Pd.925Rh.075': 0.7, 'Pd.91Ni.09': 0.5, 'V.690Ti.173Ni.112Co.009Nb.008Ta.008': 3, 'V.9Ti.1': 3.3, 'V.87Ti.13': 3.6, 'V.85Ti.15': 3.9, 'Ti.21Cr.29V.50': 3.1, 'Ti.32Cr.29V.39': 2.9, 'Ti.16Zr.05Cr.22V.57': 3.5, 'V.49Ti.43Fe.075': 3.9, 'V.995C.005': 2.1, 'V.975Zr.02C.005': 1.9, 'Ti.50V.45Fe.05': 3.9, 'Ti.50V.45Co.05': 3.5, 'Ti.78V.20Ni.02': 3.5, 'Ti.58V.40Ni.02': 3.7, 'Ta.5Ti.5': 1.5, 'Ta.4Ti.6 (M)': 1.4, 'V.667Zr.111Ti.111Fe.111': 1.65, 'V.667Zr.111Ti.111Mn.111': 1.7, 'V.667Zr.111Ti.111Ni.111': 1.79, 'Pd.96Pt.04': 0.5, 'Pd.92Pt.08': 0.4, 'Pd.90Pt.10': 0.3, 'Ti.23Mn.36V.41': 2.8, 'Pd.90Rh.05Ni.05': 0.6, 'Ti.33V.37Mn.30 (M)': 2.3, 'V.99Ti.01': 3.4, 'V.99Cr.01': 3.5, 'V.99Fe.01': 3.5, 'V.99Ni.01': 3.6, 'V.99Cu.01': 3.5, 'V.99Ru.01': 3.4, 'V.99Rh.01': 3.4, 'V.99Pd.01': 3.5, 'V.99Ag.01': 3.7, 'V.99Hf.01': 3.6, 'V.99Ta.01': 3.5, 'V.99W.01': 3.5, 'V.99Re.01': 3.4, 'V.99Os.01': 3.4, 'V.99Ir.01': 3.4, 'V.99Pt.01': 2.1, 'V.99Au.01': 3.6, 'V.99Al.01': 3.5, 'V.99Si.01': 3.3, 'V.99Ga.01': 3.4, 'V.99In.01': 3.6, 'V.99Sn.01': 3.4, 'Ti.3Cr.5V.2': 2.7, 'Ti.278Cr.422V.25Fe.05': 2.5, 'V.62Ti.2Ni.18': 1.2, 'V.49Ti.30Ni.21': 1.8, 'V.55Ti.30Ni.15': 2.5, 'V.61Ti.30Ni.09': 2.1, 'V.67Ti.30Ni.03': 2.6, 'Ti.25V.35Cr.40': 2.6, 'Ti.346V.10Cr.554': 2.5, 'Ti.375V.075Cr.55': 2.8, 'Pd.95Ag.05': 0.7, 'Pd.901Ag.099': 0.6, 'Pd.90Rh.10': 0.8, 'Nb.95Cr.05': 0.9, 'Nb.97Cr.03': 0.9, 'Pd.90Ag.10': 0.6, 'Pd.9Rh.10': 0.7, 'V': 1, 'V0.8Ti0.2': 0.8, 'V0.9Cr0.1': 3.8, 'V0.8Mo0.2': 1.95, 'V0.75Mo0.15Ti0.1': 2.1, 'V0.9Ti0.1': 0.9, '(V0.855Ti0.095)Cr0.05': 1, '(V0.855Ti0.095)Fe0.05': 0.85, '(V0.882Ti0.098)Zr0.02': 1, '(V0.882Ti0.098)Si0.02': 0.8, '(V0.855Ti0.095)Al0.05': 0.7, 'V0.7Ti0.1Cr0.2': 2.43, 'V0.68Ti0.2Cr0.12': 1.75, 'V0.35Ti0.25Cr0.40': 1.79, 'V0.65Ti0.12Cr0.23': 2.5, 'V0.50Ti0.16Cr0.34': 2.24, 'V0.40Ti0.25Cr0.35': 1.56, 'V0.80Ti0.08Cr0.12': 2.4, 'V0.855Ti0.095Fe0.05': 2.13, 'V0.49Ti0.435Fe0.075': 2.4, '(V0.5547Ti0.3053)Fe14': 2.9, 'V0.68Ti0.20Fe0.12': 1.5, '(V0.554Ti0.3053)Fe14': 1.97, 'V0.88Ti0.10Fe0.02': 1.8, 'V0.593Ti0.245Fe0.162': 1.56, '(V0.554Ti0.3053)Mn14': 1.97, '(V0.60171Ti0.33015)Co7': 0.25, '(V0.60171Ti0.33015)Co8': 0.33, 'V0.63Ti0.20Mn0.17': 1.7, 'V0.57Ti0.16Zr0.05Cr0.22': 2.14, 'V0.75Ti0.175Zr0.075': 0.9, 'V0.75Ti0.10Zr0.075Cr0.075': 1.09, 'V0.75Ti0.10Zr0.075Mn0.075': 0.95, 'V0.75Ti0.10Zr0.075Fe0.075': 0.76, 'V0.75Ti0.10Zr0.075Co0.075': 0.75, 'V0.75Ti0.10Zr0.075Ni0.075': 0.88, 'V0.56Ti0.20Cr0.12Mn0.12': 1.85, 'V0.778Ti0.074Zr0.074Ni0.074': 1.35, 'V0.77Ti0.10Cr0.06Fe0.06Zr': 1.82, 'V0.40Ti0.225Cr0.325Fe0.05': 0.75, 'Nb0.996Fe0.004': 2.0, 'Nb0.99Fe0.01': 2.1, 'Nb0.99Si0.01': 2.0, 'Nb0.974Si0.026': 2.1, 'Ni0.9Cu0.1': 0.4, 'Ni0.5Cu0.5': 1.2, 'Pd1.0Ag0.0': 0.2, 'Pd0.6Ag0.4': 0.7, 'Pd0.967B0.033': 0.1, 'Pd0.838B0.162': 0.6, 'Pd1.0Bi0.0': 0.2, 'Pd0.9Bi0.1': 0.7, 'Pd0.925Ce0.075': 0.1, 'Pd0.899Ce0.101': 0.2, 'Pd0.975Cr0.025': 0.5, 'Pd0.925Cr0.075': 0.6, 'Pd0.95Cu0.05': 0.4, 'Pd0.8Cu0.2': 0.6, 'Pd0.98Mo0.02': 0.3, 'Pd0.95Mo0.05': 0.5, 'Pd0.98Nb0.02': 0.3, 'Pd0.95Nb0.05': 0.4, 'Pd0.975Ni.025Rh0.0': 0.6, 'Pd0.9Ni.025Rh0.075': 0.7, 'Pd0.85Ni.125Rh0.025': 0.6, 'Pd0.825Ni.125Rh0.05': 0.6, 'Pd0.974Pb0.026': 0.4, 'Pd0.917Pb0.083': 0.4, 'Pd0.95Pt0.05': 0.2, 'Pd0.85Pt0.15': 0.5, 'Pd0.95Rh0.05': 0.9, 'Pd0.6Rh0.4': 1.0, 'Pd0.96Ru0.04': 0.5, 'Pd0.9Ru0.1': 0.6, 'Pd1.0Sb0.0': 0.2, 'Pd0.9Sb0.1': 0.7, 'Pd0.975Sc0.025': 0.4, 'Pd0.925Sc0.075': 0.55, 'Pd1.0Ti0.0': 0.1, 'Pd0.9Ti0.1': 0.6, 'Pd1.0V0.0': 0.4, 'Pd0.96V0.04': 0.6, 'Pd0.98V0.02': 0.4, 'Pd0.95V0.05': 0.6, 'Pd0.99V0.01': 0.4, 'Pd0.98Y0.02': 0.3, 'Pd0.875Y0.125': 0.5, 'Ti0.89Cr0.11': 3.2, 'Ti0.81Cr0.19': 3.3, 'Ti0.8200000000000001Mo0.18': 2.5, 'Ti0.6699999999999999Mo0.33': 3.7, 'Ti0.89Nb0.11': 3.7, 'Ti0.74Nb0.26': 3.8, 'Ti0.86V0.14': 3.2, 'Ti0.31000000000000005V0.69': 3.8, 'Ti0.98V0.02': 3.7, 'Ti0.65V0.35': 3.8, 'Ti0.8V0.2Fe.02': 3.92, 'Ti0.19999999999999996V0.8Fe.02': 4.14, 'Ti0.8V0.2Ni.02': 3.4, 'Ti0.4V0.6Ni.02': 3.7, 'Ti0.7V0.3Ni.05': 3.3, 'Ti0.19999999999999996V0.8Ni.05': 3.8, 'Ti1.0Zr0.0': 2.1, 'Ti0.0Zr1.0': 3.9, 'V0.995C0.005': 3.8, 'V0.992C0.008': 3.9, 'V0.99Cr0.01': 3.8, 'V0.951Cr0.049': 4.1, 'V1.0Cr0.0': 3.6, 'V0.999Fe0.001': 3.8, 'V0.991Fe0.009': 3.9, 'V0.997Ge0.003': 3.1, 'V0.989Ge0.011': 3.8, 'V0.999Si0.001': 3.5, 'V0.983Si0.017': 3.9, 'V0.996Sn0.004': 3.7, 'V0.994Sn0.006': 3.7, 'V0.6599999999999999Ti0.34': 3.8, 'V0.5Ti0.5': 3.9, 'V0.992W0.008': 3.7, 'V0.99W0.01': 3.7, 'Zr0.77Hf0.23': 0.9, 'Zr0.18000000000000005Hf0.82': 1.5, 'Zr0.88Nb0.12': 2.0, 'Zr0.75Nb0.25': 2.1, 'Zr0.951Nb0.049': 1.9, 'Zr0.8029999999999999Nb0.197': 2.1, 'Pd0.98Cr0.02': 0.3, 'Pd0.91Cr0.09': 0.55, 'Pd0.99Mo0.01': 0.35, 'Pd0.97Mo0.03': 0.55, 'Pd0.982Co0.018': 0.4, 'Pd0.915Co0.085': 0.6, 'V0.95Ti0.05': 3.7, 'V0.85Ti0.15': 3.7, 'Nb0.9V0.1': 2.2, 'Nb0.7V0.3': 2.2, 'Pd1.0Ni0.0': 0.6, 'Pd0.75Ni0.25': 0.8, 'Nb0.09999999999999998V0.9': 3.5, 'Ta0.9V0.1': 0.5, 'Ta0.09999999999999998V0.9': 3.1, 'Pd0.963Fe0.037': 0.5, 'Pd0.9Fe0.1': 0.3, 'Ti0.78V0.2Fe.02': 3.8, 'Ti0.17999999999999994V0.8Fe.02': 4.1, 'Ti0.78V0.2Co.02': 3.6, 'Ti0.17999999999999994V0.8Co.02': 3.8, 'Ti0.75V0.2Ni.05': 3.3, 'Ti0.1499999999999999V0.8Ni.05': 3.8, 'V.7Zr0.0Ti0.103Cr.17': 2.03, 'V.7Zr0.03Ti0.073Cr.17': 2.42, 'Pd.90Rh0.1Ni0.0': 0.7, 'Pd.90Rh0.0Ni0.1': 0.5, 'Ti0.29000000000000004V.35Cr0.36': 2.45, 'Ti0.22000000000000003V.35Cr0.43': 1.72, 'Ti.375V0.025Cr0.6': 2.6, 'Ti.375V0.075Cr0.55': 2.8, 'Ti.28V.35Cr0.37Mn0.0': 2.7, 'Ti.28V.35Cr0.22Mn0.15': 2.4, 'Ti0.24V.35Cr0.31000000000000005Mn.10': 2.7, 'Ti0.28V.35Cr0.27Mn.10': 2.7, 'Nb0.97Cr0.03': 0.9, 'Nb0.9Cr0.1': 0.9}\n"
          ]
        }
      ],
      "source": [
        "def Merge(dict1, dict2):\n",
        "\tres = {**dict1, **dict2}\n",
        "\treturn res\n",
        "\t\n",
        "# Driver code\n",
        "dict1 =d1\n",
        "dict2 =d2\n",
        "dict3 = Merge(dict1, dict2)\n",
        "print(dict3)"
      ]
    },
    {
      "cell_type": "code",
      "execution_count": null,
      "metadata": {
        "id": "BzxJETIOWmnZ"
      },
      "outputs": [],
      "source": [
        "new_data=pd.DataFrame(dict3,index=['Wt.% H',])\n",
        "new_df=new_data.T\n",
        "index2=new_df.index"
      ]
    },
    {
      "cell_type": "code",
      "execution_count": null,
      "metadata": {
        "id": "ujqVdxgDWq7R"
      },
      "outputs": [],
      "source": [
        "l4=[]\n",
        "for i in index2:\n",
        "    #print(i.find('.'))\n",
        "    res = [j for j in range(len(i)) if i.startswith('.', j)]\n",
        "    list1 = res\n",
        "    list2 = range(len(res))\n",
        "\n",
        "    zipped_lists = zip(list1, list2)\n",
        "    sum = [x + y for (x, y) in zipped_lists]\n",
        "    for l in sum:\n",
        "        i = i[:l] + \"0\" + i[l:]\n",
        "    l4.append(i)\n",
        "new_df.index=l4"
      ]
    },
    {
      "cell_type": "code",
      "execution_count": null,
      "metadata": {
        "id": "U2t3f74gWwoX"
      },
      "outputs": [],
      "source": [
        "new_df.drop('Nb0.994Ge0.006',inplace=True)"
      ]
    },
    {
      "cell_type": "code",
      "source": [
        "new_df"
      ],
      "metadata": {
        "colab": {
          "base_uri": "https://localhost:8080/",
          "height": 424
        },
        "id": "kM6gS42lj11o",
        "outputId": "2cebc682-c2f8-49a7-d55a-39bab3dacaff"
      },
      "execution_count": null,
      "outputs": [
        {
          "output_type": "execute_result",
          "data": {
            "text/plain": [
              "                                          Wt.% H\n",
              "Ni0.979Fe0.021                               1.6\n",
              "Ni0.943Fe0.057                               1.4\n",
              "Pd0.75Ag0.25                                 0.4\n",
              "Pd0.9Ag0.1                                   0.5\n",
              "Pd0.8Ag0.2                                   0.4\n",
              "...                                          ...\n",
              "Ti0.28V0.35Cr00.22Mn00.15                    2.4\n",
              "Ti00.24V0.35Cr00.31000000000000005Mn0.10     2.7\n",
              "Ti00.28V0.35Cr00.27Mn0.10                    2.7\n",
              "Nb00.97Cr00.03                               0.9\n",
              "Nb00.9Cr00.1                                 0.9\n",
              "\n",
              "[308 rows x 1 columns]"
            ],
            "text/html": [
              "\n",
              "  <div id=\"df-cd5759fc-8796-45b7-a116-6cbcc292a485\">\n",
              "    <div class=\"colab-df-container\">\n",
              "      <div>\n",
              "<style scoped>\n",
              "    .dataframe tbody tr th:only-of-type {\n",
              "        vertical-align: middle;\n",
              "    }\n",
              "\n",
              "    .dataframe tbody tr th {\n",
              "        vertical-align: top;\n",
              "    }\n",
              "\n",
              "    .dataframe thead th {\n",
              "        text-align: right;\n",
              "    }\n",
              "</style>\n",
              "<table border=\"1\" class=\"dataframe\">\n",
              "  <thead>\n",
              "    <tr style=\"text-align: right;\">\n",
              "      <th></th>\n",
              "      <th>Wt.% H</th>\n",
              "    </tr>\n",
              "  </thead>\n",
              "  <tbody>\n",
              "    <tr>\n",
              "      <th>Ni0.979Fe0.021</th>\n",
              "      <td>1.6</td>\n",
              "    </tr>\n",
              "    <tr>\n",
              "      <th>Ni0.943Fe0.057</th>\n",
              "      <td>1.4</td>\n",
              "    </tr>\n",
              "    <tr>\n",
              "      <th>Pd0.75Ag0.25</th>\n",
              "      <td>0.4</td>\n",
              "    </tr>\n",
              "    <tr>\n",
              "      <th>Pd0.9Ag0.1</th>\n",
              "      <td>0.5</td>\n",
              "    </tr>\n",
              "    <tr>\n",
              "      <th>Pd0.8Ag0.2</th>\n",
              "      <td>0.4</td>\n",
              "    </tr>\n",
              "    <tr>\n",
              "      <th>...</th>\n",
              "      <td>...</td>\n",
              "    </tr>\n",
              "    <tr>\n",
              "      <th>Ti0.28V0.35Cr00.22Mn00.15</th>\n",
              "      <td>2.4</td>\n",
              "    </tr>\n",
              "    <tr>\n",
              "      <th>Ti00.24V0.35Cr00.31000000000000005Mn0.10</th>\n",
              "      <td>2.7</td>\n",
              "    </tr>\n",
              "    <tr>\n",
              "      <th>Ti00.28V0.35Cr00.27Mn0.10</th>\n",
              "      <td>2.7</td>\n",
              "    </tr>\n",
              "    <tr>\n",
              "      <th>Nb00.97Cr00.03</th>\n",
              "      <td>0.9</td>\n",
              "    </tr>\n",
              "    <tr>\n",
              "      <th>Nb00.9Cr00.1</th>\n",
              "      <td>0.9</td>\n",
              "    </tr>\n",
              "  </tbody>\n",
              "</table>\n",
              "<p>308 rows × 1 columns</p>\n",
              "</div>\n",
              "      <button class=\"colab-df-convert\" onclick=\"convertToInteractive('df-cd5759fc-8796-45b7-a116-6cbcc292a485')\"\n",
              "              title=\"Convert this dataframe to an interactive table.\"\n",
              "              style=\"display:none;\">\n",
              "        \n",
              "  <svg xmlns=\"http://www.w3.org/2000/svg\" height=\"24px\"viewBox=\"0 0 24 24\"\n",
              "       width=\"24px\">\n",
              "    <path d=\"M0 0h24v24H0V0z\" fill=\"none\"/>\n",
              "    <path d=\"M18.56 5.44l.94 2.06.94-2.06 2.06-.94-2.06-.94-.94-2.06-.94 2.06-2.06.94zm-11 1L8.5 8.5l.94-2.06 2.06-.94-2.06-.94L8.5 2.5l-.94 2.06-2.06.94zm10 10l.94 2.06.94-2.06 2.06-.94-2.06-.94-.94-2.06-.94 2.06-2.06.94z\"/><path d=\"M17.41 7.96l-1.37-1.37c-.4-.4-.92-.59-1.43-.59-.52 0-1.04.2-1.43.59L10.3 9.45l-7.72 7.72c-.78.78-.78 2.05 0 2.83L4 21.41c.39.39.9.59 1.41.59.51 0 1.02-.2 1.41-.59l7.78-7.78 2.81-2.81c.8-.78.8-2.07 0-2.86zM5.41 20L4 18.59l7.72-7.72 1.47 1.35L5.41 20z\"/>\n",
              "  </svg>\n",
              "      </button>\n",
              "      \n",
              "  <style>\n",
              "    .colab-df-container {\n",
              "      display:flex;\n",
              "      flex-wrap:wrap;\n",
              "      gap: 12px;\n",
              "    }\n",
              "\n",
              "    .colab-df-convert {\n",
              "      background-color: #E8F0FE;\n",
              "      border: none;\n",
              "      border-radius: 50%;\n",
              "      cursor: pointer;\n",
              "      display: none;\n",
              "      fill: #1967D2;\n",
              "      height: 32px;\n",
              "      padding: 0 0 0 0;\n",
              "      width: 32px;\n",
              "    }\n",
              "\n",
              "    .colab-df-convert:hover {\n",
              "      background-color: #E2EBFA;\n",
              "      box-shadow: 0px 1px 2px rgba(60, 64, 67, 0.3), 0px 1px 3px 1px rgba(60, 64, 67, 0.15);\n",
              "      fill: #174EA6;\n",
              "    }\n",
              "\n",
              "    [theme=dark] .colab-df-convert {\n",
              "      background-color: #3B4455;\n",
              "      fill: #D2E3FC;\n",
              "    }\n",
              "\n",
              "    [theme=dark] .colab-df-convert:hover {\n",
              "      background-color: #434B5C;\n",
              "      box-shadow: 0px 1px 3px 1px rgba(0, 0, 0, 0.15);\n",
              "      filter: drop-shadow(0px 1px 2px rgba(0, 0, 0, 0.3));\n",
              "      fill: #FFFFFF;\n",
              "    }\n",
              "  </style>\n",
              "\n",
              "      <script>\n",
              "        const buttonEl =\n",
              "          document.querySelector('#df-cd5759fc-8796-45b7-a116-6cbcc292a485 button.colab-df-convert');\n",
              "        buttonEl.style.display =\n",
              "          google.colab.kernel.accessAllowed ? 'block' : 'none';\n",
              "\n",
              "        async function convertToInteractive(key) {\n",
              "          const element = document.querySelector('#df-cd5759fc-8796-45b7-a116-6cbcc292a485');\n",
              "          const dataTable =\n",
              "            await google.colab.kernel.invokeFunction('convertToInteractive',\n",
              "                                                     [key], {});\n",
              "          if (!dataTable) return;\n",
              "\n",
              "          const docLinkHtml = 'Like what you see? Visit the ' +\n",
              "            '<a target=\"_blank\" href=https://colab.research.google.com/notebooks/data_table.ipynb>data table notebook</a>'\n",
              "            + ' to learn more about interactive tables.';\n",
              "          element.innerHTML = '';\n",
              "          dataTable['output_type'] = 'display_data';\n",
              "          await google.colab.output.renderOutput(dataTable, element);\n",
              "          const docLink = document.createElement('div');\n",
              "          docLink.innerHTML = docLinkHtml;\n",
              "          element.appendChild(docLink);\n",
              "        }\n",
              "      </script>\n",
              "    </div>\n",
              "  </div>\n",
              "  "
            ]
          },
          "metadata": {},
          "execution_count": 62
        }
      ]
    },
    {
      "cell_type": "code",
      "execution_count": null,
      "metadata": {
        "id": "gVzgjsXXWzLX"
      },
      "outputs": [],
      "source": [
        "l5=[]\n",
        "for i in new_df.index:\n",
        "    test_str =i\n",
        "    res =re.findall(r'(\\w+?)(\\d+\\.\\d+)', test_str)\n",
        "    l5+=[res]"
      ]
    },
    {
      "cell_type": "code",
      "execution_count": null,
      "metadata": {
        "id": "YhgSmxflXKpD"
      },
      "outputs": [],
      "source": [
        "l7=[]\n",
        "for x in l5:\n",
        "    for y in x:\n",
        "        if y[0] not in l7:\n",
        "            l7.append(y[0])\n",
        "new_dataset=pd.DataFrame(np.zeros((len(l5),len(l7))),columns=l7)"
      ]
    },
    {
      "cell_type": "code",
      "execution_count": null,
      "metadata": {
        "colab": {
          "base_uri": "https://localhost:8080/",
          "height": 424
        },
        "id": "1H-LrijBXOak",
        "outputId": "3eeb612d-4a30-49c9-b88c-3cdcada3b9f1"
      },
      "outputs": [
        {
          "output_type": "execute_result",
          "data": {
            "text/plain": [
              "      Ni   Fe   Pd   Ag   Bi   Ce   Co   Cu   Cr   Ir  ...   Ru   Hf    W  \\\n",
              "0    0.0  0.0  0.0  0.0  0.0  0.0  0.0  0.0  0.0  0.0  ...  0.0  0.0  0.0   \n",
              "1    0.0  0.0  0.0  0.0  0.0  0.0  0.0  0.0  0.0  0.0  ...  0.0  0.0  0.0   \n",
              "2    0.0  0.0  0.0  0.0  0.0  0.0  0.0  0.0  0.0  0.0  ...  0.0  0.0  0.0   \n",
              "3    0.0  0.0  0.0  0.0  0.0  0.0  0.0  0.0  0.0  0.0  ...  0.0  0.0  0.0   \n",
              "4    0.0  0.0  0.0  0.0  0.0  0.0  0.0  0.0  0.0  0.0  ...  0.0  0.0  0.0   \n",
              "..   ...  ...  ...  ...  ...  ...  ...  ...  ...  ...  ...  ...  ...  ...   \n",
              "303  0.0  0.0  0.0  0.0  0.0  0.0  0.0  0.0  0.0  0.0  ...  0.0  0.0  0.0   \n",
              "304  0.0  0.0  0.0  0.0  0.0  0.0  0.0  0.0  0.0  0.0  ...  0.0  0.0  0.0   \n",
              "305  0.0  0.0  0.0  0.0  0.0  0.0  0.0  0.0  0.0  0.0  ...  0.0  0.0  0.0   \n",
              "306  0.0  0.0  0.0  0.0  0.0  0.0  0.0  0.0  0.0  0.0  ...  0.0  0.0  0.0   \n",
              "307  0.0  0.0  0.0  0.0  0.0  0.0  0.0  0.0  0.0  0.0  ...  0.0  0.0  0.0   \n",
              "\n",
              "      Re   Os   Au   Al   Ga   In   Ge  \n",
              "0    0.0  0.0  0.0  0.0  0.0  0.0  0.0  \n",
              "1    0.0  0.0  0.0  0.0  0.0  0.0  0.0  \n",
              "2    0.0  0.0  0.0  0.0  0.0  0.0  0.0  \n",
              "3    0.0  0.0  0.0  0.0  0.0  0.0  0.0  \n",
              "4    0.0  0.0  0.0  0.0  0.0  0.0  0.0  \n",
              "..   ...  ...  ...  ...  ...  ...  ...  \n",
              "303  0.0  0.0  0.0  0.0  0.0  0.0  0.0  \n",
              "304  0.0  0.0  0.0  0.0  0.0  0.0  0.0  \n",
              "305  0.0  0.0  0.0  0.0  0.0  0.0  0.0  \n",
              "306  0.0  0.0  0.0  0.0  0.0  0.0  0.0  \n",
              "307  0.0  0.0  0.0  0.0  0.0  0.0  0.0  \n",
              "\n",
              "[308 rows x 41 columns]"
            ],
            "text/html": [
              "\n",
              "  <div id=\"df-d0e6303d-6d52-4685-a758-8f962c4bc8e4\">\n",
              "    <div class=\"colab-df-container\">\n",
              "      <div>\n",
              "<style scoped>\n",
              "    .dataframe tbody tr th:only-of-type {\n",
              "        vertical-align: middle;\n",
              "    }\n",
              "\n",
              "    .dataframe tbody tr th {\n",
              "        vertical-align: top;\n",
              "    }\n",
              "\n",
              "    .dataframe thead th {\n",
              "        text-align: right;\n",
              "    }\n",
              "</style>\n",
              "<table border=\"1\" class=\"dataframe\">\n",
              "  <thead>\n",
              "    <tr style=\"text-align: right;\">\n",
              "      <th></th>\n",
              "      <th>Ni</th>\n",
              "      <th>Fe</th>\n",
              "      <th>Pd</th>\n",
              "      <th>Ag</th>\n",
              "      <th>Bi</th>\n",
              "      <th>Ce</th>\n",
              "      <th>Co</th>\n",
              "      <th>Cu</th>\n",
              "      <th>Cr</th>\n",
              "      <th>Ir</th>\n",
              "      <th>...</th>\n",
              "      <th>Ru</th>\n",
              "      <th>Hf</th>\n",
              "      <th>W</th>\n",
              "      <th>Re</th>\n",
              "      <th>Os</th>\n",
              "      <th>Au</th>\n",
              "      <th>Al</th>\n",
              "      <th>Ga</th>\n",
              "      <th>In</th>\n",
              "      <th>Ge</th>\n",
              "    </tr>\n",
              "  </thead>\n",
              "  <tbody>\n",
              "    <tr>\n",
              "      <th>0</th>\n",
              "      <td>0.0</td>\n",
              "      <td>0.0</td>\n",
              "      <td>0.0</td>\n",
              "      <td>0.0</td>\n",
              "      <td>0.0</td>\n",
              "      <td>0.0</td>\n",
              "      <td>0.0</td>\n",
              "      <td>0.0</td>\n",
              "      <td>0.0</td>\n",
              "      <td>0.0</td>\n",
              "      <td>...</td>\n",
              "      <td>0.0</td>\n",
              "      <td>0.0</td>\n",
              "      <td>0.0</td>\n",
              "      <td>0.0</td>\n",
              "      <td>0.0</td>\n",
              "      <td>0.0</td>\n",
              "      <td>0.0</td>\n",
              "      <td>0.0</td>\n",
              "      <td>0.0</td>\n",
              "      <td>0.0</td>\n",
              "    </tr>\n",
              "    <tr>\n",
              "      <th>1</th>\n",
              "      <td>0.0</td>\n",
              "      <td>0.0</td>\n",
              "      <td>0.0</td>\n",
              "      <td>0.0</td>\n",
              "      <td>0.0</td>\n",
              "      <td>0.0</td>\n",
              "      <td>0.0</td>\n",
              "      <td>0.0</td>\n",
              "      <td>0.0</td>\n",
              "      <td>0.0</td>\n",
              "      <td>...</td>\n",
              "      <td>0.0</td>\n",
              "      <td>0.0</td>\n",
              "      <td>0.0</td>\n",
              "      <td>0.0</td>\n",
              "      <td>0.0</td>\n",
              "      <td>0.0</td>\n",
              "      <td>0.0</td>\n",
              "      <td>0.0</td>\n",
              "      <td>0.0</td>\n",
              "      <td>0.0</td>\n",
              "    </tr>\n",
              "    <tr>\n",
              "      <th>2</th>\n",
              "      <td>0.0</td>\n",
              "      <td>0.0</td>\n",
              "      <td>0.0</td>\n",
              "      <td>0.0</td>\n",
              "      <td>0.0</td>\n",
              "      <td>0.0</td>\n",
              "      <td>0.0</td>\n",
              "      <td>0.0</td>\n",
              "      <td>0.0</td>\n",
              "      <td>0.0</td>\n",
              "      <td>...</td>\n",
              "      <td>0.0</td>\n",
              "      <td>0.0</td>\n",
              "      <td>0.0</td>\n",
              "      <td>0.0</td>\n",
              "      <td>0.0</td>\n",
              "      <td>0.0</td>\n",
              "      <td>0.0</td>\n",
              "      <td>0.0</td>\n",
              "      <td>0.0</td>\n",
              "      <td>0.0</td>\n",
              "    </tr>\n",
              "    <tr>\n",
              "      <th>3</th>\n",
              "      <td>0.0</td>\n",
              "      <td>0.0</td>\n",
              "      <td>0.0</td>\n",
              "      <td>0.0</td>\n",
              "      <td>0.0</td>\n",
              "      <td>0.0</td>\n",
              "      <td>0.0</td>\n",
              "      <td>0.0</td>\n",
              "      <td>0.0</td>\n",
              "      <td>0.0</td>\n",
              "      <td>...</td>\n",
              "      <td>0.0</td>\n",
              "      <td>0.0</td>\n",
              "      <td>0.0</td>\n",
              "      <td>0.0</td>\n",
              "      <td>0.0</td>\n",
              "      <td>0.0</td>\n",
              "      <td>0.0</td>\n",
              "      <td>0.0</td>\n",
              "      <td>0.0</td>\n",
              "      <td>0.0</td>\n",
              "    </tr>\n",
              "    <tr>\n",
              "      <th>4</th>\n",
              "      <td>0.0</td>\n",
              "      <td>0.0</td>\n",
              "      <td>0.0</td>\n",
              "      <td>0.0</td>\n",
              "      <td>0.0</td>\n",
              "      <td>0.0</td>\n",
              "      <td>0.0</td>\n",
              "      <td>0.0</td>\n",
              "      <td>0.0</td>\n",
              "      <td>0.0</td>\n",
              "      <td>...</td>\n",
              "      <td>0.0</td>\n",
              "      <td>0.0</td>\n",
              "      <td>0.0</td>\n",
              "      <td>0.0</td>\n",
              "      <td>0.0</td>\n",
              "      <td>0.0</td>\n",
              "      <td>0.0</td>\n",
              "      <td>0.0</td>\n",
              "      <td>0.0</td>\n",
              "      <td>0.0</td>\n",
              "    </tr>\n",
              "    <tr>\n",
              "      <th>...</th>\n",
              "      <td>...</td>\n",
              "      <td>...</td>\n",
              "      <td>...</td>\n",
              "      <td>...</td>\n",
              "      <td>...</td>\n",
              "      <td>...</td>\n",
              "      <td>...</td>\n",
              "      <td>...</td>\n",
              "      <td>...</td>\n",
              "      <td>...</td>\n",
              "      <td>...</td>\n",
              "      <td>...</td>\n",
              "      <td>...</td>\n",
              "      <td>...</td>\n",
              "      <td>...</td>\n",
              "      <td>...</td>\n",
              "      <td>...</td>\n",
              "      <td>...</td>\n",
              "      <td>...</td>\n",
              "      <td>...</td>\n",
              "      <td>...</td>\n",
              "    </tr>\n",
              "    <tr>\n",
              "      <th>303</th>\n",
              "      <td>0.0</td>\n",
              "      <td>0.0</td>\n",
              "      <td>0.0</td>\n",
              "      <td>0.0</td>\n",
              "      <td>0.0</td>\n",
              "      <td>0.0</td>\n",
              "      <td>0.0</td>\n",
              "      <td>0.0</td>\n",
              "      <td>0.0</td>\n",
              "      <td>0.0</td>\n",
              "      <td>...</td>\n",
              "      <td>0.0</td>\n",
              "      <td>0.0</td>\n",
              "      <td>0.0</td>\n",
              "      <td>0.0</td>\n",
              "      <td>0.0</td>\n",
              "      <td>0.0</td>\n",
              "      <td>0.0</td>\n",
              "      <td>0.0</td>\n",
              "      <td>0.0</td>\n",
              "      <td>0.0</td>\n",
              "    </tr>\n",
              "    <tr>\n",
              "      <th>304</th>\n",
              "      <td>0.0</td>\n",
              "      <td>0.0</td>\n",
              "      <td>0.0</td>\n",
              "      <td>0.0</td>\n",
              "      <td>0.0</td>\n",
              "      <td>0.0</td>\n",
              "      <td>0.0</td>\n",
              "      <td>0.0</td>\n",
              "      <td>0.0</td>\n",
              "      <td>0.0</td>\n",
              "      <td>...</td>\n",
              "      <td>0.0</td>\n",
              "      <td>0.0</td>\n",
              "      <td>0.0</td>\n",
              "      <td>0.0</td>\n",
              "      <td>0.0</td>\n",
              "      <td>0.0</td>\n",
              "      <td>0.0</td>\n",
              "      <td>0.0</td>\n",
              "      <td>0.0</td>\n",
              "      <td>0.0</td>\n",
              "    </tr>\n",
              "    <tr>\n",
              "      <th>305</th>\n",
              "      <td>0.0</td>\n",
              "      <td>0.0</td>\n",
              "      <td>0.0</td>\n",
              "      <td>0.0</td>\n",
              "      <td>0.0</td>\n",
              "      <td>0.0</td>\n",
              "      <td>0.0</td>\n",
              "      <td>0.0</td>\n",
              "      <td>0.0</td>\n",
              "      <td>0.0</td>\n",
              "      <td>...</td>\n",
              "      <td>0.0</td>\n",
              "      <td>0.0</td>\n",
              "      <td>0.0</td>\n",
              "      <td>0.0</td>\n",
              "      <td>0.0</td>\n",
              "      <td>0.0</td>\n",
              "      <td>0.0</td>\n",
              "      <td>0.0</td>\n",
              "      <td>0.0</td>\n",
              "      <td>0.0</td>\n",
              "    </tr>\n",
              "    <tr>\n",
              "      <th>306</th>\n",
              "      <td>0.0</td>\n",
              "      <td>0.0</td>\n",
              "      <td>0.0</td>\n",
              "      <td>0.0</td>\n",
              "      <td>0.0</td>\n",
              "      <td>0.0</td>\n",
              "      <td>0.0</td>\n",
              "      <td>0.0</td>\n",
              "      <td>0.0</td>\n",
              "      <td>0.0</td>\n",
              "      <td>...</td>\n",
              "      <td>0.0</td>\n",
              "      <td>0.0</td>\n",
              "      <td>0.0</td>\n",
              "      <td>0.0</td>\n",
              "      <td>0.0</td>\n",
              "      <td>0.0</td>\n",
              "      <td>0.0</td>\n",
              "      <td>0.0</td>\n",
              "      <td>0.0</td>\n",
              "      <td>0.0</td>\n",
              "    </tr>\n",
              "    <tr>\n",
              "      <th>307</th>\n",
              "      <td>0.0</td>\n",
              "      <td>0.0</td>\n",
              "      <td>0.0</td>\n",
              "      <td>0.0</td>\n",
              "      <td>0.0</td>\n",
              "      <td>0.0</td>\n",
              "      <td>0.0</td>\n",
              "      <td>0.0</td>\n",
              "      <td>0.0</td>\n",
              "      <td>0.0</td>\n",
              "      <td>...</td>\n",
              "      <td>0.0</td>\n",
              "      <td>0.0</td>\n",
              "      <td>0.0</td>\n",
              "      <td>0.0</td>\n",
              "      <td>0.0</td>\n",
              "      <td>0.0</td>\n",
              "      <td>0.0</td>\n",
              "      <td>0.0</td>\n",
              "      <td>0.0</td>\n",
              "      <td>0.0</td>\n",
              "    </tr>\n",
              "  </tbody>\n",
              "</table>\n",
              "<p>308 rows × 41 columns</p>\n",
              "</div>\n",
              "      <button class=\"colab-df-convert\" onclick=\"convertToInteractive('df-d0e6303d-6d52-4685-a758-8f962c4bc8e4')\"\n",
              "              title=\"Convert this dataframe to an interactive table.\"\n",
              "              style=\"display:none;\">\n",
              "        \n",
              "  <svg xmlns=\"http://www.w3.org/2000/svg\" height=\"24px\"viewBox=\"0 0 24 24\"\n",
              "       width=\"24px\">\n",
              "    <path d=\"M0 0h24v24H0V0z\" fill=\"none\"/>\n",
              "    <path d=\"M18.56 5.44l.94 2.06.94-2.06 2.06-.94-2.06-.94-.94-2.06-.94 2.06-2.06.94zm-11 1L8.5 8.5l.94-2.06 2.06-.94-2.06-.94L8.5 2.5l-.94 2.06-2.06.94zm10 10l.94 2.06.94-2.06 2.06-.94-2.06-.94-.94-2.06-.94 2.06-2.06.94z\"/><path d=\"M17.41 7.96l-1.37-1.37c-.4-.4-.92-.59-1.43-.59-.52 0-1.04.2-1.43.59L10.3 9.45l-7.72 7.72c-.78.78-.78 2.05 0 2.83L4 21.41c.39.39.9.59 1.41.59.51 0 1.02-.2 1.41-.59l7.78-7.78 2.81-2.81c.8-.78.8-2.07 0-2.86zM5.41 20L4 18.59l7.72-7.72 1.47 1.35L5.41 20z\"/>\n",
              "  </svg>\n",
              "      </button>\n",
              "      \n",
              "  <style>\n",
              "    .colab-df-container {\n",
              "      display:flex;\n",
              "      flex-wrap:wrap;\n",
              "      gap: 12px;\n",
              "    }\n",
              "\n",
              "    .colab-df-convert {\n",
              "      background-color: #E8F0FE;\n",
              "      border: none;\n",
              "      border-radius: 50%;\n",
              "      cursor: pointer;\n",
              "      display: none;\n",
              "      fill: #1967D2;\n",
              "      height: 32px;\n",
              "      padding: 0 0 0 0;\n",
              "      width: 32px;\n",
              "    }\n",
              "\n",
              "    .colab-df-convert:hover {\n",
              "      background-color: #E2EBFA;\n",
              "      box-shadow: 0px 1px 2px rgba(60, 64, 67, 0.3), 0px 1px 3px 1px rgba(60, 64, 67, 0.15);\n",
              "      fill: #174EA6;\n",
              "    }\n",
              "\n",
              "    [theme=dark] .colab-df-convert {\n",
              "      background-color: #3B4455;\n",
              "      fill: #D2E3FC;\n",
              "    }\n",
              "\n",
              "    [theme=dark] .colab-df-convert:hover {\n",
              "      background-color: #434B5C;\n",
              "      box-shadow: 0px 1px 3px 1px rgba(0, 0, 0, 0.15);\n",
              "      filter: drop-shadow(0px 1px 2px rgba(0, 0, 0, 0.3));\n",
              "      fill: #FFFFFF;\n",
              "    }\n",
              "  </style>\n",
              "\n",
              "      <script>\n",
              "        const buttonEl =\n",
              "          document.querySelector('#df-d0e6303d-6d52-4685-a758-8f962c4bc8e4 button.colab-df-convert');\n",
              "        buttonEl.style.display =\n",
              "          google.colab.kernel.accessAllowed ? 'block' : 'none';\n",
              "\n",
              "        async function convertToInteractive(key) {\n",
              "          const element = document.querySelector('#df-d0e6303d-6d52-4685-a758-8f962c4bc8e4');\n",
              "          const dataTable =\n",
              "            await google.colab.kernel.invokeFunction('convertToInteractive',\n",
              "                                                     [key], {});\n",
              "          if (!dataTable) return;\n",
              "\n",
              "          const docLinkHtml = 'Like what you see? Visit the ' +\n",
              "            '<a target=\"_blank\" href=https://colab.research.google.com/notebooks/data_table.ipynb>data table notebook</a>'\n",
              "            + ' to learn more about interactive tables.';\n",
              "          element.innerHTML = '';\n",
              "          dataTable['output_type'] = 'display_data';\n",
              "          await google.colab.output.renderOutput(dataTable, element);\n",
              "          const docLink = document.createElement('div');\n",
              "          docLink.innerHTML = docLinkHtml;\n",
              "          element.appendChild(docLink);\n",
              "        }\n",
              "      </script>\n",
              "    </div>\n",
              "  </div>\n",
              "  "
            ]
          },
          "metadata": {},
          "execution_count": 65
        }
      ],
      "source": [
        "new_dataset"
      ]
    },
    {
      "cell_type": "code",
      "execution_count": null,
      "metadata": {
        "id": "4JhUXkGRXUx4"
      },
      "outputs": [],
      "source": [
        "for index,x in enumerate(l5):\n",
        "    for y in x:\n",
        "        if y[0] in l7:\n",
        "            new_dataset.loc[index,y[0]]=float(y[1])\n",
        "new_dataset[\"Wt.% H\"]=np.array(new_df[\"Wt.% H\"])\n",
        "elements = new_dataset.columns[:-1]\n",
        "elements_={}\n",
        "for i in elements:\n",
        "    elements_[i]=(new_dataset[i]!=0).sum()"
      ]
    },
    {
      "cell_type": "code",
      "execution_count": null,
      "metadata": {
        "id": "FJ40Lu3SXgmq"
      },
      "outputs": [],
      "source": [
        "df_=pd.DataFrame.from_dict(elements_,orient=\"index\")"
      ]
    },
    {
      "cell_type": "code",
      "execution_count": null,
      "metadata": {
        "id": "-GZcEp3gXia8"
      },
      "outputs": [],
      "source": [
        "values=[]\n",
        "for i in df_.values:\n",
        "    values.append(i[0])"
      ]
    },
    {
      "cell_type": "code",
      "execution_count": null,
      "metadata": {
        "id": "nfK3NGtYXjy1"
      },
      "outputs": [],
      "source": [
        "colors = np.random.rand(elements.shape[0])"
      ]
    },
    {
      "cell_type": "code",
      "execution_count": null,
      "metadata": {
        "colab": {
          "base_uri": "https://localhost:8080/",
          "height": 442
        },
        "id": "dtsOAx4rXloT",
        "outputId": "d3d6b0fe-42b7-40e3-8017-ea62c33daceb"
      },
      "outputs": [
        {
          "output_type": "display_data",
          "data": {
            "text/plain": [
              "<IPython.core.display.Javascript object>"
            ],
            "application/javascript": [
              "\n",
              "    async function download(id, filename, size) {\n",
              "      if (!google.colab.kernel.accessAllowed) {\n",
              "        return;\n",
              "      }\n",
              "      const div = document.createElement('div');\n",
              "      const label = document.createElement('label');\n",
              "      label.textContent = `Downloading \"${filename}\": `;\n",
              "      div.appendChild(label);\n",
              "      const progress = document.createElement('progress');\n",
              "      progress.max = size;\n",
              "      div.appendChild(progress);\n",
              "      document.body.appendChild(div);\n",
              "\n",
              "      const buffers = [];\n",
              "      let downloaded = 0;\n",
              "\n",
              "      const channel = await google.colab.kernel.comms.open(id);\n",
              "      // Send a message to notify the kernel that we're ready.\n",
              "      channel.send({})\n",
              "\n",
              "      for await (const message of channel.messages) {\n",
              "        // Send a message to notify the kernel that we're ready.\n",
              "        channel.send({})\n",
              "        if (message.buffers) {\n",
              "          for (const buffer of message.buffers) {\n",
              "            buffers.push(buffer);\n",
              "            downloaded += buffer.byteLength;\n",
              "            progress.value = downloaded;\n",
              "          }\n",
              "        }\n",
              "      }\n",
              "      const blob = new Blob(buffers, {type: 'application/binary'});\n",
              "      const a = document.createElement('a');\n",
              "      a.href = window.URL.createObjectURL(blob);\n",
              "      a.download = filename;\n",
              "      div.appendChild(a);\n",
              "      a.click();\n",
              "      div.remove();\n",
              "    }\n",
              "  "
            ]
          },
          "metadata": {}
        },
        {
          "output_type": "display_data",
          "data": {
            "text/plain": [
              "<IPython.core.display.Javascript object>"
            ],
            "application/javascript": [
              "download(\"download_42dbf72f-ea0c-40c2-a663-46d942a41ce0\", \"fig.png\", 18152)"
            ]
          },
          "metadata": {}
        },
        {
          "output_type": "display_data",
          "data": {
            "text/plain": [
              "<Figure size 1008x504 with 1 Axes>"
            ],
            "image/png": "[encoded data removed]"
          },
          "metadata": {
            "needs_background": "light"
          }
        }
      ],
      "source": [
        "fig = plt.figure()\n",
        "plt.scatter(x=df_.index,y=values,s=values,c=colors);\n",
        "fig.set_figheight(7)\n",
        "fig.set_figwidth(14)\n",
        "#plt.grid(linestyle='--',linewidth=0.5)\n",
        "plt.xlabel('Elements')\n",
        "plt.ylabel('Frequency')\n",
        "plt.savefig(\"fig.png\")\n",
        "files.download('fig.png')\n"
      ]
    },
    {
      "cell_type": "code",
      "execution_count": null,
      "metadata": {
        "id": "dJHu9kHHXoMM"
      },
      "outputs": [],
      "source": [
        "higehst_prevalance=[]\n",
        "for i in df_.index:\n",
        "    if df_.loc[i,0]>=5:\n",
        "       higehst_prevalance.append(i)\n",
        "X_new=new_dataset[higehst_prevalance]\n",
        " "
      ]
    },
    {
      "cell_type": "code",
      "execution_count": null,
      "metadata": {
        "colab": {
          "base_uri": "https://localhost:8080/",
          "height": 424
        },
        "id": "Hk-ghnlMZL12",
        "outputId": "93f85e83-0f02-4c4c-ea82-a8ab3881872f"
      },
      "outputs": [
        {
          "output_type": "execute_result",
          "data": {
            "text/plain": [
              "        Ni     Fe    Pd    Ag   Co   Cu    Cr   Mo   Rh   Pt    Ti     V  \\\n",
              "0    0.979  0.021  0.00  0.00  0.0  0.0  0.00  0.0  0.0  0.0  0.00  0.00   \n",
              "1    0.943  0.057  0.00  0.00  0.0  0.0  0.00  0.0  0.0  0.0  0.00  0.00   \n",
              "2    0.000  0.000  0.75  0.25  0.0  0.0  0.00  0.0  0.0  0.0  0.00  0.00   \n",
              "3    0.000  0.000  0.90  0.10  0.0  0.0  0.00  0.0  0.0  0.0  0.00  0.00   \n",
              "4    0.000  0.000  0.80  0.20  0.0  0.0  0.00  0.0  0.0  0.0  0.00  0.00   \n",
              "..     ...    ...   ...   ...  ...  ...   ...  ...  ...  ...   ...   ...   \n",
              "303  0.000  0.000  0.00  0.00  0.0  0.0  0.22  0.0  0.0  0.0  0.28  0.35   \n",
              "304  0.000  0.000  0.00  0.00  0.0  0.0  0.31  0.0  0.0  0.0  0.24  0.35   \n",
              "305  0.000  0.000  0.00  0.00  0.0  0.0  0.27  0.0  0.0  0.0  0.28  0.35   \n",
              "306  0.000  0.000  0.00  0.00  0.0  0.0  0.03  0.0  0.0  0.0  0.00  0.00   \n",
              "307  0.000  0.000  0.00  0.00  0.0  0.0  0.10  0.0  0.0  0.0  0.00  0.00   \n",
              "\n",
              "       Mn   Zr    Nb   Si   Ta  \n",
              "0    0.00  0.0  0.00  0.0  0.0  \n",
              "1    0.00  0.0  0.00  0.0  0.0  \n",
              "2    0.00  0.0  0.00  0.0  0.0  \n",
              "3    0.00  0.0  0.00  0.0  0.0  \n",
              "4    0.00  0.0  0.00  0.0  0.0  \n",
              "..    ...  ...   ...  ...  ...  \n",
              "303  0.15  0.0  0.00  0.0  0.0  \n",
              "304  0.10  0.0  0.00  0.0  0.0  \n",
              "305  0.10  0.0  0.00  0.0  0.0  \n",
              "306  0.00  0.0  0.97  0.0  0.0  \n",
              "307  0.00  0.0  0.90  0.0  0.0  \n",
              "\n",
              "[308 rows x 17 columns]"
            ],
            "text/html": [
              "\n",
              "  <div id=\"df-97ea9bea-e5df-42b7-956a-232d8453e067\">\n",
              "    <div class=\"colab-df-container\">\n",
              "      <div>\n",
              "<style scoped>\n",
              "    .dataframe tbody tr th:only-of-type {\n",
              "        vertical-align: middle;\n",
              "    }\n",
              "\n",
              "    .dataframe tbody tr th {\n",
              "        vertical-align: top;\n",
              "    }\n",
              "\n",
              "    .dataframe thead th {\n",
              "        text-align: right;\n",
              "    }\n",
              "</style>\n",
              "<table border=\"1\" class=\"dataframe\">\n",
              "  <thead>\n",
              "    <tr style=\"text-align: right;\">\n",
              "      <th></th>\n",
              "      <th>Ni</th>\n",
              "      <th>Fe</th>\n",
              "      <th>Pd</th>\n",
              "      <th>Ag</th>\n",
              "      <th>Co</th>\n",
              "      <th>Cu</th>\n",
              "      <th>Cr</th>\n",
              "      <th>Mo</th>\n",
              "      <th>Rh</th>\n",
              "      <th>Pt</th>\n",
              "      <th>Ti</th>\n",
              "      <th>V</th>\n",
              "      <th>Mn</th>\n",
              "      <th>Zr</th>\n",
              "      <th>Nb</th>\n",
              "      <th>Si</th>\n",
              "      <th>Ta</th>\n",
              "    </tr>\n",
              "  </thead>\n",
              "  <tbody>\n",
              "    <tr>\n",
              "      <th>0</th>\n",
              "      <td>0.979</td>\n",
              "      <td>0.021</td>\n",
              "      <td>0.00</td>\n",
              "      <td>0.00</td>\n",
              "      <td>0.0</td>\n",
              "      <td>0.0</td>\n",
              "      <td>0.00</td>\n",
              "      <td>0.0</td>\n",
              "      <td>0.0</td>\n",
              "      <td>0.0</td>\n",
              "      <td>0.00</td>\n",
              "      <td>0.00</td>\n",
              "      <td>0.00</td>\n",
              "      <td>0.0</td>\n",
              "      <td>0.00</td>\n",
              "      <td>0.0</td>\n",
              "      <td>0.0</td>\n",
              "    </tr>\n",
              "    <tr>\n",
              "      <th>1</th>\n",
              "      <td>0.943</td>\n",
              "      <td>0.057</td>\n",
              "      <td>0.00</td>\n",
              "      <td>0.00</td>\n",
              "      <td>0.0</td>\n",
              "      <td>0.0</td>\n",
              "      <td>0.00</td>\n",
              "      <td>0.0</td>\n",
              "      <td>0.0</td>\n",
              "      <td>0.0</td>\n",
              "      <td>0.00</td>\n",
              "      <td>0.00</td>\n",
              "      <td>0.00</td>\n",
              "      <td>0.0</td>\n",
              "      <td>0.00</td>\n",
              "      <td>0.0</td>\n",
              "      <td>0.0</td>\n",
              "    </tr>\n",
              "    <tr>\n",
              "      <th>2</th>\n",
              "      <td>0.000</td>\n",
              "      <td>0.000</td>\n",
              "      <td>0.75</td>\n",
              "      <td>0.25</td>\n",
              "      <td>0.0</td>\n",
              "      <td>0.0</td>\n",
              "      <td>0.00</td>\n",
              "      <td>0.0</td>\n",
              "      <td>0.0</td>\n",
              "      <td>0.0</td>\n",
              "      <td>0.00</td>\n",
              "      <td>0.00</td>\n",
              "      <td>0.00</td>\n",
              "      <td>0.0</td>\n",
              "      <td>0.00</td>\n",
              "      <td>0.0</td>\n",
              "      <td>0.0</td>\n",
              "    </tr>\n",
              "    <tr>\n",
              "      <th>3</th>\n",
              "      <td>0.000</td>\n",
              "      <td>0.000</td>\n",
              "      <td>0.90</td>\n",
              "      <td>0.10</td>\n",
              "      <td>0.0</td>\n",
              "      <td>0.0</td>\n",
              "      <td>0.00</td>\n",
              "      <td>0.0</td>\n",
              "      <td>0.0</td>\n",
              "      <td>0.0</td>\n",
              "      <td>0.00</td>\n",
              "      <td>0.00</td>\n",
              "      <td>0.00</td>\n",
              "      <td>0.0</td>\n",
              "      <td>0.00</td>\n",
              "      <td>0.0</td>\n",
              "      <td>0.0</td>\n",
              "    </tr>\n",
              "    <tr>\n",
              "      <th>4</th>\n",
              "      <td>0.000</td>\n",
              "      <td>0.000</td>\n",
              "      <td>0.80</td>\n",
              "      <td>0.20</td>\n",
              "      <td>0.0</td>\n",
              "      <td>0.0</td>\n",
              "      <td>0.00</td>\n",
              "      <td>0.0</td>\n",
              "      <td>0.0</td>\n",
              "      <td>0.0</td>\n",
              "      <td>0.00</td>\n",
              "      <td>0.00</td>\n",
              "      <td>0.00</td>\n",
              "      <td>0.0</td>\n",
              "      <td>0.00</td>\n",
              "      <td>0.0</td>\n",
              "      <td>0.0</td>\n",
              "    </tr>\n",
              "    <tr>\n",
              "      <th>...</th>\n",
              "      <td>...</td>\n",
              "      <td>...</td>\n",
              "      <td>...</td>\n",
              "      <td>...</td>\n",
              "      <td>...</td>\n",
              "      <td>...</td>\n",
              "      <td>...</td>\n",
              "      <td>...</td>\n",
              "      <td>...</td>\n",
              "      <td>...</td>\n",
              "      <td>...</td>\n",
              "      <td>...</td>\n",
              "      <td>...</td>\n",
              "      <td>...</td>\n",
              "      <td>...</td>\n",
              "      <td>...</td>\n",
              "      <td>...</td>\n",
              "    </tr>\n",
              "    <tr>\n",
              "      <th>303</th>\n",
              "      <td>0.000</td>\n",
              "      <td>0.000</td>\n",
              "      <td>0.00</td>\n",
              "      <td>0.00</td>\n",
              "      <td>0.0</td>\n",
              "      <td>0.0</td>\n",
              "      <td>0.22</td>\n",
              "      <td>0.0</td>\n",
              "      <td>0.0</td>\n",
              "      <td>0.0</td>\n",
              "      <td>0.28</td>\n",
              "      <td>0.35</td>\n",
              "      <td>0.15</td>\n",
              "      <td>0.0</td>\n",
              "      <td>0.00</td>\n",
              "      <td>0.0</td>\n",
              "      <td>0.0</td>\n",
              "    </tr>\n",
              "    <tr>\n",
              "      <th>304</th>\n",
              "      <td>0.000</td>\n",
              "      <td>0.000</td>\n",
              "      <td>0.00</td>\n",
              "      <td>0.00</td>\n",
              "      <td>0.0</td>\n",
              "      <td>0.0</td>\n",
              "      <td>0.31</td>\n",
              "      <td>0.0</td>\n",
              "      <td>0.0</td>\n",
              "      <td>0.0</td>\n",
              "      <td>0.24</td>\n",
              "      <td>0.35</td>\n",
              "      <td>0.10</td>\n",
              "      <td>0.0</td>\n",
              "      <td>0.00</td>\n",
              "      <td>0.0</td>\n",
              "      <td>0.0</td>\n",
              "    </tr>\n",
              "    <tr>\n",
              "      <th>305</th>\n",
              "      <td>0.000</td>\n",
              "      <td>0.000</td>\n",
              "      <td>0.00</td>\n",
              "      <td>0.00</td>\n",
              "      <td>0.0</td>\n",
              "      <td>0.0</td>\n",
              "      <td>0.27</td>\n",
              "      <td>0.0</td>\n",
              "      <td>0.0</td>\n",
              "      <td>0.0</td>\n",
              "      <td>0.28</td>\n",
              "      <td>0.35</td>\n",
              "      <td>0.10</td>\n",
              "      <td>0.0</td>\n",
              "      <td>0.00</td>\n",
              "      <td>0.0</td>\n",
              "      <td>0.0</td>\n",
              "    </tr>\n",
              "    <tr>\n",
              "      <th>306</th>\n",
              "      <td>0.000</td>\n",
              "      <td>0.000</td>\n",
              "      <td>0.00</td>\n",
              "      <td>0.00</td>\n",
              "      <td>0.0</td>\n",
              "      <td>0.0</td>\n",
              "      <td>0.03</td>\n",
              "      <td>0.0</td>\n",
              "      <td>0.0</td>\n",
              "      <td>0.0</td>\n",
              "      <td>0.00</td>\n",
              "      <td>0.00</td>\n",
              "      <td>0.00</td>\n",
              "      <td>0.0</td>\n",
              "      <td>0.97</td>\n",
              "      <td>0.0</td>\n",
              "      <td>0.0</td>\n",
              "    </tr>\n",
              "    <tr>\n",
              "      <th>307</th>\n",
              "      <td>0.000</td>\n",
              "      <td>0.000</td>\n",
              "      <td>0.00</td>\n",
              "      <td>0.00</td>\n",
              "      <td>0.0</td>\n",
              "      <td>0.0</td>\n",
              "      <td>0.10</td>\n",
              "      <td>0.0</td>\n",
              "      <td>0.0</td>\n",
              "      <td>0.0</td>\n",
              "      <td>0.00</td>\n",
              "      <td>0.00</td>\n",
              "      <td>0.00</td>\n",
              "      <td>0.0</td>\n",
              "      <td>0.90</td>\n",
              "      <td>0.0</td>\n",
              "      <td>0.0</td>\n",
              "    </tr>\n",
              "  </tbody>\n",
              "</table>\n",
              "<p>308 rows × 17 columns</p>\n",
              "</div>\n",
              "      <button class=\"colab-df-convert\" onclick=\"convertToInteractive('df-97ea9bea-e5df-42b7-956a-232d8453e067')\"\n",
              "              title=\"Convert this dataframe to an interactive table.\"\n",
              "              style=\"display:none;\">\n",
              "        \n",
              "  <svg xmlns=\"http://www.w3.org/2000/svg\" height=\"24px\"viewBox=\"0 0 24 24\"\n",
              "       width=\"24px\">\n",
              "    <path d=\"M0 0h24v24H0V0z\" fill=\"none\"/>\n",
              "    <path d=\"M18.56 5.44l.94 2.06.94-2.06 2.06-.94-2.06-.94-.94-2.06-.94 2.06-2.06.94zm-11 1L8.5 8.5l.94-2.06 2.06-.94-2.06-.94L8.5 2.5l-.94 2.06-2.06.94zm10 10l.94 2.06.94-2.06 2.06-.94-2.06-.94-.94-2.06-.94 2.06-2.06.94z\"/><path d=\"M17.41 7.96l-1.37-1.37c-.4-.4-.92-.59-1.43-.59-.52 0-1.04.2-1.43.59L10.3 9.45l-7.72 7.72c-.78.78-.78 2.05 0 2.83L4 21.41c.39.39.9.59 1.41.59.51 0 1.02-.2 1.41-.59l7.78-7.78 2.81-2.81c.8-.78.8-2.07 0-2.86zM5.41 20L4 18.59l7.72-7.72 1.47 1.35L5.41 20z\"/>\n",
              "  </svg>\n",
              "      </button>\n",
              "      \n",
              "  <style>\n",
              "    .colab-df-container {\n",
              "      display:flex;\n",
              "      flex-wrap:wrap;\n",
              "      gap: 12px;\n",
              "    }\n",
              "\n",
              "    .colab-df-convert {\n",
              "      background-color: #E8F0FE;\n",
              "      border: none;\n",
              "      border-radius: 50%;\n",
              "      cursor: pointer;\n",
              "      display: none;\n",
              "      fill: #1967D2;\n",
              "      height: 32px;\n",
              "      padding: 0 0 0 0;\n",
              "      width: 32px;\n",
              "    }\n",
              "\n",
              "    .colab-df-convert:hover {\n",
              "      background-color: #E2EBFA;\n",
              "      box-shadow: 0px 1px 2px rgba(60, 64, 67, 0.3), 0px 1px 3px 1px rgba(60, 64, 67, 0.15);\n",
              "      fill: #174EA6;\n",
              "    }\n",
              "\n",
              "    [theme=dark] .colab-df-convert {\n",
              "      background-color: #3B4455;\n",
              "      fill: #D2E3FC;\n",
              "    }\n",
              "\n",
              "    [theme=dark] .colab-df-convert:hover {\n",
              "      background-color: #434B5C;\n",
              "      box-shadow: 0px 1px 3px 1px rgba(0, 0, 0, 0.15);\n",
              "      filter: drop-shadow(0px 1px 2px rgba(0, 0, 0, 0.3));\n",
              "      fill: #FFFFFF;\n",
              "    }\n",
              "  </style>\n",
              "\n",
              "      <script>\n",
              "        const buttonEl =\n",
              "          document.querySelector('#df-97ea9bea-e5df-42b7-956a-232d8453e067 button.colab-df-convert');\n",
              "        buttonEl.style.display =\n",
              "          google.colab.kernel.accessAllowed ? 'block' : 'none';\n",
              "\n",
              "        async function convertToInteractive(key) {\n",
              "          const element = document.querySelector('#df-97ea9bea-e5df-42b7-956a-232d8453e067');\n",
              "          const dataTable =\n",
              "            await google.colab.kernel.invokeFunction('convertToInteractive',\n",
              "                                                     [key], {});\n",
              "          if (!dataTable) return;\n",
              "\n",
              "          const docLinkHtml = 'Like what you see? Visit the ' +\n",
              "            '<a target=\"_blank\" href=https://colab.research.google.com/notebooks/data_table.ipynb>data table notebook</a>'\n",
              "            + ' to learn more about interactive tables.';\n",
              "          element.innerHTML = '';\n",
              "          dataTable['output_type'] = 'display_data';\n",
              "          await google.colab.output.renderOutput(dataTable, element);\n",
              "          const docLink = document.createElement('div');\n",
              "          docLink.innerHTML = docLinkHtml;\n",
              "          element.appendChild(docLink);\n",
              "        }\n",
              "      </script>\n",
              "    </div>\n",
              "  </div>\n",
              "  "
            ]
          },
          "metadata": {},
          "execution_count": 132
        }
      ],
      "source": [
        "X_new"
      ]
    },
    {
      "cell_type": "markdown",
      "source": [
        "# KPCA"
      ],
      "metadata": {
        "id": "KDBmj5vIi66D"
      }
    },
    {
      "cell_type": "code",
      "source": [
        "from sklearn.decomposition import KernelPCA"
      ],
      "metadata": {
        "id": "29vatW-Oi8r8"
      },
      "execution_count": null,
      "outputs": []
    },
    {
      "cell_type": "code",
      "source": [
        "kpca_data = KernelPCA(kernel=\"rbf\")   # selecting the default values of gamma \n",
        "\n",
        "# fitting  PCA on the standardize data\n",
        "kpca_data.fit(X_new)"
      ],
      "metadata": {
        "colab": {
          "base_uri": "https://localhost:8080/"
        },
        "id": "C48PoFsIjOBw",
        "outputId": "e45b4576-f51f-450f-ecdc-53c971595546"
      },
      "execution_count": null,
      "outputs": [
        {
          "output_type": "execute_result",
          "data": {
            "text/plain": [
              "KernelPCA(kernel='rbf')"
            ]
          },
          "metadata": {},
          "execution_count": 134
        }
      ]
    },
    {
      "cell_type": "code",
      "source": [
        "X_kpca = kpca_data.transform (X_new)\n",
        "print('Transformed data is \\n {}'.format(X_kpca))\n",
        "print('Transformed data shape is \\n {}'.format(X_kpca.shape))"
      ],
      "metadata": {
        "colab": {
          "base_uri": "https://localhost:8080/"
        },
        "id": "Tq9BLlaqjbmd",
        "outputId": "56469168-6dbb-491c-b008-ba96945129ed"
      },
      "execution_count": null,
      "outputs": [
        {
          "output_type": "stream",
          "name": "stdout",
          "text": [
            "Transformed data is \n",
            " [[-3.49473650e-03  1.33578459e-02  1.07587685e-01 ...  1.39266376e-10\n",
            "  -1.34147626e-09  2.29249508e-10]\n",
            " [-6.30479901e-03  1.34839079e-02  1.07464045e-01 ... -5.32054401e-11\n",
            "   1.96649808e-10  5.41717782e-11]\n",
            " [-2.22533157e-02  2.03319496e-01 -2.63351860e-02 ...  1.08482254e-08\n",
            "   7.94148036e-09 -6.18497324e-07]\n",
            " ...\n",
            " [-5.48813011e-02 -7.41602793e-02  7.64223043e-02 ... -1.39471013e-09\n",
            "  -1.11476766e-08 -4.44970283e-10]\n",
            " [-4.59690019e-03  1.16021950e-02  1.64591463e-01 ... -3.69260533e-09\n",
            "  -4.22700168e-08  4.00268618e-09]\n",
            " [-9.99415727e-03  1.14657401e-02  1.62328927e-01 ... -1.10668452e-09\n",
            "  -8.39031600e-09  1.56933311e-09]]\n",
            "Transformed data shape is \n",
            " (308, 164)\n"
          ]
        }
      ]
    },
    {
      "cell_type": "code",
      "source": [
        "X_kpca.shape"
      ],
      "metadata": {
        "colab": {
          "base_uri": "https://localhost:8080/"
        },
        "id": "8FBFBhKajmGT",
        "outputId": "d0b48ac8-514f-4eba-f662-4c12afeb2528"
      },
      "execution_count": null,
      "outputs": [
        {
          "output_type": "execute_result",
          "data": {
            "text/plain": [
              "(308, 164)"
            ]
          },
          "metadata": {},
          "execution_count": 136
        }
      ]
    },
    {
      "cell_type": "code",
      "source": [
        "explained_variance = np.var(X_kpca, axis=0)\n",
        "explained_variance_ratio = explained_variance / np.sum(explained_variance)\n",
        "print('Variance along principal directions: \\n {} \\n'.format(explained_variance_ratio)) "
      ],
      "metadata": {
        "colab": {
          "base_uri": "https://localhost:8080/"
        },
        "id": "HE0SesAAedf0",
        "outputId": "efc9903b-bd11-4cbf-dc11-b57c28036034"
      },
      "execution_count": null,
      "outputs": [
        {
          "output_type": "stream",
          "name": "stdout",
          "text": [
            "Variance along principal directions: \n",
            " [3.83369504e-01 2.77359978e-01 9.32561434e-02 6.36427448e-02\n",
            " 4.78171448e-02 3.61930787e-02 2.95623309e-02 2.95511502e-02\n",
            " 1.35162988e-02 1.10203106e-02 4.71330133e-03 2.32402771e-03\n",
            " 1.72269933e-03 1.43610292e-03 1.07090921e-03 8.03779108e-04\n",
            " 7.82564064e-04 5.32992485e-04 3.81498598e-04 2.05771029e-04\n",
            " 1.05138012e-04 9.51022191e-05 9.37212144e-05 7.20856998e-05\n",
            " 6.35511738e-05 5.18807271e-05 3.88279119e-05 3.41766574e-05\n",
            " 2.67113069e-05 2.16007458e-05 1.97398876e-05 1.88419190e-05\n",
            " 1.41066963e-05 9.64302982e-06 8.40417466e-06 7.44122131e-06\n",
            " 6.20333856e-06 5.00099680e-06 4.40664184e-06 4.00138143e-06\n",
            " 3.66910246e-06 3.30741257e-06 3.22016882e-06 2.92243224e-06\n",
            " 2.79736173e-06 2.52890234e-06 2.42902491e-06 2.21320264e-06\n",
            " 1.64285291e-06 1.44417336e-06 1.29390370e-06 1.12544723e-06\n",
            " 1.08792086e-06 1.02954300e-06 8.70220014e-07 7.68354286e-07\n",
            " 6.21511763e-07 5.06198009e-07 4.95412176e-07 4.24966578e-07\n",
            " 4.05235583e-07 3.15113320e-07 2.74751896e-07 2.55186476e-07\n",
            " 2.33527821e-07 2.23716050e-07 1.35489936e-07 9.75829407e-08\n",
            " 8.11627693e-08 6.76712359e-08 6.27799550e-08 5.32002564e-08\n",
            " 4.95847553e-08 4.70105937e-08 4.37066743e-08 4.09048197e-08\n",
            " 3.84734889e-08 3.39059134e-08 2.76577178e-08 2.33785098e-08\n",
            " 2.05844317e-08 1.94967678e-08 1.86002104e-08 1.58519323e-08\n",
            " 1.26982827e-08 1.03840302e-08 9.22975372e-09 8.36030238e-09\n",
            " 7.09767625e-09 6.27537489e-09 6.09818929e-09 4.47244672e-09\n",
            " 4.28160918e-09 3.64486328e-09 3.07464960e-09 2.69308434e-09\n",
            " 2.61320850e-09 2.25297870e-09 2.23665753e-09 2.08190244e-09\n",
            " 1.81177677e-09 1.50424500e-09 1.42567587e-09 1.24832525e-09\n",
            " 1.02512403e-09 8.34497904e-10 8.20577098e-10 6.24639117e-10\n",
            " 6.23436588e-10 5.69521643e-10 5.14964105e-10 5.08705418e-10\n",
            " 4.53614458e-10 3.79150382e-10 2.73092445e-10 2.62371842e-10\n",
            " 2.39065139e-10 2.27114742e-10 2.16263961e-10 2.05803235e-10\n",
            " 1.94172829e-10 1.63911723e-10 8.63913057e-11 8.39877758e-11\n",
            " 7.79187498e-11 6.17595186e-11 5.79926661e-11 5.15528752e-11\n",
            " 4.46367173e-11 3.47141960e-11 3.02318457e-11 2.58348095e-11\n",
            " 2.19602060e-11 1.48437767e-11 1.43361946e-11 1.29921949e-11\n",
            " 1.18980169e-11 1.12943854e-11 8.71177172e-12 8.39026145e-12\n",
            " 7.83022555e-12 5.08736227e-12 4.43240829e-12 4.10429620e-12\n",
            " 3.71018183e-12 3.35925880e-12 3.19134029e-12 2.58871357e-12\n",
            " 2.31236545e-12 2.10312953e-12 1.82840754e-12 1.80130129e-12\n",
            " 1.55311098e-12 1.38380586e-12 1.35709846e-12 1.17877044e-12\n",
            " 1.14256635e-12 9.64174907e-13 9.26178900e-13 8.38038821e-13\n",
            " 7.85850516e-13 7.16614669e-13 6.77816001e-13 5.49349271e-13] \n",
            "\n"
          ]
        }
      ]
    },
    {
      "cell_type": "code",
      "source": [
        "cumulative_variance_explained_ = np.cumsum (explained_variance_ratio)\n",
        "print(cumulative_variance_explained_)"
      ],
      "metadata": {
        "colab": {
          "base_uri": "https://localhost:8080/"
        },
        "id": "DE0m1GaTepvB",
        "outputId": "6c59e563-3e32-422f-d431-e52723fed557"
      },
      "execution_count": null,
      "outputs": [
        {
          "output_type": "stream",
          "name": "stdout",
          "text": [
            "[0.3833695  0.66072948 0.75398563 0.81762837 0.86544551 0.90163859\n",
            " 0.93120092 0.96075207 0.97426837 0.98528868 0.99000199 0.99232601\n",
            " 0.99404871 0.99548482 0.99655572 0.9973595  0.99814207 0.99867506\n",
            " 0.99905656 0.99926233 0.99936747 0.99946257 0.99955629 0.99962838\n",
            " 0.99969193 0.99974381 0.99978264 0.99981681 0.99984352 0.99986513\n",
            " 0.99988487 0.99990371 0.99991781 0.99992746 0.99993586 0.9999433\n",
            " 0.99994951 0.99995451 0.99995891 0.99996291 0.99996658 0.99996989\n",
            " 0.99997311 0.99997603 0.99997883 0.99998136 0.99998379 0.999986\n",
            " 0.99998765 0.99998909 0.99999038 0.99999151 0.9999926  0.99999363\n",
            " 0.9999945  0.99999527 0.99999589 0.99999639 0.99999689 0.99999731\n",
            " 0.99999772 0.99999803 0.99999831 0.99999856 0.9999988  0.99999902\n",
            " 0.99999916 0.99999925 0.99999933 0.9999994  0.99999947 0.99999952\n",
            " 0.99999957 0.99999962 0.99999966 0.9999997  0.99999974 0.99999977\n",
            " 0.9999998  0.99999982 0.99999984 0.99999986 0.99999988 0.9999999\n",
            " 0.99999991 0.99999992 0.99999993 0.99999994 0.99999995 0.99999995\n",
            " 0.99999996 0.99999996 0.99999997 0.99999997 0.99999997 0.99999998\n",
            " 0.99999998 0.99999998 0.99999998 0.99999999 0.99999999 0.99999999\n",
            " 0.99999999 0.99999999 0.99999999 0.99999999 0.99999999 0.99999999\n",
            " 1.         1.         1.         1.         1.         1.\n",
            " 1.         1.         1.         1.         1.         1.\n",
            " 1.         1.         1.         1.         1.         1.\n",
            " 1.         1.         1.         1.         1.         1.\n",
            " 1.         1.         1.         1.         1.         1.\n",
            " 1.         1.         1.         1.         1.         1.\n",
            " 1.         1.         1.         1.         1.         1.\n",
            " 1.         1.         1.         1.         1.         1.\n",
            " 1.         1.         1.         1.         1.         1.\n",
            " 1.         1.        ]\n"
          ]
        }
      ]
    },
    {
      "cell_type": "code",
      "source": [
        "from google.colab import files\n",
        "fig = plt.figure()\n",
        "fig.set_figheight(7)\n",
        "fig.set_figwidth(14)\n",
        "plt.plot([i for i in range(16)],cumulative_variance_explained_[:16])\n",
        "plt.xlabel(\"PCA dimensions\")\n",
        "plt.ylabel(\"Cumulative explained variance\")\n",
        "plt.title(\"Explained variance vs KPCA dimensions\")\n",
        "plt.grid()\n",
        "plt.show()\n",
        "plt.savefig(\"fig.png\",bbox_inches='tight')\n",
        "files.download('fig.png')"
      ],
      "metadata": {
        "colab": {
          "base_uri": "https://localhost:8080/",
          "height": 475
        },
        "id": "zgdMdtmcesTO",
        "outputId": "d713cc4e-a0a5-4e71-e69a-9edfac84c726"
      },
      "execution_count": null,
      "outputs": [
        {
          "output_type": "display_data",
          "data": {
            "text/plain": [
              "<Figure size 1008x504 with 1 Axes>"
            ],
            "image/png": "[encoded data removed]"
          },
          "metadata": {
            "needs_background": "light"
          }
        },
        {
          "output_type": "display_data",
          "data": {
            "text/plain": [
              "<IPython.core.display.Javascript object>"
            ],
            "application/javascript": [
              "\n",
              "    async function download(id, filename, size) {\n",
              "      if (!google.colab.kernel.accessAllowed) {\n",
              "        return;\n",
              "      }\n",
              "      const div = document.createElement('div');\n",
              "      const label = document.createElement('label');\n",
              "      label.textContent = `Downloading \"${filename}\": `;\n",
              "      div.appendChild(label);\n",
              "      const progress = document.createElement('progress');\n",
              "      progress.max = size;\n",
              "      div.appendChild(progress);\n",
              "      document.body.appendChild(div);\n",
              "\n",
              "      const buffers = [];\n",
              "      let downloaded = 0;\n",
              "\n",
              "      const channel = await google.colab.kernel.comms.open(id);\n",
              "      // Send a message to notify the kernel that we're ready.\n",
              "      channel.send({})\n",
              "\n",
              "      for await (const message of channel.messages) {\n",
              "        // Send a message to notify the kernel that we're ready.\n",
              "        channel.send({})\n",
              "        if (message.buffers) {\n",
              "          for (const buffer of message.buffers) {\n",
              "            buffers.push(buffer);\n",
              "            downloaded += buffer.byteLength;\n",
              "            progress.value = downloaded;\n",
              "          }\n",
              "        }\n",
              "      }\n",
              "      const blob = new Blob(buffers, {type: 'application/binary'});\n",
              "      const a = document.createElement('a');\n",
              "      a.href = window.URL.createObjectURL(blob);\n",
              "      a.download = filename;\n",
              "      div.appendChild(a);\n",
              "      a.click();\n",
              "      div.remove();\n",
              "    }\n",
              "  "
            ]
          },
          "metadata": {}
        },
        {
          "output_type": "display_data",
          "data": {
            "text/plain": [
              "<IPython.core.display.Javascript object>"
            ],
            "application/javascript": [
              "download(\"download_15a8ee30-ff43-4bf5-8263-c2e29f54a3a6\", \"fig.png\", 1324)"
            ]
          },
          "metadata": {}
        },
        {
          "output_type": "display_data",
          "data": {
            "text/plain": [
              "<Figure size 432x288 with 0 Axes>"
            ]
          },
          "metadata": {}
        }
      ]
    },
    {
      "cell_type": "code",
      "source": [
        "kpca_data = KernelPCA(n_components=10,kernel=\"rbf\")   # selecting the default values of gamma \n",
        "\n",
        "# fitting  PCA on the standardize data\n",
        "kpca_data.fit(X_new)"
      ],
      "metadata": {
        "colab": {
          "base_uri": "https://localhost:8080/"
        },
        "id": "TRySbFZbggjs",
        "outputId": "cdd8ddc4-d8db-4634-b677-ad1478aa9d96"
      },
      "execution_count": null,
      "outputs": [
        {
          "output_type": "execute_result",
          "data": {
            "text/plain": [
              "KernelPCA(kernel='rbf', n_components=10)"
            ]
          },
          "metadata": {},
          "execution_count": 186
        }
      ]
    },
    {
      "cell_type": "code",
      "source": [
        "X_kpca = kpca_data.transform (X_new)\n",
        "print('Transformed data is \\n {}'.format(X_kpca))\n",
        "print('Transformed data shape is \\n {}'.format(X_kpca.shape))"
      ],
      "metadata": {
        "colab": {
          "base_uri": "https://localhost:8080/"
        },
        "id": "7pW7J7cHgkX9",
        "outputId": "2d324e74-8d61-410f-e3b5-f504c77f50da"
      },
      "execution_count": null,
      "outputs": [
        {
          "output_type": "stream",
          "name": "stdout",
          "text": [
            "Transformed data is \n",
            " [[-3.49473650e-03  1.33578459e-02  1.07587685e-01 ... -8.34981905e-04\n",
            "   2.71560223e-01  1.91903494e-01]\n",
            " [-6.30479901e-03  1.34839079e-02  1.07464045e-01 ... -8.20441019e-04\n",
            "   2.64533226e-01  1.85388232e-01]\n",
            " [-2.22533157e-02  2.03319496e-01 -2.63351860e-02 ... -6.53130997e-05\n",
            "   7.46390474e-03 -1.65486821e-03]\n",
            " ...\n",
            " [-5.48813011e-02 -7.41602793e-02  7.64223043e-02 ...  1.40471580e-03\n",
            "   4.56535986e-02 -6.30182705e-02]\n",
            " [-4.59690019e-03  1.16021950e-02  1.64591463e-01 ...  5.30880644e-03\n",
            "  -3.46296629e-02  8.83048466e-04]\n",
            " [-9.99415727e-03  1.14657401e-02  1.62328927e-01 ...  5.01891945e-03\n",
            "  -1.76834867e-02 -1.78035186e-02]]\n",
            "Transformed data shape is \n",
            " (308, 10)\n"
          ]
        }
      ]
    },
    {
      "cell_type": "markdown",
      "source": [
        "# EDA"
      ],
      "metadata": {
        "id": "HI9Kb5c6RiYQ"
      }
    },
    {
      "cell_type": "code",
      "source": [
        "X_new.columns"
      ],
      "metadata": {
        "colab": {
          "base_uri": "https://localhost:8080/"
        },
        "id": "AHcBdqRrrxI8",
        "outputId": "fa546e72-3a1a-4d48-b8c6-658490009927"
      },
      "execution_count": null,
      "outputs": [
        {
          "output_type": "execute_result",
          "data": {
            "text/plain": [
              "Index(['Ni', 'Fe', 'Pd', 'Ag', 'Co', 'Cu', 'Cr', 'Mo', 'Rh', 'Pt', 'Ti', 'V',\n",
              "       'Mn', 'Zr', 'Nb', 'Si', 'Ta'],\n",
              "      dtype='object')"
            ]
          },
          "metadata": {},
          "execution_count": 188
        }
      ]
    },
    {
      "cell_type": "code",
      "execution_count": null,
      "metadata": {
        "colab": {
          "base_uri": "https://localhost:8080/",
          "height": 596
        },
        "id": "FqddSAA0ZNEz",
        "outputId": "6db5adfb-7d08-432c-f1f4-858b80312684"
      },
      "outputs": [
        {
          "output_type": "display_data",
          "data": {
            "text/plain": [
              "<IPython.core.display.Javascript object>"
            ],
            "application/javascript": [
              "\n",
              "    async function download(id, filename, size) {\n",
              "      if (!google.colab.kernel.accessAllowed) {\n",
              "        return;\n",
              "      }\n",
              "      const div = document.createElement('div');\n",
              "      const label = document.createElement('label');\n",
              "      label.textContent = `Downloading \"${filename}\": `;\n",
              "      div.appendChild(label);\n",
              "      const progress = document.createElement('progress');\n",
              "      progress.max = size;\n",
              "      div.appendChild(progress);\n",
              "      document.body.appendChild(div);\n",
              "\n",
              "      const buffers = [];\n",
              "      let downloaded = 0;\n",
              "\n",
              "      const channel = await google.colab.kernel.comms.open(id);\n",
              "      // Send a message to notify the kernel that we're ready.\n",
              "      channel.send({})\n",
              "\n",
              "      for await (const message of channel.messages) {\n",
              "        // Send a message to notify the kernel that we're ready.\n",
              "        channel.send({})\n",
              "        if (message.buffers) {\n",
              "          for (const buffer of message.buffers) {\n",
              "            buffers.push(buffer);\n",
              "            downloaded += buffer.byteLength;\n",
              "            progress.value = downloaded;\n",
              "          }\n",
              "        }\n",
              "      }\n",
              "      const blob = new Blob(buffers, {type: 'application/binary'});\n",
              "      const a = document.createElement('a');\n",
              "      a.href = window.URL.createObjectURL(blob);\n",
              "      a.download = filename;\n",
              "      div.appendChild(a);\n",
              "      a.click();\n",
              "      div.remove();\n",
              "    }\n",
              "  "
            ]
          },
          "metadata": {}
        },
        {
          "output_type": "display_data",
          "data": {
            "text/plain": [
              "<IPython.core.display.Javascript object>"
            ],
            "application/javascript": [
              "download(\"download_08095b50-6f79-4015-bea3-1e6f8e01f31d\", \"fig.png\", 113189)"
            ]
          },
          "metadata": {}
        },
        {
          "output_type": "display_data",
          "data": {
            "text/plain": [
              "<Figure size 1080x720 with 2 Axes>"
            ],
            "image/png": "[encoded data removed]"
          },
          "metadata": {
            "needs_background": "light"
          }
        }
      ],
      "source": [
        "fig = plt.gcf();\n",
        "fig.set_size_inches(15, 10)\n",
        "sns.heatmap(np.absolute(X_new.corr()), cmap=\"YlGnBu\",annot=True)\n",
        "plt.savefig(\"fig.png\")\n",
        "files.download('fig.png')"
      ]
    },
    {
      "cell_type": "code",
      "source": [
        "y=new_dataset.iloc[:,-1]"
      ],
      "metadata": {
        "id": "L6t9nwbDHvc7"
      },
      "execution_count": null,
      "outputs": []
    },
    {
      "cell_type": "code",
      "execution_count": null,
      "metadata": {
        "id": "AXWgvXUVZXGb"
      },
      "outputs": [],
      "source": [
        "X_train, X_val, y_train, y_val = train_test_split(X_new,new_dataset.iloc[:,-1],train_size=0.85,random_state=42,shuffle=True)\n",
        "X_train, X_test, y_train, y_test = train_test_split(X_train, y_train,test_size=0.176, random_state= 8,shuffle=True) # 0.25 x 0.8 = 0.2"
      ]
    },
    {
      "cell_type": "markdown",
      "metadata": {
        "id": "Ix9002MDaAkq"
      },
      "source": [
        "# Models"
      ]
    },
    {
      "cell_type": "code",
      "source": [
        "from sklearn.metrics import r2_score, mean_squared_error, make_scorer,mean_absolute_error\n",
        "def MSE(y_true,y_pred):\n",
        "    mse = mean_squared_error(y_true, y_pred)\n",
        "    return mse\n",
        "def MAE(y_true,y_pred):\n",
        "    mae = mean_absolute_error(y_true,y_pred)\n",
        "    return mae\n",
        "def R2(y_true,y_pred):    \n",
        "     r2 = r2_score(y_true, y_pred)\n",
        "     return r2\n",
        "\n",
        "def two_score(y_true,y_pred):    \n",
        "    MSE(y_true,y_pred) #set score here and not below if using MSE in GridCV\n",
        "    score = R2(y_true,y_pred)\n",
        "    return score\n",
        "def two_scorer():\n",
        "    return make_scorer(two_score, greater_is_better=True)"
      ],
      "metadata": {
        "id": "O2d6wNGAjwJw"
      },
      "execution_count": null,
      "outputs": []
    },
    {
      "cell_type": "markdown",
      "source": [
        "## Linear Regression"
      ],
      "metadata": {
        "id": "U6OTK5azmlFe"
      }
    },
    {
      "cell_type": "code",
      "source": [
        "from sklearn.linear_model import LinearRegression\n",
        "reg = LinearRegression().fit(X_train, y_train)"
      ],
      "metadata": {
        "id": "uqJbVYrSmkx9"
      },
      "execution_count": null,
      "outputs": []
    },
    {
      "cell_type": "code",
      "source": [
        "reg.score(X_train,y_train)"
      ],
      "metadata": {
        "colab": {
          "base_uri": "https://localhost:8080/"
        },
        "id": "WDfPaQZtm38g",
        "outputId": "ec634099-800e-4148-fe0d-d3e3b6711ec6"
      },
      "execution_count": null,
      "outputs": [
        {
          "output_type": "execute_result",
          "data": {
            "text/plain": [
              "0.687967750316729"
            ]
          },
          "metadata": {},
          "execution_count": 480
        }
      ]
    },
    {
      "cell_type": "code",
      "source": [
        "reg.score(X_val,y_val)"
      ],
      "metadata": {
        "colab": {
          "base_uri": "https://localhost:8080/"
        },
        "id": "ooJ3hYsFnBgG",
        "outputId": "7911e2f8-0550-4b2d-a65f-27a070659656"
      },
      "execution_count": null,
      "outputs": [
        {
          "output_type": "execute_result",
          "data": {
            "text/plain": [
              "0.7347388807387413"
            ]
          },
          "metadata": {},
          "execution_count": 481
        }
      ]
    },
    {
      "cell_type": "code",
      "source": [
        "reg.score(X_test,y_test)"
      ],
      "metadata": {
        "colab": {
          "base_uri": "https://localhost:8080/"
        },
        "id": "etoPDPBhnFVu",
        "outputId": "f5d47409-34e5-4970-9488-db3ee4844a71"
      },
      "execution_count": null,
      "outputs": [
        {
          "output_type": "execute_result",
          "data": {
            "text/plain": [
              "0.6214619163595089"
            ]
          },
          "metadata": {},
          "execution_count": 482
        }
      ]
    },
    {
      "cell_type": "markdown",
      "metadata": {
        "id": "QD0K_TD5aDb8"
      },
      "source": [
        "## Random Forest"
      ]
    },
    {
      "cell_type": "code",
      "execution_count": null,
      "metadata": {
        "colab": {
          "base_uri": "https://localhost:8080/"
        },
        "id": "9YcnU1NMaC1M",
        "outputId": "3f2d14fb-b902-4924-d7a7-5564cf097ff7"
      },
      "outputs": [
        {
          "output_type": "stream",
          "name": "stderr",
          "text": [
            "/usr/local/lib/python3.7/dist-packages/sklearn/ensemble/_forest.py:407: FutureWarning: Criterion 'mae' was deprecated in v1.0 and will be removed in version 1.2. Use `criterion='absolute_error'` which is equivalent.\n",
            "  FutureWarning,\n"
          ]
        },
        {
          "output_type": "execute_result",
          "data": {
            "text/plain": [
              "GridSearchCV(estimator=RandomForestRegressor(random_state=0), n_jobs=4,\n",
              "             param_grid={'criterion': ['mae'], 'max_depth': [20, 25, 30],\n",
              "                         'max_features': ['auto'],\n",
              "                         'n_estimators': [200, 250, 300], 'random_state': [0],\n",
              "                         'verbose': [0]},\n",
              "             return_train_score=True, scoring=make_scorer(two_score))"
            ]
          },
          "metadata": {},
          "execution_count": 502
        }
      ],
      "source": [
        "estimator = RandomForestRegressor(random_state=0)\n",
        "param_grid = {\n",
        " 'criterion': ['mae'],\n",
        " 'max_depth': [20,25,30],\n",
        " 'max_features':['auto'],\n",
        " 'n_estimators': [200,250,300],\n",
        " 'random_state': [0],\n",
        " 'verbose': [0]}\n",
        "grid = GridSearchCV(estimator, param_grid, n_jobs=4,return_train_score=True,scoring=two_scorer())\n",
        "grid.fit(X_train, y_train)"
      ]
    },
    {
      "cell_type": "code",
      "source": [
        "grid.best_estimator_"
      ],
      "metadata": {
        "colab": {
          "base_uri": "https://localhost:8080/"
        },
        "id": "kdAQdc_CCmxT",
        "outputId": "922c608f-671e-4a42-fa8c-366be7180715"
      },
      "execution_count": null,
      "outputs": [
        {
          "output_type": "execute_result",
          "data": {
            "text/plain": [
              "RandomForestRegressor(criterion='mae', max_depth=25, n_estimators=200,\n",
              "                      random_state=0)"
            ]
          },
          "metadata": {},
          "execution_count": 503
        }
      ]
    },
    {
      "cell_type": "code",
      "source": [
        "grid.best_params_"
      ],
      "metadata": {
        "id": "NE6WXbzaotq5",
        "colab": {
          "base_uri": "https://localhost:8080/"
        },
        "outputId": "b01048dd-27dc-4f16-914c-bcd6544f4d13"
      },
      "execution_count": null,
      "outputs": [
        {
          "output_type": "execute_result",
          "data": {
            "text/plain": [
              "{'criterion': 'mae',\n",
              " 'max_depth': 25,\n",
              " 'max_features': 'auto',\n",
              " 'n_estimators': 200,\n",
              " 'random_state': 0,\n",
              " 'verbose': 0}"
            ]
          },
          "metadata": {},
          "execution_count": 504
        }
      ]
    },
    {
      "cell_type": "code",
      "source": [
        "(grid.score(X_train,y_train))"
      ],
      "metadata": {
        "colab": {
          "base_uri": "https://localhost:8080/"
        },
        "id": "AqnRfYvAtc3s",
        "outputId": "32c35530-8f4f-4f8e-edc6-4cda745a9a11"
      },
      "execution_count": null,
      "outputs": [
        {
          "output_type": "execute_result",
          "data": {
            "text/plain": [
              "0.9351286954000695"
            ]
          },
          "metadata": {},
          "execution_count": 505
        }
      ]
    },
    {
      "cell_type": "code",
      "execution_count": null,
      "metadata": {
        "colab": {
          "base_uri": "https://localhost:8080/"
        },
        "id": "Z2llHfN_a9pp",
        "outputId": "e93f01c1-dfee-40a2-c614-763150b96ea3"
      },
      "outputs": [
        {
          "output_type": "stream",
          "name": "stdout",
          "text": [
            "Train: 0.9351286954000695\n",
            "validation: 0.8623532818942229\n",
            "Test: 0.8128430312690247\n"
          ]
        }
      ],
      "source": [
        "print(\"Train:\",(grid.score(X_train,y_train)))\n",
        "print(\"validation:\",(grid.score(X_val,y_val)))\n",
        "print(\"Test:\",(grid.score(X_test,y_test)))"
      ]
    },
    {
      "cell_type": "code",
      "source": [
        "print(\"MSE:{0} \\nR2:{1} \\n \".format(MSE(y_train,grid.predict(X_train)),(grid.score(X_train,y_train))))\n",
        "print(\"MSE:{0} \\nR2:{1} \\n \".format(MSE(y_val,grid.predict(X_val)),(grid.score(X_val,y_val))))\n",
        "print(\"MSE:{0} \\nR2:{1} \\n \".format(MSE(y_test,grid.predict(X_test)),(grid.score(X_test,y_test))))"
      ],
      "metadata": {
        "colab": {
          "base_uri": "https://localhost:8080/"
        },
        "id": "lXMbaV6R5sSn",
        "outputId": "59413e4d-bcb3-4719-a3ce-14a8d8d36310"
      },
      "execution_count": null,
      "outputs": [
        {
          "output_type": "stream",
          "name": "stdout",
          "text": [
            "MSE:0.11597785077034901 \n",
            "R2:0.9351286954000695 \n",
            " \n",
            "MSE:0.23940702382978649 \n",
            "R2:0.8623532818942229 \n",
            " \n",
            "MSE:0.33785003733695756 \n",
            "R2:0.8128430312690247 \n",
            " \n"
          ]
        }
      ]
    },
    {
      "cell_type": "code",
      "source": [
        "print(\"MAE:{0:0.2f} \\nR2:{1:0.2f} \\n \".format(MAE(y_train,grid.predict(X_train)),(grid.score(X_train,y_train))))\n",
        "print(\"MAE:{0:0.2f} \\nR2:{1:0.2f} \\n \".format(MAE(y_val,grid.predict(X_val)),(grid.score(X_val,y_val))))\n",
        "print(\"MAE:{0:0.2f} \\nR2:{1:0.2f} \\n \".format(MAE(y_test,grid.predict(X_test)),(grid.score(X_test,y_test))))"
      ],
      "metadata": {
        "colab": {
          "base_uri": "https://localhost:8080/"
        },
        "id": "TX8w8lLn6Dbd",
        "outputId": "2d7f2e1c-ec49-40e6-fe8b-ef2b9349352f"
      },
      "execution_count": null,
      "outputs": [
        {
          "output_type": "stream",
          "name": "stdout",
          "text": [
            "MAE:0.19 \n",
            "R2:0.94 \n",
            " \n",
            "MAE:0.35 \n",
            "R2:0.86 \n",
            " \n",
            "MAE:0.38 \n",
            "R2:0.81 \n",
            " \n"
          ]
        }
      ]
    },
    {
      "cell_type": "markdown",
      "source": [
        "###  KPCA\n",
        "**MSE**\n",
        "1. $MSE: 0.111$\n",
        "\n",
        "   $R^2: 0.938$\n",
        "2. $MSE: 0.228$\n",
        "\n",
        "   $R^2: 0.869$\n",
        "3. $MSE: 0.331$\n",
        "\n",
        "   $R^2: 0.817$\n",
        "\n",
        "**MAE**\n",
        "1. $MAE:0.19 $\n",
        "\n",
        "  $R2:0.94 $\n",
        " \n",
        "2. $MAE:0.35$ \n",
        "\n",
        "   $R2:0.86$ \n",
        " \n",
        "3. $MAE:0.38$ \n",
        "\n",
        "  $R2:0.81 $\n",
        "\n",
        "### without kpca\n",
        "**MSE**\n",
        "\n",
        "1. $MSE:0.118$\n",
        "\n",
        "   $R^2:0.934$\n",
        "  \n",
        "2. $MSE:0.395$\n",
        "\n",
        "   $R^2:0.773$\n",
        "\n",
        "3. $MSE:0.443$\n",
        "\n",
        "   $R^2:0.754$\n",
        "**MAE**\n",
        "\n",
        "1. $ MAE:0.19 $\n",
        "\n",
        "   $R^2:0.93 $\n",
        " \n",
        "2. $MAE:0.34 $\n",
        "\n",
        "   $ R^2:0.83$ \n",
        " \n",
        "3. $MAE:0.41$ \n",
        "\n",
        "   $R^2:0.74 $"
      ],
      "metadata": {
        "id": "T1J_3OJNsPxQ"
      }
    },
    {
      "cell_type": "code",
      "execution_count": null,
      "metadata": {
        "id": "STEd0ol5aTnL"
      },
      "outputs": [],
      "source": [
        "rn1_y_pred_train=grid.predict(X_train)\n",
        "rn1_y_pred_val=grid.predict(X_val)\n",
        "rn1_y_pred_test=grid.predict(X_test)"
      ]
    },
    {
      "cell_type": "markdown",
      "metadata": {
        "id": "S_SU_gvebi7Q"
      },
      "source": [
        "## Gradient Boosting Regression\n",
        "\n",
        "> Indented block\n",
        "\n"
      ]
    },
    {
      "cell_type": "code",
      "execution_count": null,
      "metadata": {
        "colab": {
          "base_uri": "https://localhost:8080/"
        },
        "id": "-7WtaWA9bnjL",
        "outputId": "6efdc391-073c-484e-c851-b8c46a39ef1a"
      },
      "outputs": [
        {
          "output_type": "execute_result",
          "data": {
            "text/plain": [
              "GridSearchCV(estimator=GradientBoostingRegressor(), n_jobs=-1,\n",
              "             param_grid={'learning_rate': [0.005, 0.01],\n",
              "                         'loss': ['squared_error'], 'max_depth': [4, 6, 7],\n",
              "                         'min_samples_split': [10, 12],\n",
              "                         'n_estimators': [400, 450]},\n",
              "             return_train_score=True)"
            ]
          },
          "metadata": {},
          "execution_count": 529
        }
      ],
      "source": [
        "params = {\n",
        "    \"n_estimators\":[400,450],\n",
        "    \"max_depth\":[4,6,7],\n",
        "    \"min_samples_split\":[10,12],\n",
        "    \"learning_rate\":[ 0.005,0.01,],\n",
        "    \"loss\": ['squared_error']\n",
        "}\n",
        "reg = ensemble.GradientBoostingRegressor()\n",
        "gb = GridSearchCV(reg, params, n_jobs=-1,return_train_score=True)\n",
        "gb.fit(X_train, y_train)"
      ]
    },
    {
      "cell_type": "code",
      "source": [
        "gb.best_params_"
      ],
      "metadata": {
        "colab": {
          "base_uri": "https://localhost:8080/"
        },
        "id": "W5c_206-nC2u",
        "outputId": "ff73da73-75ff-4888-895c-6f2b62afbd8c"
      },
      "execution_count": null,
      "outputs": [
        {
          "output_type": "execute_result",
          "data": {
            "text/plain": [
              "{'learning_rate': 0.01,\n",
              " 'loss': 'squared_error',\n",
              " 'max_depth': 4,\n",
              " 'min_samples_split': 10,\n",
              " 'n_estimators': 450}"
            ]
          },
          "metadata": {},
          "execution_count": 530
        }
      ]
    },
    {
      "cell_type": "code",
      "execution_count": null,
      "metadata": {
        "colab": {
          "base_uri": "https://localhost:8080/"
        },
        "id": "ytamI2vhbx2U",
        "outputId": "7e64022e-3026-463b-898d-d0cda612dd0b"
      },
      "outputs": [
        {
          "output_type": "stream",
          "name": "stdout",
          "text": [
            "Gradient Bossting R^2 Score train:  0.9029766465452836\n",
            "Gradient Bossting R^2 Score val:    0.8284864303001477\n",
            "Gradient BosstingR^2 Score test:   0.780584554796637\n"
          ]
        }
      ],
      "source": [
        "print(\"Gradient Bossting R^2 Score train: \",(gb.score(X_train,y_train)))\n",
        "print(\"Gradient Bossting R^2 Score val:   \",(gb.score(X_val,y_val)))\n",
        "print(\"Gradient BosstingR^2 Score test:  \",(gb.score(X_test,y_test)))"
      ]
    },
    {
      "cell_type": "code",
      "source": [
        "print(\"MSE:{0:0.2f} \\nR2:{1:0.2f} \\n \".format(MSE(y_train,gb.predict(X_train)),(gb.score(X_train,y_train))))\n",
        "print(\"MSE:{0:0.2f} \\nR2:{1:0.2f} \\n \".format(MSE(y_val,gb.predict(X_val)),(gb.score(X_val,y_val))))\n",
        "print(\"MSE:{0:0.2f} \\nR2:{1:0.2f} \\n \".format(MSE(y_test,gb.predict(X_test)),(gb.score(X_test,y_test))))"
      ],
      "metadata": {
        "colab": {
          "base_uri": "https://localhost:8080/"
        },
        "id": "KsRHvrWgwVEt",
        "outputId": "f760fb33-256e-4fc8-9995-393abe59aaf4"
      },
      "execution_count": null,
      "outputs": [
        {
          "output_type": "stream",
          "name": "stdout",
          "text": [
            "MSE:0.17 \n",
            "R2:0.90 \n",
            " \n",
            "MSE:0.30 \n",
            "R2:0.83 \n",
            " \n",
            "MSE:0.40 \n",
            "R2:0.78 \n",
            " \n"
          ]
        }
      ]
    },
    {
      "cell_type": "code",
      "source": [
        "print(\"MAE:{0:0.2f} \\nR2:{1:0.2f} \\n \".format(MAE(y_train,gb.predict(X_train)),(gb.score(X_train,y_train))))\n",
        "print(\"MAE:{0:0.2f} \\nR2:{1:0.2f} \\n \".format(MAE(y_val,gb.predict(X_val)),(gb.score(X_val,y_val))))\n",
        "print(\"MAE:{0:0.2f} \\nR2:{1:0.2f} \\n \".format(MAE(y_test,gb.predict(X_test)),(gb.score(X_test,y_test))))"
      ],
      "metadata": {
        "colab": {
          "base_uri": "https://localhost:8080/"
        },
        "id": "InncxiCayM4j",
        "outputId": "0c65d254-b769-400e-807c-2f2b2a369680"
      },
      "execution_count": null,
      "outputs": [
        {
          "output_type": "stream",
          "name": "stdout",
          "text": [
            "MAE:0.25 \n",
            "R2:0.90 \n",
            " \n",
            "MAE:0.33 \n",
            "R2:0.83 \n",
            " \n",
            "MAE:0.38 \n",
            "R2:0.78 \n",
            " \n"
          ]
        }
      ]
    },
    {
      "cell_type": "code",
      "execution_count": null,
      "metadata": {
        "id": "3rUY917xcCNZ"
      },
      "outputs": [],
      "source": [
        "xgb_y_pred_train=gb.predict(X_train)\n",
        "xgb_y_pred_val=gb.predict(X_val)\n",
        "xgb_y_pred_test=gb.predict(X_test)"
      ]
    },
    {
      "cell_type": "markdown",
      "source": [
        "### KPCA\n",
        "**MSE**\n",
        "1. $MSE: 0.134$\n",
        "\n",
        "   $R^2:0.925$\n",
        " \n",
        "2. $MSE: 0.252$ \n",
        "\n",
        "   $R^2:0.855$\n",
        " \n",
        "3. $MSE: 0.373$\n",
        "\n",
        "   $R^2:0.793$\n",
        "**MAE**\n",
        "1. $MAE:0.153$\n",
        "\n",
        "   $R^2:0.921$ \n",
        " \n",
        "2. $MAE:0.306$\n",
        "\n",
        "   $R^2:0.880$ \n",
        " \n",
        "3. $MAE:0.347$\n",
        "\n",
        "   $R^2:0.816$\n",
        "\n",
        "### Without Kpca\n",
        "**MSE**\n",
        "1. MSE:0.17 \n",
        "\n",
        "  R2:0.90 \n",
        " \n",
        "2. MSE:0.30 \n",
        "\n",
        "  R2:0.83 \n",
        " \n",
        "3. MSE:0.40 \n",
        "\n",
        " R2:0.78 \n",
        "\n",
        "**MAE**\n",
        "1. $MAE:0.25$ \n",
        "\n",
        "   $R2:0.87$\n",
        " \n",
        "2. $MAE:0.32$\n",
        "\n",
        "   $R2:0.86$ \n",
        " \n",
        "3. $MAE:0.38$ \n",
        "\n",
        "   $R2:0.78$"
      ],
      "metadata": {
        "id": "2JHAskjvxiIP"
      }
    },
    {
      "cell_type": "markdown",
      "metadata": {
        "id": "kEAHK8qucdza"
      },
      "source": [
        "\n",
        "## Deep Neual Network\n"
      ]
    },
    {
      "cell_type": "code",
      "execution_count": null,
      "metadata": {
        "id": "AIJUOjoIFrPK"
      },
      "outputs": [],
      "source": [
        "from keras import backend as K\n",
        "\n",
        "def coeff_determination(y_true, y_pred):\n",
        "    SS_res =  K.sum(K.square( y_true-y_pred )) \n",
        "    SS_tot = K.sum(K.square( y_true - K.mean(y_true) ) ) \n",
        "    return ( 1 - SS_res/(SS_tot + K.epsilon()) )"
      ]
    },
    {
      "cell_type": "code",
      "source": [
        "import tensorflow as tf"
      ],
      "metadata": {
        "id": "eYEnst49QCc7"
      },
      "execution_count": null,
      "outputs": []
    },
    {
      "cell_type": "code",
      "source": [
        "from numpy.random import seed\n",
        "seed(1)\n"
      ],
      "metadata": {
        "id": "K4PMnSPwZ8ds"
      },
      "execution_count": null,
      "outputs": []
    },
    {
      "cell_type": "code",
      "source": [
        "w_init=tf.random_uniform_initializer(-0.003,0.003)\n",
        "np.random.seed(42)"
      ],
      "metadata": {
        "id": "NlSK6RGzxtcV"
      },
      "execution_count": null,
      "outputs": []
    },
    {
      "cell_type": "code",
      "source": [
        "X_train.shape[1]"
      ],
      "metadata": {
        "colab": {
          "base_uri": "https://localhost:8080/"
        },
        "id": "y9o7Hp6cj1CZ",
        "outputId": "e690e10c-af88-41b1-b9dc-64823eced834"
      },
      "execution_count": null,
      "outputs": [
        {
          "output_type": "execute_result",
          "data": {
            "text/plain": [
              "17"
            ]
          },
          "metadata": {},
          "execution_count": 432
        }
      ]
    },
    {
      "cell_type": "code",
      "source": [
        "from tensorflow.keras import layers\n",
        "from keras.callbacks import ModelCheckpoint\n",
        "from keras.models import load_model\n",
        "from tensorflow import keras\n",
        "mc = ModelCheckpoint('best_model.h5', monitor='val_coeff_determination', mode='max', verbose=1, save_best_only=True)\n",
        "model = keras.Sequential([\n",
        "    layers.Dense(128, kernel_initializer='normal',activation='relu',input_shape=[X_train.shape[1]]),\n",
        "    layers.Dense(256, kernel_initializer='normal',activation='relu'),\n",
        "    layers.Dense(256,  kernel_initializer='normal',activation='relu'),\n",
        "    layers.Dense(256,  kernel_initializer='normal',activation='relu'),\n",
        "    layers.Dense(256,  kernel_initializer='normal',activation='relu'),\n",
        "    layers.Dense(1),\n",
        "])"
      ],
      "metadata": {
        "id": "CVDwll3aP_av"
      },
      "execution_count": null,
      "outputs": []
    },
    {
      "cell_type": "code",
      "source": [
        "print(\"Num GPUs Available: \", len(tf.config.experimental.list_physical_devices('GPU')))"
      ],
      "metadata": {
        "colab": {
          "base_uri": "https://localhost:8080/"
        },
        "id": "okj1YPnuZV9A",
        "outputId": "1b95cacb-58fb-4121-d741-4d87cffc7ef7"
      },
      "execution_count": null,
      "outputs": [
        {
          "output_type": "stream",
          "name": "stdout",
          "text": [
            "Num GPUs Available:  1\n"
          ]
        }
      ]
    },
    {
      "cell_type": "code",
      "source": [
        "config = tf.compat.v1.ConfigProto()\n",
        "config.gpu_options.allow_growth=True\n",
        "sess = tf.compat.v1.Session(config=config)"
      ],
      "metadata": {
        "id": "w7R13cvLZ8V9"
      },
      "execution_count": null,
      "outputs": []
    },
    {
      "cell_type": "code",
      "source": [
        "from gc import callbacks\n",
        "optimizer = keras.optimizers.Adam(learning_rate=0.01)\n",
        "model.compile(loss='mse' , optimizer=optimizer, metrics=[coeff_determination,'mse'])\n",
        "with tf.device('/gpu:0'):\n",
        "    history = model.fit(X_train, y_train,validation_data=(X_val, y_val),batch_size=16,epochs=1500,verbose=1,callbacks=[mc])"
      ],
      "metadata": {
        "id": "rbOT9LuFQLEE"
      },
      "execution_count": null,
      "outputs": []
    },
    {
      "cell_type": "code",
      "source": [
        "# Show the learning curves\n",
        "history_df = pd.DataFrame(history.history)\n",
        "history_df.loc[:, ['loss', 'val_loss']].plot();\n",
        "plt.xlabel(\"Epochs\")\n",
        "plt.ylabel(\"Mean Squared Error\")\n",
        "# plt.savefig(\"fig.png\")\n",
        "# files.download('fig.png')"
      ],
      "metadata": {
        "colab": {
          "base_uri": "https://localhost:8080/",
          "height": 296
        },
        "id": "mjWq242lz4jV",
        "outputId": "b1e76e4b-2ca0-4e3c-fafd-838708e187f7"
      },
      "execution_count": null,
      "outputs": [
        {
          "output_type": "execute_result",
          "data": {
            "text/plain": [
              "Text(0, 0.5, 'Mean Squared Error')"
            ]
          },
          "metadata": {},
          "execution_count": 557
        },
        {
          "output_type": "display_data",
          "data": {
            "text/plain": [
              "<Figure size 432x288 with 1 Axes>"
            ],
            "image/png": "[encoded data removed]"
          },
          "metadata": {
            "needs_background": "light"
          }
        }
      ]
    },
    {
      "cell_type": "code",
      "source": [
        "saved_model = load_model('best_model.h5',custom_objects={\"coeff_determination\":coeff_determination})\n"
      ],
      "metadata": {
        "id": "5AS2VfqkzwHo"
      },
      "execution_count": null,
      "outputs": []
    },
    {
      "cell_type": "code",
      "source": [
        "r2_train =r2_score(y_train,saved_model.predict(X_train))"
      ],
      "metadata": {
        "id": "lpaPj7t3Qdi9"
      },
      "execution_count": null,
      "outputs": []
    },
    {
      "cell_type": "code",
      "source": [
        "r2_test=r2_score(y_test,saved_model.predict(X_test))"
      ],
      "metadata": {
        "id": "LAXb9mEgQ8pc"
      },
      "execution_count": null,
      "outputs": []
    },
    {
      "cell_type": "code",
      "source": [
        "r2_val = r2_score(y_val,saved_model.predict(X_val))"
      ],
      "metadata": {
        "id": "7oq254bFRBCX"
      },
      "execution_count": null,
      "outputs": []
    },
    {
      "cell_type": "code",
      "source": [
        "print(\"r2 score of train: \",r2_train)\n",
        "print(\"r2 score of validation: \",r2_val)\n",
        "print(\"r2 score of test : \",r2_test,'\\n')\n",
        "\n",
        "\n",
        "print(\"Complete R2 score : \",(r2_train+r2_test+r2_val)/3.0)"
      ],
      "metadata": {
        "colab": {
          "base_uri": "https://localhost:8080/"
        },
        "id": "IwZunUy-1LQa",
        "outputId": "4044fef7-4943-41d6-8a10-bdd8cab11814"
      },
      "execution_count": null,
      "outputs": [
        {
          "output_type": "stream",
          "name": "stdout",
          "text": [
            "r2 score of train:  0.8639636666772124\n",
            "r2 score of validation:  0.9286322762185687\n",
            "r2 score of test :  0.7743767062916259 \n",
            "\n",
            "Complete R2 score :  0.8556575497291358\n"
          ]
        }
      ]
    },
    {
      "cell_type": "code",
      "source": [
        "print(\"MSE:{0:0.2f} \\nR2:{1:0.2f} \\n \".format(MSE(y_train,saved_model.predict(X_train)),r2_train))\n",
        "print(\"MSE:{0:0.2f} \\nR2:{1:0.2f} \\n \".format(MSE(y_val,saved_model.predict(X_val)),r2_val))\n",
        "print(\"MSE:{0:0.2f} \\nR2:{1:0.2f} \\n \".format(MSE(y_test,saved_model.predict(X_test)),r2_test))"
      ],
      "metadata": {
        "colab": {
          "base_uri": "https://localhost:8080/"
        },
        "id": "xL9zCtFY0ZWo",
        "outputId": "cf4f318a-4189-4334-9c24-bdd2c2add7c7"
      },
      "execution_count": null,
      "outputs": [
        {
          "output_type": "stream",
          "name": "stdout",
          "text": [
            "MSE:0.24 \n",
            "R2:0.86 \n",
            " \n",
            "MSE:0.12 \n",
            "R2:0.93 \n",
            " \n",
            "MSE:0.41 \n",
            "R2:0.77 \n",
            " \n"
          ]
        }
      ]
    },
    {
      "cell_type": "code",
      "source": [
        "print(\"MAE:{0:0.2f} \\nR2:{1:0.2f} \\n \".format(MAE(y_train,saved_model.predict(X_train)),r2_train))\n",
        "print(\"MAE:{0:0.2f} \\nR2:{1:0.2f} \\n \".format(MAE(y_val,saved_model.predict(X_val)),r2_val))\n",
        "print(\"MAE:{0:0.2f} \\nR2:{1:0.2f} \\n \".format(MAE(y_test,saved_model.predict(X_test)),r2_test))"
      ],
      "metadata": {
        "colab": {
          "base_uri": "https://localhost:8080/"
        },
        "id": "TcWOYHzU1fru",
        "outputId": "ea84832a-df44-4ade-cd16-829d807b76cf"
      },
      "execution_count": null,
      "outputs": [
        {
          "output_type": "stream",
          "name": "stdout",
          "text": [
            "MAE:0.27 \n",
            "R2:0.86 \n",
            " \n",
            "MAE:0.24 \n",
            "R2:0.93 \n",
            " \n",
            "MAE:0.39 \n",
            "R2:0.77 \n",
            " \n"
          ]
        }
      ]
    },
    {
      "cell_type": "markdown",
      "source": [
        "### KPCA\n",
        "**MSE**\n",
        "1. $MSE: 0.239$\n",
        "\n",
        "   $R2:0.866$\n",
        " \n",
        "2. $MSE: 0.166$\n",
        "\n",
        "   $R2:0.904$\n",
        " \n",
        "3. $MSE: 0.336$\n",
        "\n",
        "   $R2:0.814$\n",
        "**MAE**\n",
        "1. $MAE:0.245$\n",
        "\n",
        "   $R^2:0.856$\n",
        " \n",
        "2. $MAE: 0.258$\n",
        "\n",
        "   $R^2:0.914$\n",
        " \n",
        "3. $MAE: 0.339$\n",
        "\n",
        "   $R^2:0.817$\n",
        "**Without KPCA**\n",
        "**MSE** \n",
        "\n",
        "1. $MSE:0.24$ \n",
        "\n",
        "   $R^2:0.86$ \n",
        " \n",
        "2. $MSE:0.12$\n",
        "\n",
        "   $R^2:0.93$ \n",
        " \n",
        "3. $MSE:0.41$ \n",
        "\n",
        "   $R^2:0.77$ \n",
        "**MAE**\n",
        "1. $MAE:0.22$\n",
        "\n",
        "   $R^2:0.84$ \n",
        " \n",
        "2. $MAE:0.19$ \n",
        "\n",
        "   $R^2:0.94$\n",
        " \n",
        "3. $MAE:0.40$\n",
        "\n",
        "   $R^2:0.76$\n"
      ],
      "metadata": {
        "id": "XoLH-Oy81IGN"
      }
    },
    {
      "cell_type": "markdown",
      "source": [
        "## K Nearest  Neighbours"
      ],
      "metadata": {
        "id": "ExacDgFUUoZQ"
      }
    },
    {
      "cell_type": "code",
      "source": [
        "from sklearn.model_selection import GridSearchCV\n",
        "from sklearn.neighbors import KNeighborsRegressor\n",
        "grid_params = { 'n_neighbors' : [i for i in range(1,16)],\n",
        "               'weights' : ['uniform','distance'],\n",
        "               'algorithm':['auto', 'ball_tree', 'kd_tree', 'brute'],\n",
        "               'metric' : ['euclidean','minkowski']}\n",
        "gs = GridSearchCV(KNeighborsRegressor(), grid_params, verbose = 1,n_jobs = -1)"
      ],
      "metadata": {
        "id": "K4MQkaIWWJZY"
      },
      "execution_count": null,
      "outputs": []
    },
    {
      "cell_type": "code",
      "source": [
        "gs.fit(X_train,y_train)"
      ],
      "metadata": {
        "colab": {
          "base_uri": "https://localhost:8080/"
        },
        "id": "Z66865K3Wj2R",
        "outputId": "a9ba404b-fe5b-4303-ca27-995991b8d46b"
      },
      "execution_count": null,
      "outputs": [
        {
          "output_type": "stream",
          "name": "stdout",
          "text": [
            "Fitting 5 folds for each of 240 candidates, totalling 1200 fits\n"
          ]
        },
        {
          "output_type": "execute_result",
          "data": {
            "text/plain": [
              "GridSearchCV(estimator=KNeighborsRegressor(), n_jobs=-1,\n",
              "             param_grid={'algorithm': ['auto', 'ball_tree', 'kd_tree', 'brute'],\n",
              "                         'metric': ['euclidean', 'minkowski'],\n",
              "                         'n_neighbors': [1, 2, 3, 4, 5, 6, 7, 8, 9, 10, 11, 12,\n",
              "                                         13, 14, 15],\n",
              "                         'weights': ['uniform', 'distance']},\n",
              "             verbose=1)"
            ]
          },
          "metadata": {},
          "execution_count": 446
        }
      ]
    },
    {
      "cell_type": "code",
      "source": [
        "gs.best_params_"
      ],
      "metadata": {
        "colab": {
          "base_uri": "https://localhost:8080/"
        },
        "id": "xJKoAqKfXXXj",
        "outputId": "4c7d0b1b-3922-413a-984b-658279feeed3"
      },
      "execution_count": null,
      "outputs": [
        {
          "output_type": "execute_result",
          "data": {
            "text/plain": [
              "{'algorithm': 'ball_tree',\n",
              " 'metric': 'euclidean',\n",
              " 'n_neighbors': 7,\n",
              " 'weights': 'uniform'}"
            ]
          },
          "metadata": {},
          "execution_count": 447
        }
      ]
    },
    {
      "cell_type": "code",
      "source": [
        "print(\"\\n Train score : \",gs.score(X_train,y_train),\n",
        "\"\\n Validation score:\",gs.score(X_val,y_val),\n",
        "\"\\n Test Score :\",gs.score(X_test,y_test),\n",
        "\"\\n Total score:\",(gs.score(X_train,y_train)+gs.score(X_val,y_val)+gs.score(X_test,y_test))/3.0)"
      ],
      "metadata": {
        "colab": {
          "base_uri": "https://localhost:8080/"
        },
        "id": "Zusex2OYWobB",
        "outputId": "06759fd4-5caa-431f-f51c-f0379851398c"
      },
      "execution_count": null,
      "outputs": [
        {
          "output_type": "stream",
          "name": "stdout",
          "text": [
            "\n",
            " Train score :  0.7994353953929206 \n",
            " Validation score: 0.766095132164888 \n",
            " Test Score : 0.8004526033734016 \n",
            " Total score: 0.7886610436437368\n"
          ]
        }
      ]
    },
    {
      "cell_type": "code",
      "source": [
        "from sklearn import neighbors\n",
        "n_neighbors =7\n",
        "for i, weights in enumerate([\"uniform\", \"distance\"]):\n",
        "    knn = neighbors.KNeighborsRegressor(n_neighbors, weights=weights)\n",
        "    y_ = gs.predict(X_train)\n",
        "\n",
        "    plt.subplot(2, 1, i + 1)\n",
        "    plt.scatter(X_train[:,1], y_train, color=\"darkorange\", label=\"data\")\n",
        "    plt.plot(X_train[:,1], y_, color=\"navy\", label=\"prediction\")\n",
        "    plt.axis(\"tight\")\n",
        "    plt.legend()\n",
        "    plt.title(\"KNeighborsRegressor (k = %i, weights = '%s')\" % (n_neighbors, weights))\n",
        "\n",
        "    plt.tight_layout()\n",
        "    plt.show()\n",
        "    plt.savefig(\"fig.tiff\")\n",
        "    files.download('fig.tiff')"
      ],
      "metadata": {
        "colab": {
          "base_uri": "https://localhost:8080/",
          "height": 428
        },
        "id": "55wr5-4zVtJu",
        "outputId": "2f0e188d-7dbe-4337-e62a-d6eb94e00d65"
      },
      "execution_count": null,
      "outputs": [
        {
          "output_type": "error",
          "ename": "TypeError",
          "evalue": "ignored",
          "traceback": [
            "\u001b[0;31m---------------------------------------------------------------------------\u001b[0m",
            "\u001b[0;31mTypeError\u001b[0m                                 Traceback (most recent call last)",
            "\u001b[0;32m<ipython-input-449-fd7d6b50eb3e>\u001b[0m in \u001b[0;36m<module>\u001b[0;34m()\u001b[0m\n\u001b[1;32m      6\u001b[0m \u001b[0;34m\u001b[0m\u001b[0m\n\u001b[1;32m      7\u001b[0m     \u001b[0mplt\u001b[0m\u001b[0;34m.\u001b[0m\u001b[0msubplot\u001b[0m\u001b[0;34m(\u001b[0m\u001b[0;36m2\u001b[0m\u001b[0;34m,\u001b[0m \u001b[0;36m1\u001b[0m\u001b[0;34m,\u001b[0m \u001b[0mi\u001b[0m \u001b[0;34m+\u001b[0m \u001b[0;36m1\u001b[0m\u001b[0;34m)\u001b[0m\u001b[0;34m\u001b[0m\u001b[0;34m\u001b[0m\u001b[0m\n\u001b[0;32m----> 8\u001b[0;31m     \u001b[0mplt\u001b[0m\u001b[0;34m.\u001b[0m\u001b[0mscatter\u001b[0m\u001b[0;34m(\u001b[0m\u001b[0mX_train\u001b[0m\u001b[0;34m[\u001b[0m\u001b[0;34m:\u001b[0m\u001b[0;34m,\u001b[0m\u001b[0;36m1\u001b[0m\u001b[0;34m]\u001b[0m\u001b[0;34m,\u001b[0m \u001b[0my_train\u001b[0m\u001b[0;34m,\u001b[0m \u001b[0mcolor\u001b[0m\u001b[0;34m=\u001b[0m\u001b[0;34m\"darkorange\"\u001b[0m\u001b[0;34m,\u001b[0m \u001b[0mlabel\u001b[0m\u001b[0;34m=\u001b[0m\u001b[0;34m\"data\"\u001b[0m\u001b[0;34m)\u001b[0m\u001b[0;34m\u001b[0m\u001b[0;34m\u001b[0m\u001b[0m\n\u001b[0m\u001b[1;32m      9\u001b[0m     \u001b[0mplt\u001b[0m\u001b[0;34m.\u001b[0m\u001b[0mplot\u001b[0m\u001b[0;34m(\u001b[0m\u001b[0mX_train\u001b[0m\u001b[0;34m[\u001b[0m\u001b[0;34m:\u001b[0m\u001b[0;34m,\u001b[0m\u001b[0;36m1\u001b[0m\u001b[0;34m]\u001b[0m\u001b[0;34m,\u001b[0m \u001b[0my_\u001b[0m\u001b[0;34m,\u001b[0m \u001b[0mcolor\u001b[0m\u001b[0;34m=\u001b[0m\u001b[0;34m\"navy\"\u001b[0m\u001b[0;34m,\u001b[0m \u001b[0mlabel\u001b[0m\u001b[0;34m=\u001b[0m\u001b[0;34m\"prediction\"\u001b[0m\u001b[0;34m)\u001b[0m\u001b[0;34m\u001b[0m\u001b[0;34m\u001b[0m\u001b[0m\n\u001b[1;32m     10\u001b[0m     \u001b[0mplt\u001b[0m\u001b[0;34m.\u001b[0m\u001b[0maxis\u001b[0m\u001b[0;34m(\u001b[0m\u001b[0;34m\"tight\"\u001b[0m\u001b[0;34m)\u001b[0m\u001b[0;34m\u001b[0m\u001b[0;34m\u001b[0m\u001b[0m\n",
            "\u001b[0;32m/usr/local/lib/python3.7/dist-packages/pandas/core/frame.py\u001b[0m in \u001b[0;36m__getitem__\u001b[0;34m(self, key)\u001b[0m\n\u001b[1;32m   3456\u001b[0m             \u001b[0;32mif\u001b[0m \u001b[0mself\u001b[0m\u001b[0;34m.\u001b[0m\u001b[0mcolumns\u001b[0m\u001b[0;34m.\u001b[0m\u001b[0mnlevels\u001b[0m \u001b[0;34m>\u001b[0m \u001b[0;36m1\u001b[0m\u001b[0;34m:\u001b[0m\u001b[0;34m\u001b[0m\u001b[0;34m\u001b[0m\u001b[0m\n\u001b[1;32m   3457\u001b[0m                 \u001b[0;32mreturn\u001b[0m \u001b[0mself\u001b[0m\u001b[0;34m.\u001b[0m\u001b[0m_getitem_multilevel\u001b[0m\u001b[0;34m(\u001b[0m\u001b[0mkey\u001b[0m\u001b[0;34m)\u001b[0m\u001b[0;34m\u001b[0m\u001b[0;34m\u001b[0m\u001b[0m\n\u001b[0;32m-> 3458\u001b[0;31m             \u001b[0mindexer\u001b[0m \u001b[0;34m=\u001b[0m \u001b[0mself\u001b[0m\u001b[0;34m.\u001b[0m\u001b[0mcolumns\u001b[0m\u001b[0;34m.\u001b[0m\u001b[0mget_loc\u001b[0m\u001b[0;34m(\u001b[0m\u001b[0mkey\u001b[0m\u001b[0;34m)\u001b[0m\u001b[0;34m\u001b[0m\u001b[0;34m\u001b[0m\u001b[0m\n\u001b[0m\u001b[1;32m   3459\u001b[0m             \u001b[0;32mif\u001b[0m \u001b[0mis_integer\u001b[0m\u001b[0;34m(\u001b[0m\u001b[0mindexer\u001b[0m\u001b[0;34m)\u001b[0m\u001b[0;34m:\u001b[0m\u001b[0;34m\u001b[0m\u001b[0;34m\u001b[0m\u001b[0m\n\u001b[1;32m   3460\u001b[0m                 \u001b[0mindexer\u001b[0m \u001b[0;34m=\u001b[0m \u001b[0;34m[\u001b[0m\u001b[0mindexer\u001b[0m\u001b[0;34m]\u001b[0m\u001b[0;34m\u001b[0m\u001b[0;34m\u001b[0m\u001b[0m\n",
            "\u001b[0;32m/usr/local/lib/python3.7/dist-packages/pandas/core/indexes/base.py\u001b[0m in \u001b[0;36mget_loc\u001b[0;34m(self, key, method, tolerance)\u001b[0m\n\u001b[1;32m   3359\u001b[0m             \u001b[0mcasted_key\u001b[0m \u001b[0;34m=\u001b[0m \u001b[0mself\u001b[0m\u001b[0;34m.\u001b[0m\u001b[0m_maybe_cast_indexer\u001b[0m\u001b[0;34m(\u001b[0m\u001b[0mkey\u001b[0m\u001b[0;34m)\u001b[0m\u001b[0;34m\u001b[0m\u001b[0;34m\u001b[0m\u001b[0m\n\u001b[1;32m   3360\u001b[0m             \u001b[0;32mtry\u001b[0m\u001b[0;34m:\u001b[0m\u001b[0;34m\u001b[0m\u001b[0;34m\u001b[0m\u001b[0m\n\u001b[0;32m-> 3361\u001b[0;31m                 \u001b[0;32mreturn\u001b[0m \u001b[0mself\u001b[0m\u001b[0;34m.\u001b[0m\u001b[0m_engine\u001b[0m\u001b[0;34m.\u001b[0m\u001b[0mget_loc\u001b[0m\u001b[0;34m(\u001b[0m\u001b[0mcasted_key\u001b[0m\u001b[0;34m)\u001b[0m\u001b[0;34m\u001b[0m\u001b[0;34m\u001b[0m\u001b[0m\n\u001b[0m\u001b[1;32m   3362\u001b[0m             \u001b[0;32mexcept\u001b[0m \u001b[0mKeyError\u001b[0m \u001b[0;32mas\u001b[0m \u001b[0merr\u001b[0m\u001b[0;34m:\u001b[0m\u001b[0;34m\u001b[0m\u001b[0;34m\u001b[0m\u001b[0m\n\u001b[1;32m   3363\u001b[0m                 \u001b[0;32mraise\u001b[0m \u001b[0mKeyError\u001b[0m\u001b[0;34m(\u001b[0m\u001b[0mkey\u001b[0m\u001b[0;34m)\u001b[0m \u001b[0;32mfrom\u001b[0m \u001b[0merr\u001b[0m\u001b[0;34m\u001b[0m\u001b[0;34m\u001b[0m\u001b[0m\n",
            "\u001b[0;32m/usr/local/lib/python3.7/dist-packages/pandas/_libs/index.pyx\u001b[0m in \u001b[0;36mpandas._libs.index.IndexEngine.get_loc\u001b[0;34m()\u001b[0m\n",
            "\u001b[0;32m/usr/local/lib/python3.7/dist-packages/pandas/_libs/index.pyx\u001b[0m in \u001b[0;36mpandas._libs.index.IndexEngine.get_loc\u001b[0;34m()\u001b[0m\n",
            "\u001b[0;31mTypeError\u001b[0m: '(slice(None, None, None), 1)' is an invalid key"
          ]
        },
        {
          "output_type": "display_data",
          "data": {
            "text/plain": [
              "<Figure size 432x288 with 1 Axes>"
            ],
            "image/png": "[encoded data removed]"
          },
          "metadata": {
            "needs_background": "light"
          }
        }
      ]
    },
    {
      "cell_type": "markdown",
      "source": [
        "One of the Most commonly used algorithms is K-Nearest Neighbors in machine Learning.It is a Lazy algorithm,has no or extremely short training phase compared to others.But Generating predictions will be slower.During training phase it stores the all data points using different Types of Data Structures.To make predictions,It finds the similarity between new sample and every data point in the training data set.Then it takes K nearest points and Averages them to find output variable.Similarity Between two points can be found by using the 3 different metrics:\n",
        "\n",
        "\n",
        "\n",
        "\n",
        "\\textbf{Euclidean Distance:} The sqare root over the sum of sqaures of difference between the  components of x and y.\n",
        "\\begin{equation}\n",
        "   d(x,y)= \\sqrt{\\sum_{i=1}^{n} (x_i-y_i)^2}=\\sqrt{(x_1-y_1)^2 + (x_2-y_2)^2 + (x_3-y_3)^2 + --+(x_n-y_n)^2}\n",
        "\\end{equation}\n",
        "\\textbf{Manhattan distance:}the sum of the absolute values of differences between the components of x and y coordinates:\n",
        "\\begin{equation}\n",
        "    d(x,y) = \\sum_{i=1}^{n} |x_i - y_i|\n",
        "\\end{equation}\n",
        "\\textbf{Minkowski distance} is the generalization of the above two techniques. It has a parameter p that takes a value of either 1 or 2. When p=1, formula becomes manhattan distance and p=2 for euclidean\n",
        "\n",
        "\\begin{equation}\n",
        "    minkowski(x,y) = (\\sum_{i=1}^n(x_i-y_i)^p)^{1/p}\n",
        "\\end{equation}\n",
        "\n",
        "After Hyperparameter tuning best Parameters are following \n",
        "\n",
        "$'algorithm': 'ball_tree',\n",
        " 'metric': 'euclidean',\n",
        " 'n_neighbors': 7,\n",
        " 'weights': 'uniform'$ \n"
      ],
      "metadata": {
        "id": "EGWToWA2A-zC"
      }
    },
    {
      "cell_type": "markdown",
      "metadata": {
        "id": "Kd_aCFzfIMlB"
      },
      "source": [
        "# Overall $ R^2 $ values of Train,test,validation datatest Using Average Ensembling method :\n"
      ]
    },
    {
      "cell_type": "code",
      "execution_count": null,
      "metadata": {
        "id": "uEc3bXpbFgM4"
      },
      "outputs": [],
      "source": [
        "y_pred_train=(rn1_y_pred_train+xgb_y_pred_train)/2.0\n",
        "y_pred_val=(rn1_y_pred_val+xgb_y_pred_val)/2.0\n",
        "y_pred_test=(rn1_y_pred_test+xgb_y_pred_test)/2.0"
      ]
    },
    {
      "cell_type": "code",
      "execution_count": null,
      "metadata": {
        "id": "20rPyr6qVusn"
      },
      "outputs": [],
      "source": [
        "print(\"r2 score of train: \",r2_score(y_train, y_pred_train))\n",
        "print(\"r2 score of validation: \",r2_score(y_val, y_pred_val))\n",
        "print(\"r2 score of test : \",r2_score(y_test, y_pred_test),'\\n')\n",
        "\n",
        "\n",
        "print(\"Complete R2 score : \",(r2_score(y_train, y_pred_train)+r2_score(y_val, y_pred_val)+r2_score(y_test, y_pred_test))/3.0)"
      ]
    },
    {
      "cell_type": "markdown",
      "metadata": {
        "id": "NbLuMmCLWawe"
      },
      "source": [
        "# Important Features"
      ]
    },
    {
      "cell_type": "markdown",
      "metadata": {
        "id": "P4FZjccIWdbu"
      },
      "source": [
        "## Gradient Bossting"
      ]
    },
    {
      "cell_type": "code",
      "execution_count": null,
      "metadata": {
        "colab": {
          "base_uri": "https://localhost:8080/",
          "height": 381
        },
        "id": "ayn9xpgGWUYI",
        "outputId": "26e0a42f-762e-4d17-9149-cd7de46708ec"
      },
      "outputs": [
        {
          "output_type": "error",
          "ename": "ValueError",
          "evalue": "ignored",
          "traceback": [
            "\u001b[0;31m---------------------------------------------------------------------------\u001b[0m",
            "\u001b[0;31mValueError\u001b[0m                                Traceback (most recent call last)",
            "\u001b[0;32m<ipython-input-187-301dd5359f13>\u001b[0m in \u001b[0;36m<module>\u001b[0;34m()\u001b[0m\n\u001b[0;32m----> 1\u001b[0;31m \u001b[0mfeat_imp\u001b[0m \u001b[0;34m=\u001b[0m \u001b[0mpd\u001b[0m\u001b[0;34m.\u001b[0m\u001b[0mSeries\u001b[0m\u001b[0;34m(\u001b[0m\u001b[0mreg\u001b[0m\u001b[0;34m.\u001b[0m\u001b[0mfeature_importances_\u001b[0m\u001b[0;34m,\u001b[0m\u001b[0mX_new\u001b[0m\u001b[0;34m.\u001b[0m\u001b[0mcolumns\u001b[0m\u001b[0;34m)\u001b[0m\u001b[0;34m.\u001b[0m\u001b[0msort_values\u001b[0m\u001b[0;34m(\u001b[0m\u001b[0mascending\u001b[0m\u001b[0;34m=\u001b[0m\u001b[0;32mFalse\u001b[0m\u001b[0;34m)\u001b[0m\u001b[0;34m\u001b[0m\u001b[0;34m\u001b[0m\u001b[0m\n\u001b[0m\u001b[1;32m      2\u001b[0m \u001b[0mfeat_imp\u001b[0m\u001b[0;34m.\u001b[0m\u001b[0mplot\u001b[0m\u001b[0;34m(\u001b[0m\u001b[0mkind\u001b[0m\u001b[0;34m=\u001b[0m\u001b[0;34m'bar'\u001b[0m\u001b[0;34m,\u001b[0m \u001b[0mtitle\u001b[0m\u001b[0;34m=\u001b[0m\u001b[0;34m'Feature Importances'\u001b[0m\u001b[0;34m)\u001b[0m\u001b[0;34m\u001b[0m\u001b[0;34m\u001b[0m\u001b[0m\n\u001b[1;32m      3\u001b[0m \u001b[0mplt\u001b[0m\u001b[0;34m.\u001b[0m\u001b[0mylabel\u001b[0m\u001b[0;34m(\u001b[0m\u001b[0;34m'Feature Importance Score'\u001b[0m\u001b[0;34m)\u001b[0m\u001b[0;34m\u001b[0m\u001b[0;34m\u001b[0m\u001b[0m\n\u001b[1;32m      4\u001b[0m \u001b[0mplt\u001b[0m\u001b[0;34m.\u001b[0m\u001b[0mfigure\u001b[0m \u001b[0;34m(\u001b[0m\u001b[0mfigsize\u001b[0m\u001b[0;34m=\u001b[0m\u001b[0;34m(\u001b[0m\u001b[0;36m8\u001b[0m\u001b[0;34m,\u001b[0m\u001b[0;36m5\u001b[0m\u001b[0;34m)\u001b[0m\u001b[0;34m)\u001b[0m\u001b[0;34m\u001b[0m\u001b[0;34m\u001b[0m\u001b[0m\n\u001b[1;32m      5\u001b[0m \u001b[0mplt\u001b[0m\u001b[0;34m.\u001b[0m\u001b[0mshow\u001b[0m\u001b[0;34m(\u001b[0m\u001b[0;34m)\u001b[0m\u001b[0;34m\u001b[0m\u001b[0;34m\u001b[0m\u001b[0m\n",
            "\u001b[0;32m/usr/local/lib/python3.7/dist-packages/pandas/core/series.py\u001b[0m in \u001b[0;36m__init__\u001b[0;34m(self, data, index, dtype, name, copy, fastpath)\u001b[0m\n\u001b[1;32m    428\u001b[0m                 \u001b[0mindex\u001b[0m \u001b[0;34m=\u001b[0m \u001b[0mibase\u001b[0m\u001b[0;34m.\u001b[0m\u001b[0mdefault_index\u001b[0m\u001b[0;34m(\u001b[0m\u001b[0mlen\u001b[0m\u001b[0;34m(\u001b[0m\u001b[0mdata\u001b[0m\u001b[0;34m)\u001b[0m\u001b[0;34m)\u001b[0m\u001b[0;34m\u001b[0m\u001b[0;34m\u001b[0m\u001b[0m\n\u001b[1;32m    429\u001b[0m             \u001b[0;32melif\u001b[0m \u001b[0mis_list_like\u001b[0m\u001b[0;34m(\u001b[0m\u001b[0mdata\u001b[0m\u001b[0;34m)\u001b[0m\u001b[0;34m:\u001b[0m\u001b[0;34m\u001b[0m\u001b[0;34m\u001b[0m\u001b[0m\n\u001b[0;32m--> 430\u001b[0;31m                 \u001b[0mcom\u001b[0m\u001b[0;34m.\u001b[0m\u001b[0mrequire_length_match\u001b[0m\u001b[0;34m(\u001b[0m\u001b[0mdata\u001b[0m\u001b[0;34m,\u001b[0m \u001b[0mindex\u001b[0m\u001b[0;34m)\u001b[0m\u001b[0;34m\u001b[0m\u001b[0;34m\u001b[0m\u001b[0m\n\u001b[0m\u001b[1;32m    431\u001b[0m \u001b[0;34m\u001b[0m\u001b[0m\n\u001b[1;32m    432\u001b[0m             \u001b[0;31m# create/copy the manager\u001b[0m\u001b[0;34m\u001b[0m\u001b[0;34m\u001b[0m\u001b[0;34m\u001b[0m\u001b[0m\n",
            "\u001b[0;32m/usr/local/lib/python3.7/dist-packages/pandas/core/common.py\u001b[0m in \u001b[0;36mrequire_length_match\u001b[0;34m(data, index)\u001b[0m\n\u001b[1;32m    530\u001b[0m     \u001b[0;32mif\u001b[0m \u001b[0mlen\u001b[0m\u001b[0;34m(\u001b[0m\u001b[0mdata\u001b[0m\u001b[0;34m)\u001b[0m \u001b[0;34m!=\u001b[0m \u001b[0mlen\u001b[0m\u001b[0;34m(\u001b[0m\u001b[0mindex\u001b[0m\u001b[0;34m)\u001b[0m\u001b[0;34m:\u001b[0m\u001b[0;34m\u001b[0m\u001b[0;34m\u001b[0m\u001b[0m\n\u001b[1;32m    531\u001b[0m         raise ValueError(\n\u001b[0;32m--> 532\u001b[0;31m             \u001b[0;34m\"Length of values \"\u001b[0m\u001b[0;34m\u001b[0m\u001b[0;34m\u001b[0m\u001b[0m\n\u001b[0m\u001b[1;32m    533\u001b[0m             \u001b[0;34mf\"({len(data)}) \"\u001b[0m\u001b[0;34m\u001b[0m\u001b[0;34m\u001b[0m\u001b[0m\n\u001b[1;32m    534\u001b[0m             \u001b[0;34m\"does not match length of index \"\u001b[0m\u001b[0;34m\u001b[0m\u001b[0;34m\u001b[0m\u001b[0m\n",
            "\u001b[0;31mValueError\u001b[0m: Length of values (10) does not match length of index (17)"
          ]
        }
      ],
      "source": [
        "feat_imp = pd.Series(reg.feature_importances_,X_new.columns).sort_values(ascending=False)\n",
        "feat_imp.plot(kind='bar', title='Feature Importances')\n",
        "plt.ylabel('Feature Importance Score')\n",
        "plt.figure (figsize=(8,5))\n",
        "plt.show()"
      ]
    },
    {
      "cell_type": "markdown",
      "metadata": {
        "id": "EScuiUFxWgrt"
      },
      "source": [
        "## Random Forest"
      ]
    },
    {
      "cell_type": "code",
      "execution_count": null,
      "metadata": {
        "id": "yGMm1jN1Wik8"
      },
      "outputs": [],
      "source": [
        "importance =grid.best_estimator_.feature_importances_\n",
        "x=dict()\n",
        "for i,v in enumerate(importance):\n",
        "  #print('Feature : {0}  , Score{1} '.format(X_train.columns[i],round(v,2)))\n",
        "  x[X_train.columns[i]]=round(v,2)\n",
        "#print(x)\n",
        "x=pd.DataFrame.from_dict(x,orient='index')\n",
        "x.sort_values(0,ascending=False,inplace=True)\n",
        "plt.figure (figsize=(6,6))\n",
        "sns.barplot(x=x.index,y=0,data=x)\n",
        "plt.xticks(rotation=90);"
      ]
    },
    {
      "cell_type": "markdown",
      "metadata": {
        "id": "WNfYnEb4Wmly"
      },
      "source": [
        "# Plotting"
      ]
    },
    {
      "cell_type": "code",
      "source": [
        "from mpl_toolkits import mplot3d"
      ],
      "metadata": {
        "id": "WCaM_ANKiwv-"
      },
      "execution_count": null,
      "outputs": []
    },
    {
      "cell_type": "code",
      "source": [
        "fig = plt.figure(figsize=(15,15))\n",
        "ax = plt.axes(projection='3d')\n",
        "ax.scatter3D(X_train[\"Pd\"],X_train[\"V\"],y_train,c=y_train)\n",
        "plt.xlim((0,1))"
      ],
      "metadata": {
        "id": "0R2m-Rj7izi8"
      },
      "execution_count": null,
      "outputs": []
    },
    {
      "cell_type": "code",
      "source": [
        "plt.figure(figsize=(20,20))\n",
        "plt.title(\"Gradient Boosting Model\")\n",
        "plt.scatter(X_train[\"Pd\"],y_train)\n",
        "plt.plot(X_train[\"Pd\"],reg.predict(X_train),color='r')\n",
        "plt.show()"
      ],
      "metadata": {
        "id": "9KN4BIHfh0qN"
      },
      "execution_count": null,
      "outputs": []
    },
    {
      "cell_type": "markdown",
      "metadata": {
        "id": "6yWJf5JBacwo"
      },
      "source": [
        "## Tree Diagram Of Random Forest"
      ]
    },
    {
      "cell_type": "code",
      "execution_count": null,
      "metadata": {
        "id": "qSYBv2D7Z5vB"
      },
      "outputs": [],
      "source": [
        "import graphviz\n",
        "from sklearn.tree import export_graphviz\n",
        "\n",
        "dot_data = export_graphviz(grid.best_estimator_.estimators_[0], \n",
        " \n",
        "                           filled=True, impurity=True, \n",
        "                           rounded=True)\n",
        "\n",
        "graph = graphviz.Source(dot_data, format='png')\n",
        "graph.save(\"fig.jpg\")\n",
        "#files.download('fig.png')\n",
        "files.download('fig.jpg')"
      ]
    },
    {
      "cell_type": "code",
      "execution_count": null,
      "metadata": {
        "id": "pLpRkdG2aNm5"
      },
      "outputs": [],
      "source": [
        "graph.render('figure_name')"
      ]
    },
    {
      "cell_type": "code",
      "execution_count": null,
      "metadata": {
        "id": "vHSwxqOmW0Eu"
      },
      "outputs": [],
      "source": [
        "my_cmap = matplotlib.colors.LinearSegmentedColormap.from_list(\"\", [\"yellow\",\"green\",\"blue\",\"Grey\"])"
      ]
    },
    {
      "cell_type": "code",
      "execution_count": null,
      "metadata": {
        "id": "amPBnD37W41p"
      },
      "outputs": [],
      "source": [
        "ax = plt.axes(projection='3d')\n",
        "ax.scatter(X_train[\"Ti\"],X_train[\"Pd\"],c=grid.predict(X_train),cmap='plasma');\n",
        "#ax.view_init(60,10)"
      ]
    },
    {
      "cell_type": "markdown",
      "metadata": {
        "id": "yMeJFuvvatGN"
      },
      "source": [
        "## ViolinPlot"
      ]
    },
    {
      "cell_type": "code",
      "execution_count": null,
      "metadata": {
        "id": "P0wG_LMTW6PH"
      },
      "outputs": [],
      "source": [
        "Data=X_new.copy()\n",
        "Data[\"%wt H\"] = new_dataset.iloc[:,-1]\n",
        "Data[\"Materials\"]=0\n",
        "for i in Data.index:\n",
        "    for j in [\"Nb\",\"Pd\",\"Fe\",\"V\",\"Ti\",\"Zr\",\"Cr\",\"Ni\"]:\n",
        "        if Data.loc[i,j] >= 0.5:\n",
        "            Data.loc[i,\"Materials\"]=j\n",
        "Data.drop(Data[Data[\"Materials\"]==0].index,inplace=True)\n",
        "Data.drop(0,inplace=True)"
      ]
    },
    {
      "cell_type": "code",
      "execution_count": null,
      "metadata": {
        "id": "6tDwwHjOXDTw"
      },
      "outputs": [],
      "source": [
        "plt.figure(figsize=(15,8))\t\n",
        "sns.set(style = 'whitegrid')\n",
        "\n",
        "sns.violinplot(x =\"Materials\",y =\"%wt H\",data = Data);\n",
        "plt.savefig(\"fig.png\")\n",
        "files.download('fig.png')"
      ]
    },
    {
      "cell_type": "code",
      "execution_count": null,
      "metadata": {
        "id": "RP_r0idgdXrk"
      },
      "outputs": [],
      "source": [
        ""
      ]
    }
  ],
  "metadata": {
    "colab": {
      "collapsed_sections": [
        "lQNVv8ZkVwke",
        "tInFP6EFV3iU",
        "KDBmj5vIi66D",
        "T1J_3OJNsPxQ",
        "ExacDgFUUoZQ",
        "Kd_aCFzfIMlB",
        "P4FZjccIWdbu",
        "EScuiUFxWgrt",
        "WNfYnEb4Wmly",
        "6yWJf5JBacwo",
        "yMeJFuvvatGN"
      ],
      "name": "BCC_Paper__FINAL.ipynb",
      "provenance": [],
      "include_colab_link": true
    },
    "kernelspec": {
      "display_name": "Python 3",
      "name": "python3"
    },
    "language_info": {
      "name": "python"
    },
    "accelerator": "GPU",
    "gpuClass": "standard"
  },
  "nbformat": 4,
  "nbformat_minor": 0
}